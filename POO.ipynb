{
 "cells": [
  {
   "cell_type": "markdown",
   "metadata": {},
   "source": [
    "# Indrodução à Programação Orientada à Objetos"
   ]
  },
  {
   "cell_type": "markdown",
   "metadata": {},
   "source": [
    "## Classes"
   ]
  },
  {
   "cell_type": "code",
   "execution_count": 1,
   "metadata": {},
   "outputs": [],
   "source": [
    "class Ponto():\n",
    "    \n",
    "    instances = 0\n",
    "    \n",
    "    def __init__(self, x, y):\n",
    "        self.x = x\n",
    "        self.y = y\n",
    "        Ponto.instances += 1\n",
    "        print('construída')\n",
    "        \n",
    "    def __del__(self):\n",
    "        Ponto.instances -= 1\n",
    "        print(f'destruída. total = {str(Ponto.instances)}')\n",
    "        \n",
    "    def distancia(self, outro_ponto):\n",
    "        cateto_1 = (self.x ** 2) + (outro_ponto.x ** 2)\n",
    "        cateto_2 = (self.y ** 2) + (outro_ponto.y ** 2)\n",
    "        hipotenusa = (cateto_1 + cateto_2)**(1/2)\n",
    "        return hipotenusa\n",
    "    \n",
    "    def __sub__(self, outro_ponto):\n",
    "        return self.distancia(outro_ponto)\n",
    "    \n",
    "    def __str__(self):\n",
    "        return f'{self.x}x{self.y}'"
   ]
  },
  {
   "cell_type": "code",
   "execution_count": 2,
   "metadata": {},
   "outputs": [
    {
     "name": "stdout",
     "output_type": "stream",
     "text": [
      "construída\n"
     ]
    },
    {
     "data": {
      "text/plain": [
       "(0, 0)"
      ]
     },
     "execution_count": 2,
     "metadata": {},
     "output_type": "execute_result"
    }
   ],
   "source": [
    "p1 = Ponto(0,0)\n",
    "p1.x, p1.y"
   ]
  },
  {
   "cell_type": "code",
   "execution_count": 3,
   "metadata": {},
   "outputs": [
    {
     "name": "stdout",
     "output_type": "stream",
     "text": [
      "construída\n"
     ]
    },
    {
     "data": {
      "text/plain": [
       "(3, 4)"
      ]
     },
     "execution_count": 3,
     "metadata": {},
     "output_type": "execute_result"
    }
   ],
   "source": [
    "p2 = Ponto(3,4)\n",
    "p2.x, p2.y"
   ]
  },
  {
   "cell_type": "code",
   "execution_count": 4,
   "metadata": {},
   "outputs": [
    {
     "data": {
      "text/plain": [
       "5.0"
      ]
     },
     "execution_count": 4,
     "metadata": {},
     "output_type": "execute_result"
    }
   ],
   "source": [
    "p1.distancia(p2)"
   ]
  },
  {
   "cell_type": "code",
   "execution_count": 5,
   "metadata": {},
   "outputs": [
    {
     "data": {
      "text/plain": [
       "5.0"
      ]
     },
     "execution_count": 5,
     "metadata": {},
     "output_type": "execute_result"
    }
   ],
   "source": [
    "p1 - p2"
   ]
  },
  {
   "cell_type": "code",
   "execution_count": 6,
   "metadata": {},
   "outputs": [
    {
     "name": "stdout",
     "output_type": "stream",
     "text": [
      "0x0 3x4\n"
     ]
    }
   ],
   "source": [
    "print(p1,p2)"
   ]
  },
  {
   "cell_type": "code",
   "execution_count": 7,
   "metadata": {},
   "outputs": [
    {
     "name": "stdout",
     "output_type": "stream",
     "text": [
      "destruída. total = 1\n"
     ]
    }
   ],
   "source": [
    "del p1"
   ]
  },
  {
   "cell_type": "code",
   "execution_count": 8,
   "metadata": {},
   "outputs": [
    {
     "name": "stdout",
     "output_type": "stream",
     "text": [
      "destruída. total = 0\n"
     ]
    }
   ],
   "source": [
    "del p2"
   ]
  },
  {
   "cell_type": "markdown",
   "metadata": {},
   "source": [
    "## Herança"
   ]
  },
  {
   "cell_type": "code",
   "execution_count": 10,
   "metadata": {},
   "outputs": [],
   "source": [
    "import pandas as pd"
   ]
  },
  {
   "cell_type": "code",
   "execution_count": 13,
   "metadata": {},
   "outputs": [
    {
     "name": "stdout",
     "output_type": "stream",
     "text": [
      "   0  1\n",
      "0  0  0\n",
      "1  1  1\n"
     ]
    }
   ],
   "source": [
    "dado = pd.DataFrame([[0,0],[1,1]])\n",
    "print(dado)"
   ]
  },
  {
   "cell_type": "code",
   "execution_count": 21,
   "metadata": {},
   "outputs": [],
   "source": [
    "class DataFrameCustom(pd.DataFrame):\n",
    "    def __str__(self):\n",
    "        return f'{self.shape[0]} linhas\\n{self.shape[1]} colunas'"
   ]
  },
  {
   "cell_type": "code",
   "execution_count": 22,
   "metadata": {},
   "outputs": [
    {
     "name": "stdout",
     "output_type": "stream",
     "text": [
      "2 linhas\n",
      "2 colunas\n"
     ]
    }
   ],
   "source": [
    "dado = DataFrameCustom([[0,0],[1,1]])\n",
    "print(dado)"
   ]
  },
  {
   "cell_type": "code",
   "execution_count": 31,
   "metadata": {},
   "outputs": [],
   "source": [
    "class Cliente():\n",
    "    def __init__(self, nome, sobrenome, idade):\n",
    "        self.nome = nome\n",
    "        self.sobrenome = sobrenome\n",
    "        self.idade = idade\n",
    "        \n",
    "    def __str__(self):\n",
    "        return f'Cliente = {self.nome} {self.sobrenome}'"
   ]
  },
  {
   "cell_type": "code",
   "execution_count": 32,
   "metadata": {},
   "outputs": [],
   "source": [
    "class ClientePro(Cliente):\n",
    "    \n",
    "    def __init__(self, nome, sobrenome, idade, email):\n",
    "        self.nome = nome\n",
    "        self.sobrenome = sobrenome\n",
    "        self.idade = idade\n",
    "        self.email = email\n",
    "        \n",
    "    def criar_email(self, email):\n",
    "        self.email = email\n",
    "        \n",
    "    def __str__(self):\n",
    "        return f'ClientePro = {self.email}'"
   ]
  },
  {
   "cell_type": "code",
   "execution_count": 33,
   "metadata": {},
   "outputs": [],
   "source": [
    "cliente = Cliente('John','Doe',40)"
   ]
  },
  {
   "cell_type": "code",
   "execution_count": 34,
   "metadata": {},
   "outputs": [],
   "source": [
    "cliente_pro = ClientePro('Jack','Ripper', 70,'j@ripper.com')"
   ]
  },
  {
   "cell_type": "code",
   "execution_count": 35,
   "metadata": {},
   "outputs": [
    {
     "name": "stdout",
     "output_type": "stream",
     "text": [
      "Cliente = John Doe ClientePro = j@ripper.com\n"
     ]
    }
   ],
   "source": [
    "print(cliente, cliente_pro)"
   ]
  },
  {
   "cell_type": "code",
   "execution_count": null,
   "metadata": {},
   "outputs": [],
   "source": []
  }
 ],
 "metadata": {
  "kernelspec": {
   "display_name": "Python 3",
   "language": "python",
   "name": "python3"
  },
  "language_info": {
   "codemirror_mode": {
    "name": "ipython",
    "version": 3
   },
   "file_extension": ".py",
   "mimetype": "text/x-python",
   "name": "python",
   "nbconvert_exporter": "python",
   "pygments_lexer": "ipython3",
   "version": "3.7.3"
  }
 },
 "nbformat": 4,
 "nbformat_minor": 4
}
