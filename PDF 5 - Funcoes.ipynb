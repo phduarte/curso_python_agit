{
 "cells": [
  {
   "cell_type": "markdown",
   "metadata": {},
   "source": [
    "# Funcoes\n",
    "\n",
    "Funcoes permitem que voce defina um conjunto de acoes e repita esse conjunto de acoes quando queira chamando pelo nome da funcao. Quando criamos uma funcao voce pode especificar exatamente o tipo de informacao necessaria para roda o codigo. \n",
    "\n",
    "Funcoes ajudam que seu codigo seja organizado, conciso e facil de se construir em cima.\n",
    "\n",
    "## Sobre funcoes\n",
    "\n",
    "- O que é uma funcao?\n",
    "\n",
    "Funcao é um bloco de codigo do qual vc nomeia afim de poder reusá-lo novamente. \n",
    "\n",
    "\n",
    "- Como voce define uma funcao?\n",
    "\n",
    "Voce define uma funcao iniciando a linha por ```def``` seguido do nome da funcao, e parenteses onde dentro desses são colocados todos os argumentos, por fim usamos ```:```.\n",
    "\n",
    "Na linha abaixo, colocamos uma ```docstring``` que consiste em uma breve descricao do que a funcao faz. Para criar uma ```docstring``` basta adicionar tres aspas duplas \n",
    "\n",
    "```python\n",
    "\n",
    "# exemplo funcao comum\n",
    "\n",
    "def nome_da_funcao( parametros ):\n",
    "    \"\"\" Explicacao do uso da funcao \"\"\"\n",
    "    o_que_eh_feito_e_some = 0\n",
    "    expressao = o_que_eh_feito_e_some\n",
    "    return expressao\n",
    "\n",
    "\n",
    "# exemplo funcao anonima\n",
    "\n",
    "variavel = lambda parametros: parametros + 1 # expressao\n",
    "\n",
    "variavel(10)\n",
    "\n",
    "```\n"
   ]
  },
  {
   "cell_type": "markdown",
   "metadata": {},
   "source": [
    "## Criando funcoes"
   ]
  },
  {
   "cell_type": "code",
   "execution_count": 1,
   "metadata": {
    "ExecuteTime": {
     "end_time": "2019-08-14T18:48:22.556549Z",
     "start_time": "2019-08-14T18:48:22.544318Z"
    }
   },
   "outputs": [],
   "source": [
    "def hello():\n",
    "    \"\"\" Cumprimentar a todos \"\"\"\n",
    "    print(f'Olá a todos!')"
   ]
  },
  {
   "cell_type": "markdown",
   "metadata": {},
   "source": [
    "- Como voce chama (ativa) uma funcao?\n",
    "\n"
   ]
  },
  {
   "cell_type": "code",
   "execution_count": 2,
   "metadata": {
    "ExecuteTime": {
     "end_time": "2019-08-07T19:26:29.27129Z",
     "start_time": "2019-08-07T19:26:29.251169Z"
    }
   },
   "outputs": [
    {
     "name": "stdout",
     "output_type": "stream",
     "text": [
      "Olá a todos!\n"
     ]
    }
   ],
   "source": [
    "hello()"
   ]
  },
  {
   "cell_type": "markdown",
   "metadata": {},
   "source": [
    "## Renomeando funcoes"
   ]
  },
  {
   "cell_type": "code",
   "execution_count": null,
   "metadata": {},
   "outputs": [],
   "source": [
    "c = hello"
   ]
  },
  {
   "cell_type": "code",
   "execution_count": null,
   "metadata": {},
   "outputs": [],
   "source": [
    "c()"
   ]
  },
  {
   "cell_type": "markdown",
   "metadata": {},
   "source": [
    "## Passando argumentos\n",
    "\n",
    "- O que é um parametro?\n",
    "\n",
    "Parametro é uma informacao que a funcao necessita para fazer o seu trabalho.\n",
    "\n",
    "- O que é um argumento?\n",
    "\n",
    "O argumento é um valor passado a uma funcao.\n",
    "\n",
    "- Como voce escreve uma funcao que recebe uma informacao?\n",
    "\n",
    "Para definir parametros para uma funcao, coloque eles entre parenteses, isso faz com que a funcao necessite de um paramentro.\n"
   ]
  },
  {
   "cell_type": "code",
   "execution_count": 19,
   "metadata": {
    "ExecuteTime": {
     "end_time": "2019-08-14T20:57:30.048124Z",
     "start_time": "2019-08-14T20:57:30.032664Z"
    }
   },
   "outputs": [],
   "source": [
    "def hello(nome_da_pessoa):\n",
    "    \"\"\" Cumprimentar a todos \"\"\"\n",
    "    print(f'Olá a {nome_da_pessoa}!')"
   ]
  },
  {
   "cell_type": "markdown",
   "metadata": {},
   "source": [
    "\n",
    "- Como voce passa argumentos em uma funcao?"
   ]
  },
  {
   "cell_type": "code",
   "execution_count": 20,
   "metadata": {
    "ExecuteTime": {
     "end_time": "2019-08-14T20:57:42.741007Z",
     "start_time": "2019-08-14T20:57:42.729119Z"
    }
   },
   "outputs": [
    {
     "name": "stdout",
     "output_type": "stream",
     "text": [
      "Olá a Alan!\n"
     ]
    }
   ],
   "source": [
    "hello('Alan')"
   ]
  },
  {
   "cell_type": "code",
   "execution_count": 21,
   "metadata": {
    "ExecuteTime": {
     "end_time": "2019-08-14T20:58:06.295672Z",
     "start_time": "2019-08-14T20:58:05.967133Z"
    }
   },
   "outputs": [
    {
     "ename": "TypeError",
     "evalue": "hello() missing 1 required positional argument: 'nome_da_pessoa'",
     "output_type": "error",
     "traceback": [
      "\u001b[0;31m---------------------------------------------------------------------------\u001b[0m",
      "\u001b[0;31mTypeError\u001b[0m                                 Traceback (most recent call last)",
      "\u001b[0;32m<ipython-input-21-a75d7781aaeb>\u001b[0m in \u001b[0;36m<module>\u001b[0;34m\u001b[0m\n\u001b[0;32m----> 1\u001b[0;31m \u001b[0mhello\u001b[0m\u001b[0;34m(\u001b[0m\u001b[0;34m)\u001b[0m\u001b[0;34m\u001b[0m\u001b[0m\n\u001b[0m",
      "\u001b[0;31mTypeError\u001b[0m: hello() missing 1 required positional argument: 'nome_da_pessoa'"
     ]
    }
   ],
   "source": [
    "hello()"
   ]
  },
  {
   "cell_type": "markdown",
   "metadata": {},
   "source": [
    "As vezes argumentos e parametros sao usados de forma intercambeavel."
   ]
  },
  {
   "cell_type": "markdown",
   "metadata": {},
   "source": [
    "## Argumentos Posicionais\n",
    "\n",
    "- O que sao argumentos posicionais?\n",
    "\n",
    "Quando uma funcao necessita de mais de um valor, ela deve checar os valores recebidos com os seus parametros. Usando argumentos posicionais a funcao projeta o primeiro argumento ao primeiro parametro, o segundo com o segundo e assim por diante.\n",
    "\n",
    "- Como voce usa argumentos posicionais ao chamar uma funcao?\n",
    "\n",
    "A ordem dos argumentos deve corresponder com as ordens dos parametros.\n"
   ]
  },
  {
   "cell_type": "code",
   "execution_count": 34,
   "metadata": {
    "ExecuteTime": {
     "end_time": "2019-08-14T21:26:55.270112Z",
     "start_time": "2019-08-14T21:26:55.257478Z"
    }
   },
   "outputs": [],
   "source": [
    "def dialogo(msg, user):\n",
    "    \"\"\" Fazer um personagem falar \"\"\"\n",
    "    \n",
    "    print(f'{user}: {msg}')"
   ]
  },
  {
   "cell_type": "code",
   "execution_count": 25,
   "metadata": {
    "ExecuteTime": {
     "end_time": "2019-08-14T21:07:39.732326Z",
     "start_time": "2019-08-14T21:07:39.718096Z"
    }
   },
   "outputs": [
    {
     "name": "stdout",
     "output_type": "stream",
     "text": [
      "Alan: Eu criei o computador\n"
     ]
    }
   ],
   "source": [
    "dialogo('Eu criei o computador', 'Alan')"
   ]
  },
  {
   "cell_type": "markdown",
   "metadata": {},
   "source": [
    "\n",
    "- O que acontece se voce usa argumentos posicionais de forma errada?"
   ]
  },
  {
   "cell_type": "code",
   "execution_count": 27,
   "metadata": {
    "ExecuteTime": {
     "end_time": "2019-08-14T21:08:02.56897Z",
     "start_time": "2019-08-14T21:08:02.565065Z"
    }
   },
   "outputs": [
    {
     "name": "stdout",
     "output_type": "stream",
     "text": [
      "Eu criei o computador: Alan\n"
     ]
    }
   ],
   "source": [
    "dialogo('Alan', 'Eu criei o computador')"
   ]
  },
  {
   "cell_type": "markdown",
   "metadata": {},
   "source": [
    "## Argumentos posicionais arbitrários\n",
    "\n",
    "- Como voce escreve uma funcao que aceita um numero desconhecido de argumentos?\n",
    "\n",
    "Um asterisco ```*``` antes do nome do parametro permite que uma funcao receba qualquer numero de argumentos posicionais. Use quando voce nao sabe quantos argumentos a funcao vai receber.\n"
   ]
  },
  {
   "cell_type": "code",
   "execution_count": 31,
   "metadata": {
    "ExecuteTime": {
     "end_time": "2019-08-14T21:16:12.60105Z",
     "start_time": "2019-08-14T21:16:12.593939Z"
    }
   },
   "outputs": [],
   "source": [
    "def dialogos(user, *msgs):\n",
    "    \"\"\" Fazer um personagem falar \"\"\"\n",
    "    print(f'{user} disse:')\n",
    "    for msg in msgs:\n",
    "        print(f'   {msg}')"
   ]
  },
  {
   "cell_type": "markdown",
   "metadata": {},
   "source": [
    "\n",
    "- Como voce chama uma funcao que aceita um numero arbitrario de argumentos?"
   ]
  },
  {
   "cell_type": "code",
   "execution_count": 35,
   "metadata": {
    "ExecuteTime": {
     "end_time": "2019-08-14T21:26:59.085828Z",
     "start_time": "2019-08-14T21:26:59.077955Z"
    }
   },
   "outputs": [
    {
     "name": "stdout",
     "output_type": "stream",
     "text": [
      "Einstein disse:\n",
      "   Teoria da Relatividade\n",
      "   Efeito Foto Voltaico\n",
      "   Outras coisas\n"
     ]
    }
   ],
   "source": [
    "dialogos('Einstein', 'Teoria da Relatividade', 'Efeito Foto Voltaico', 'Outras coisas')"
   ]
  },
  {
   "cell_type": "markdown",
   "metadata": {},
   "source": [
    "Apenas um parametro dentro da funcao pode receber um numero ilimitado de argumentos posicionais.\n",
    "\n",
    "## Argumentos Keyword\n",
    "\n",
    "- O que sao argumentos keyword?\n",
    "\n",
    "*Keyword arguments* especificam os valores dos paramentros, assim voce pode colocar eles em qualquer ordem.\n",
    "\n",
    "- Como voce usa argumentos keyword em uma chamada de funcao?\n",
    "\n"
   ]
  },
  {
   "cell_type": "code",
   "execution_count": 36,
   "metadata": {
    "ExecuteTime": {
     "end_time": "2019-08-14T21:27:01.581506Z",
     "start_time": "2019-08-14T21:27:01.569034Z"
    }
   },
   "outputs": [
    {
     "name": "stdout",
     "output_type": "stream",
     "text": [
      "Alan: Argumentos na ordem que eu quiser\n"
     ]
    }
   ],
   "source": [
    "dialogo(user='Alan',msg='Argumentos na ordem que eu quiser')"
   ]
  },
  {
   "cell_type": "code",
   "execution_count": 37,
   "metadata": {
    "ExecuteTime": {
     "end_time": "2019-08-14T21:27:29.90434Z",
     "start_time": "2019-08-14T21:27:29.887892Z"
    }
   },
   "outputs": [
    {
     "name": "stdout",
     "output_type": "stream",
     "text": [
      "Alan: Argumentos na ordem que eu quiser\n"
     ]
    }
   ],
   "source": [
    "dialogo(msg='Argumentos na ordem que eu quiser', user='Alan')"
   ]
  },
  {
   "cell_type": "markdown",
   "metadata": {},
   "source": [
    "## Argumentos de keyword arbitrarios\n",
    "\n",
    "- Como voce escreve uma funcao que aceita um numero arbitrario de argumentos keywords?\n",
    "\n",
    "Colocando dois asteriscos ```**``` antes de um parametro permite que a funcao aceite um numero arbitrario de argumentos *keyword*. Use os quando voce nao sabe o tipo de informacao que a funcao vai receber.\n",
    "\n",
    "Um parametro com ```**``` coleta qualquer par **nome-valor** da chamada da funcao e as adiciona em um dicionario (como chave->valor).\n",
    "\n",
    "- Como voce chama uma funcao com um numero arbitrario de argumentos de keyword?\n",
    "\n"
   ]
  },
  {
   "cell_type": "code",
   "execution_count": 41,
   "metadata": {
    "ExecuteTime": {
     "end_time": "2019-08-14T21:38:24.133874Z",
     "start_time": "2019-08-14T21:38:24.124254Z"
    }
   },
   "outputs": [],
   "source": [
    "def descrevendo_usuario(user, **descricao):\n",
    "    \"\"\" Descrevendo Usuarios \"\"\"\n",
    "    print(f'Descricao do usuario {user}:')\n",
    "    for chave, valor in descricao.items():\n",
    "        print(f'   {chave}: {valor}')"
   ]
  },
  {
   "cell_type": "code",
   "execution_count": 42,
   "metadata": {
    "ExecuteTime": {
     "end_time": "2019-08-14T21:38:24.431768Z",
     "start_time": "2019-08-14T21:38:24.42029Z"
    }
   },
   "outputs": [
    {
     "name": "stdout",
     "output_type": "stream",
     "text": [
      "Descricao do usuario eusouAlan:\n",
      "   nome: Alan\n",
      "   sobrenome: Turing\n",
      "   cidade: Londres\n"
     ]
    }
   ],
   "source": [
    "descrevendo_usuario('eusouAlan', nome='Alan', sobrenome='Turing', cidade='Londres')"
   ]
  },
  {
   "cell_type": "markdown",
   "metadata": {},
   "source": [
    "## Valores Padrão\n",
    "\n",
    "Definir valores padrao permite pre definir os valores dos parametros sem que exista a necessidade de defini-los.\n",
    "\n",
    "- Como voce atribui valores padrões a um parametro?\n",
    "\n",
    "```python\n",
    "\n",
    "def salario_minimo (valor=1000):\n",
    "    return valor\n",
    "\n",
    "```\n",
    "\n"
   ]
  },
  {
   "cell_type": "code",
   "execution_count": 51,
   "metadata": {
    "ExecuteTime": {
     "end_time": "2019-08-14T21:51:58.992587Z",
     "start_time": "2019-08-14T21:51:58.978207Z"
    }
   },
   "outputs": [],
   "source": [
    "def salario(valor=100000):\n",
    "    # str_valor = str(valor)\n",
    "    \n",
    "    return valor"
   ]
  },
  {
   "cell_type": "markdown",
   "metadata": {},
   "source": [
    "- Como voce chama uma funcao que tem um valor padrao para um parametro?"
   ]
  },
  {
   "cell_type": "code",
   "execution_count": 52,
   "metadata": {
    "ExecuteTime": {
     "end_time": "2019-08-14T21:51:59.701155Z",
     "start_time": "2019-08-14T21:51:59.681834Z"
    }
   },
   "outputs": [
    {
     "data": {
      "text/plain": [
       "100000"
      ]
     },
     "execution_count": 52,
     "metadata": {},
     "output_type": "execute_result"
    }
   ],
   "source": [
    "salario()"
   ]
  },
  {
   "cell_type": "code",
   "execution_count": 53,
   "metadata": {
    "ExecuteTime": {
     "end_time": "2019-08-14T21:52:00.072002Z",
     "start_time": "2019-08-14T21:52:00.057754Z"
    }
   },
   "outputs": [
    {
     "data": {
      "text/plain": [
       "200000"
      ]
     },
     "execution_count": 53,
     "metadata": {},
     "output_type": "execute_result"
    }
   ],
   "source": [
    "salario_minimo(200000)"
   ]
  },
  {
   "cell_type": "markdown",
   "metadata": {},
   "source": [
    "## Valores de Retorno\n",
    "\n",
    "Uma funcao necessita de um retorno\n",
    "\n",
    "- O que é um valor de retorno?\n",
    "\n",
    "\n",
    "- Como voce escreve uma funcao que retorna um valor?\n"
   ]
  },
  {
   "cell_type": "code",
   "execution_count": 55,
   "metadata": {
    "ExecuteTime": {
     "end_time": "2019-08-15T00:17:57.188385Z",
     "start_time": "2019-08-15T00:17:57.177472Z"
    }
   },
   "outputs": [
    {
     "data": {
      "text/plain": [
       "1"
      ]
     },
     "execution_count": 55,
     "metadata": {},
     "output_type": "execute_result"
    }
   ],
   "source": [
    "1 or 2"
   ]
  },
  {
   "cell_type": "markdown",
   "metadata": {},
   "source": [
    "# Operador bitwise"
   ]
  },
  {
   "cell_type": "code",
   "execution_count": 57,
   "metadata": {
    "ExecuteTime": {
     "end_time": "2019-08-15T00:23:12.313355Z",
     "start_time": "2019-08-15T00:23:12.298677Z"
    }
   },
   "outputs": [
    {
     "data": {
      "text/plain": [
       "2"
      ]
     },
     "execution_count": 57,
     "metadata": {},
     "output_type": "execute_result"
    }
   ],
   "source": [
    "3 & 2"
   ]
  },
  {
   "cell_type": "code",
   "execution_count": 54,
   "metadata": {
    "ExecuteTime": {
     "end_time": "2019-08-15T00:17:34.312957Z",
     "start_time": "2019-08-15T00:17:34.298471Z"
    }
   },
   "outputs": [
    {
     "data": {
      "text/plain": [
       "3"
      ]
     },
     "execution_count": 54,
     "metadata": {},
     "output_type": "execute_result"
    }
   ],
   "source": [
    "1 | 2"
   ]
  },
  {
   "cell_type": "markdown",
   "metadata": {},
   "source": [
    "## Funcao Lambda (anonima)\n",
    "\n",
    "Elas sao chamadas de anonimas porque elas nao sao declaradas como na forma comum. As particularidades sao:\n",
    "\n",
    "- Retorna apenas UM valor\n",
    "\n",
    "- Elas necessitam de uma expressao"
   ]
  },
  {
   "cell_type": "code",
   "execution_count": 12,
   "metadata": {
    "ExecuteTime": {
     "end_time": "2019-08-14T18:54:49.599024Z",
     "start_time": "2019-08-14T18:54:49.589702Z"
    }
   },
   "outputs": [],
   "source": [
    "ola = lambda : print(f'Olá a todos!')"
   ]
  },
  {
   "cell_type": "code",
   "execution_count": 13,
   "metadata": {
    "ExecuteTime": {
     "end_time": "2019-08-14T18:54:53.039414Z",
     "start_time": "2019-08-14T18:54:53.032169Z"
    }
   },
   "outputs": [
    {
     "name": "stdout",
     "output_type": "stream",
     "text": [
      "Olá a todos!\n"
     ]
    }
   ],
   "source": [
    "ola()"
   ]
  },
  {
   "cell_type": "markdown",
   "metadata": {},
   "source": [
    "### Lambdas dentro de parenteses"
   ]
  },
  {
   "cell_type": "code",
   "execution_count": 15,
   "metadata": {
    "ExecuteTime": {
     "end_time": "2019-08-14T20:07:29.015476Z",
     "start_time": "2019-08-14T20:07:29.000636Z"
    }
   },
   "outputs": [
    {
     "data": {
      "text/plain": [
       "100"
      ]
     },
     "execution_count": 15,
     "metadata": {},
     "output_type": "execute_result"
    }
   ],
   "source": [
    "(lambda x: x**2)(10)"
   ]
  },
  {
   "cell_type": "code",
   "execution_count": 16,
   "metadata": {
    "ExecuteTime": {
     "end_time": "2019-08-14T20:22:37.041062Z",
     "start_time": "2019-08-14T20:22:37.011532Z"
    }
   },
   "outputs": [
    {
     "data": {
      "text/plain": [
       "6"
      ]
     },
     "execution_count": 16,
     "metadata": {},
     "output_type": "execute_result"
    }
   ],
   "source": [
    "(lambda *args: sum(args))(1,2,3)"
   ]
  },
  {
   "cell_type": "code",
   "execution_count": 18,
   "metadata": {
    "ExecuteTime": {
     "end_time": "2019-08-14T20:24:31.585435Z",
     "start_time": "2019-08-14T20:24:31.578222Z"
    }
   },
   "outputs": [
    {
     "data": {
      "text/plain": [
       "69.66666666666667"
      ]
     },
     "execution_count": 18,
     "metadata": {},
     "output_type": "execute_result"
    }
   ],
   "source": [
    "(lambda **kwargs: sum(kwargs.values())/len(kwargs.values()))(turing=41, eistein=76, church=92)"
   ]
  },
  {
   "cell_type": "markdown",
   "metadata": {},
   "source": [
    "## Modulos\n",
    "\n",
    "- O que é um modulo?\n",
    "\n",
    "- Como voce cria um modulo?"
   ]
  },
  {
   "cell_type": "code",
   "execution_count": null,
   "metadata": {},
   "outputs": [],
   "source": []
  },
  {
   "cell_type": "markdown",
   "metadata": {},
   "source": [
    "## Importando funcoes\n",
    "\n",
    "- Como voce importa um modulo completo e usa cada uma das funcoes dentro do modulo?\n",
    "\n",
    "- Como voce da um apelido a um modulo quando voce importa ele?"
   ]
  },
  {
   "cell_type": "code",
   "execution_count": null,
   "metadata": {},
   "outputs": [],
   "source": []
  },
  {
   "cell_type": "markdown",
   "metadata": {},
   "source": [
    "## Importando funcoes especificas\n",
    "\n",
    "- Como voce importa uma funcao de um modulo?\n",
    "\n",
    "- Como voce importa varias funcoes individuais de um módulo?"
   ]
  },
  {
   "cell_type": "code",
   "execution_count": 5,
   "metadata": {},
   "outputs": [],
   "source": [
    "s = lambda numero:str(numero)[0]"
   ]
  },
  {
   "cell_type": "code",
   "execution_count": 2,
   "metadata": {},
   "outputs": [],
   "source": [
    "import pandas as pd"
   ]
  },
  {
   "cell_type": "code",
   "execution_count": 4,
   "metadata": {},
   "outputs": [
    {
     "data": {
      "text/html": [
       "<div>\n",
       "<style scoped>\n",
       "    .dataframe tbody tr th:only-of-type {\n",
       "        vertical-align: middle;\n",
       "    }\n",
       "\n",
       "    .dataframe tbody tr th {\n",
       "        vertical-align: top;\n",
       "    }\n",
       "\n",
       "    .dataframe thead th {\n",
       "        text-align: right;\n",
       "    }\n",
       "</style>\n",
       "<table border=\"1\" class=\"dataframe\">\n",
       "  <thead>\n",
       "    <tr style=\"text-align: right;\">\n",
       "      <th></th>\n",
       "      <th>country</th>\n",
       "      <th>year</th>\n",
       "      <th>sex</th>\n",
       "      <th>age</th>\n",
       "      <th>suicides_no</th>\n",
       "      <th>population</th>\n",
       "      <th>suicides/100k pop</th>\n",
       "      <th>country-year</th>\n",
       "      <th>HDI for year</th>\n",
       "      <th>gdp_for_year ($)</th>\n",
       "      <th>gdp_per_capita ($)</th>\n",
       "      <th>generation</th>\n",
       "    </tr>\n",
       "  </thead>\n",
       "  <tbody>\n",
       "    <tr>\n",
       "      <th>0</th>\n",
       "      <td>Albania</td>\n",
       "      <td>1987</td>\n",
       "      <td>male</td>\n",
       "      <td>15-24 years</td>\n",
       "      <td>21</td>\n",
       "      <td>312900</td>\n",
       "      <td>6.71</td>\n",
       "      <td>Albania1987</td>\n",
       "      <td>NaN</td>\n",
       "      <td>2,156,624,900</td>\n",
       "      <td>796</td>\n",
       "      <td>Generation X</td>\n",
       "    </tr>\n",
       "    <tr>\n",
       "      <th>1</th>\n",
       "      <td>Albania</td>\n",
       "      <td>1987</td>\n",
       "      <td>male</td>\n",
       "      <td>35-54 years</td>\n",
       "      <td>16</td>\n",
       "      <td>308000</td>\n",
       "      <td>5.19</td>\n",
       "      <td>Albania1987</td>\n",
       "      <td>NaN</td>\n",
       "      <td>2,156,624,900</td>\n",
       "      <td>796</td>\n",
       "      <td>Silent</td>\n",
       "    </tr>\n",
       "    <tr>\n",
       "      <th>2</th>\n",
       "      <td>Albania</td>\n",
       "      <td>1987</td>\n",
       "      <td>female</td>\n",
       "      <td>15-24 years</td>\n",
       "      <td>14</td>\n",
       "      <td>289700</td>\n",
       "      <td>4.83</td>\n",
       "      <td>Albania1987</td>\n",
       "      <td>NaN</td>\n",
       "      <td>2,156,624,900</td>\n",
       "      <td>796</td>\n",
       "      <td>Generation X</td>\n",
       "    </tr>\n",
       "    <tr>\n",
       "      <th>3</th>\n",
       "      <td>Albania</td>\n",
       "      <td>1987</td>\n",
       "      <td>male</td>\n",
       "      <td>75+ years</td>\n",
       "      <td>1</td>\n",
       "      <td>21800</td>\n",
       "      <td>4.59</td>\n",
       "      <td>Albania1987</td>\n",
       "      <td>NaN</td>\n",
       "      <td>2,156,624,900</td>\n",
       "      <td>796</td>\n",
       "      <td>G.I. Generation</td>\n",
       "    </tr>\n",
       "    <tr>\n",
       "      <th>4</th>\n",
       "      <td>Albania</td>\n",
       "      <td>1987</td>\n",
       "      <td>male</td>\n",
       "      <td>25-34 years</td>\n",
       "      <td>9</td>\n",
       "      <td>274300</td>\n",
       "      <td>3.28</td>\n",
       "      <td>Albania1987</td>\n",
       "      <td>NaN</td>\n",
       "      <td>2,156,624,900</td>\n",
       "      <td>796</td>\n",
       "      <td>Boomers</td>\n",
       "    </tr>\n",
       "  </tbody>\n",
       "</table>\n",
       "</div>"
      ],
      "text/plain": [
       "   country  year     sex          age  suicides_no  population  \\\n",
       "0  Albania  1987    male  15-24 years           21      312900   \n",
       "1  Albania  1987    male  35-54 years           16      308000   \n",
       "2  Albania  1987  female  15-24 years           14      289700   \n",
       "3  Albania  1987    male    75+ years            1       21800   \n",
       "4  Albania  1987    male  25-34 years            9      274300   \n",
       "\n",
       "   suicides/100k pop country-year  HDI for year  gdp_for_year ($)   \\\n",
       "0               6.71  Albania1987           NaN      2,156,624,900   \n",
       "1               5.19  Albania1987           NaN      2,156,624,900   \n",
       "2               4.83  Albania1987           NaN      2,156,624,900   \n",
       "3               4.59  Albania1987           NaN      2,156,624,900   \n",
       "4               3.28  Albania1987           NaN      2,156,624,900   \n",
       "\n",
       "   gdp_per_capita ($)       generation  \n",
       "0                 796     Generation X  \n",
       "1                 796           Silent  \n",
       "2                 796     Generation X  \n",
       "3                 796  G.I. Generation  \n",
       "4                 796          Boomers  "
      ]
     },
     "execution_count": 4,
     "metadata": {},
     "output_type": "execute_result"
    }
   ],
   "source": [
    "dados = pd.read_csv('master.csv')\n",
    "dados.head()"
   ]
  },
  {
   "cell_type": "code",
   "execution_count": 6,
   "metadata": {},
   "outputs": [
    {
     "data": {
      "text/plain": [
       "'9'"
      ]
     },
     "execution_count": 6,
     "metadata": {},
     "output_type": "execute_result"
    }
   ],
   "source": [
    "s(90)"
   ]
  },
  {
   "cell_type": "code",
   "execution_count": 12,
   "metadata": {},
   "outputs": [
    {
     "data": {
      "text/plain": [
       "1    7430\n",
       "2    4253\n",
       "3    2975\n",
       "4    2262\n",
       "5    1702\n",
       "6    1512\n",
       "7    1221\n",
       "8    1130\n",
       "9    1054\n",
       "Name: suicides_no, dtype: int64"
      ]
     },
     "execution_count": 12,
     "metadata": {},
     "output_type": "execute_result"
    }
   ],
   "source": [
    "dados['suicides_no'].apply(s).value_counts().drop('0')"
   ]
  },
  {
   "cell_type": "code",
   "execution_count": null,
   "metadata": {},
   "outputs": [],
   "source": []
  }
 ],
 "metadata": {
  "kernelspec": {
   "display_name": "Python 3",
   "language": "python",
   "name": "python3"
  },
  "language_info": {
   "codemirror_mode": {
    "name": "ipython",
    "version": 3
   },
   "file_extension": ".py",
   "mimetype": "text/x-python",
   "name": "python",
   "nbconvert_exporter": "python",
   "pygments_lexer": "ipython3",
   "version": "3.7.3"
  }
 },
 "nbformat": 4,
 "nbformat_minor": 4
}
