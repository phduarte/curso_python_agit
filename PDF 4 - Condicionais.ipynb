{
 "cells": [
  {
   "cell_type": "markdown",
   "metadata": {},
   "source": [
    "# Analise de Decisao (Condicionais)\n",
    "\n",
    "Condicionais controlam o fluxo do seu programa baseado nas condições que voce define. Isso permite que seu codigo reponda de alguma forma dependendo dessas condicoes. Voce pode definir qualquer conjunto de condicoes e escrever um codigo que responda exatamente o que voce precisa.\n",
    "\n",
    "## Sobre declarações condicionais\n",
    "\n",
    "- O que é uma declaração condicional?\n",
    "\n",
    "Uma declaracao condicional checa alguma condicao verdadeira antes de executar o codigo.\n",
    "\n",
    "\n",
    "```python\n",
    "\n",
    "if ingresso_do_cinema > 100:\n",
    "    print('Está muito caro!')\n",
    "```\n",
    "\n",
    "Toda declaracao condicional tem um teste logico que avalia se certa condicao é ```True``` ou ```False```. \n",
    "\n",
    "\n",
    "- O que é um valor booleano?\n",
    "\n",
    "\n",
    "É um valor que pode ser ```True``` ou ```False```.\n",
    "\n",
    "\n",
    "- Que tipo de teste lógico voce pode performar em uma declaração condicional??\n",
    "\n",
    "Abaixo temos os testes lógicos que voce pode performar em seu código:\n",
    "\n",
    "```python\n",
    "\n",
    "# idade é uma variavel do tipo int\n",
    "\n",
    "idade == 33 # igualdade\n",
    "\n",
    "idade != 33 # diferença\n",
    "\n",
    "idade < 33 # menor que\n",
    "\n",
    "idade > 33 # maior que\n",
    "\n",
    "idade <= # menor igual\n",
    "\n",
    "idade >= # maior igual\n",
    "\n",
    "# para listas podemos usar as condicionais\n",
    "\n",
    "'SP' in estados # está na lista, caso verdadeiro, retorna True\n",
    "\n",
    "'NY' not in estado # não está na lista, caso verdadeiro, retorna False\n",
    "\n",
    "# any retorna True quando pelo menos 1 elemento é verdadeiro. \n",
    "\n",
    "any([True, False])\n",
    "\n",
    "# all retorna True quando todos os elementos sao verdadeiros.\n",
    "\n",
    "all([True, False])\n",
    "\n",
    "```\n"
   ]
  },
  {
   "cell_type": "markdown",
   "metadata": {},
   "source": [
    "## Usando IF\n",
    "\n",
    "- Como voce escreve uma declaração ```if```?\n",
    "\n",
    "Começamos com ```if``` depois colocamos um teste logico, ou uma variavel booleana seguido de ```:```."
   ]
  },
  {
   "cell_type": "code",
   "execution_count": 1,
   "metadata": {
    "ExecuteTime": {
     "end_time": "2019-08-07T18:21:41.849607Z",
     "start_time": "2019-08-07T18:21:41.839537Z"
    }
   },
   "outputs": [
    {
     "name": "stdout",
     "output_type": "stream",
     "text": [
      "Printou pois era verdade!\n"
     ]
    }
   ],
   "source": [
    "var_bool = True\n",
    "\n",
    "if var_bool:\n",
    "    print('Printou pois era verdade!')"
   ]
  },
  {
   "cell_type": "code",
   "execution_count": 2,
   "metadata": {
    "ExecuteTime": {
     "end_time": "2019-08-07T18:21:57.747821Z",
     "start_time": "2019-08-07T18:21:57.742893Z"
    }
   },
   "outputs": [],
   "source": [
    "if not var_bool:\n",
    "    print('Printou pois era verdade!')"
   ]
  },
  {
   "cell_type": "code",
   "execution_count": 3,
   "metadata": {
    "ExecuteTime": {
     "end_time": "2019-08-07T18:22:24.731804Z",
     "start_time": "2019-08-07T18:22:24.727134Z"
    }
   },
   "outputs": [],
   "source": [
    "var_bool = False\n",
    "\n",
    "if var_bool:\n",
    "    print('Printou pois era falsidade!')"
   ]
  },
  {
   "cell_type": "code",
   "execution_count": 4,
   "metadata": {
    "ExecuteTime": {
     "end_time": "2019-08-07T18:22:36.728302Z",
     "start_time": "2019-08-07T18:22:36.723559Z"
    }
   },
   "outputs": [
    {
     "name": "stdout",
     "output_type": "stream",
     "text": [
      "Printou pois era falsidade!\n"
     ]
    }
   ],
   "source": [
    "if not var_bool:\n",
    "    print('Printou pois era falsidade!')"
   ]
  },
  {
   "cell_type": "code",
   "execution_count": 5,
   "metadata": {
    "ExecuteTime": {
     "end_time": "2019-08-07T18:23:48.008258Z",
     "start_time": "2019-08-07T18:23:47.998678Z"
    }
   },
   "outputs": [
    {
     "name": "stdout",
     "output_type": "stream",
     "text": [
      "Uma pessoa alta\n"
     ]
    }
   ],
   "source": [
    "altura = 1.90\n",
    "if altura > 1.85:\n",
    "    print('Uma pessoa alta')"
   ]
  },
  {
   "cell_type": "markdown",
   "metadata": {},
   "source": [
    "## Usando IF-ELSE\n",
    "\n",
    "- Como voce escreve uma declaracao ```if-else```?\n",
    "\n",
    "Em uma declaração ```if-else``` caso o ```if``` seja `False` o código toma o sentido do ```else```.\n",
    "\n"
   ]
  },
  {
   "cell_type": "code",
   "execution_count": 6,
   "metadata": {
    "ExecuteTime": {
     "end_time": "2019-08-07T18:27:12.061491Z",
     "start_time": "2019-08-07T18:27:12.054274Z"
    }
   },
   "outputs": [
    {
     "name": "stdout",
     "output_type": "stream",
     "text": [
      "Vc nao é uma pessoa tão alta.\n"
     ]
    }
   ],
   "source": [
    "altura = 1.70\n",
    "if altura > 1.85:\n",
    "    print('Uma pessoa alta.')\n",
    "else:\n",
    "    print('Vc nao é uma pessoa tão alta.')"
   ]
  },
  {
   "cell_type": "markdown",
   "metadata": {},
   "source": [
    "- Como voce escreve uma serie de ```if-elif-else```?\n",
    "\n",
    "Os testes acontecem até que o ```else``` que roda o ultimo código. \n"
   ]
  },
  {
   "cell_type": "code",
   "execution_count": 9,
   "metadata": {
    "ExecuteTime": {
     "end_time": "2019-08-07T18:33:58.827972Z",
     "start_time": "2019-08-07T18:33:58.82243Z"
    }
   },
   "outputs": [
    {
     "name": "stdout",
     "output_type": "stream",
     "text": [
      "Amigao, vc precisa de um regime!\n"
     ]
    }
   ],
   "source": [
    "imc = 10\n",
    "if imc < 5:\n",
    "    print('Voce precisa comer mais!')\n",
    "elif imc < 10:\n",
    "    print('Voce ta bem na fita!')\n",
    "else:\n",
    "    print('Amigao, vc precisa de um regime!')"
   ]
  },
  {
   "cell_type": "markdown",
   "metadata": {},
   "source": [
    "Os blocos ```if-elif``` não requerem um ```else```"
   ]
  },
  {
   "cell_type": "code",
   "execution_count": 10,
   "metadata": {
    "ExecuteTime": {
     "end_time": "2019-08-07T18:37:47.97181Z",
     "start_time": "2019-08-07T18:37:47.967632Z"
    }
   },
   "outputs": [],
   "source": [
    "altura = 1.70\n",
    "if altura > 1.85:\n",
    "    print('Uma pessoa alta.')\n",
    "elif altura > 1.75:\n",
    "    print('Vc nao é uma pessoa tão alta.')"
   ]
  },
  {
   "cell_type": "markdown",
   "metadata": {},
   "source": [
    "## Input do usuário\n",
    "\n",
    "- Como voce pede para o usuario inputar um valor?\n",
    "\n",
    "A funcao ```input()``` pausa o programa e aguarda o usuario entrar com um dado.\n"
   ]
  },
  {
   "cell_type": "code",
   "execution_count": 11,
   "metadata": {
    "ExecuteTime": {
     "end_time": "2019-08-07T18:41:04.935288Z",
     "start_time": "2019-08-07T18:41:02.904852Z"
    }
   },
   "outputs": [
    {
     "name": "stdout",
     "output_type": "stream",
     "text": [
      "Digite seu nome: caio\n",
      "Olá caio!\n"
     ]
    }
   ],
   "source": [
    "nome = input('Digite seu nome: ')\n",
    "print(f'Olá {nome}!')"
   ]
  },
  {
   "cell_type": "markdown",
   "metadata": {},
   "source": [
    "- Como voce manipula o dado que o usuario digitou?\n",
    "\n",
    "Todo dado recebido pela funcao ```input()``` é convertido em uma **string**. Dados numerericos devem ser convertidos para o tipo apropriado antes de vc manipula-los."
   ]
  },
  {
   "cell_type": "code",
   "execution_count": 8,
   "metadata": {
    "ExecuteTime": {
     "end_time": "2019-09-13T05:49:35.006283Z",
     "start_time": "2019-09-13T05:49:32.047701Z"
    }
   },
   "outputs": [
    {
     "name": "stdout",
     "output_type": "stream",
     "text": [
      "Quer pagar quanto?800\n",
      "Melhora esse preço chefia\n"
     ]
    }
   ],
   "source": [
    "preco = int(input('Quer pagar quanto?'))\n",
    "# completar\n",
    "if preco > 5000:\n",
    "    print('Pode levar')\n",
    "else:\n",
    "    print('Melhora esse preço chefia')"
   ]
  },
  {
   "cell_type": "markdown",
   "metadata": {},
   "source": [
    "# Operadores Ternarios\n",
    "\n",
    "```condicao_se_verdadeira if condicao else condicao_se_falsa```\n"
   ]
  },
  {
   "cell_type": "code",
   "execution_count": 3,
   "metadata": {
    "ExecuteTime": {
     "end_time": "2019-08-14T18:23:36.972375Z",
     "start_time": "2019-08-14T18:23:36.968696Z"
    }
   },
   "outputs": [],
   "source": [
    "eh_verdadeiro = True\n",
    "state = \"legal\" if eh_verdadeiro else \"nao_legal\""
   ]
  },
  {
   "cell_type": "code",
   "execution_count": 4,
   "metadata": {
    "ExecuteTime": {
     "end_time": "2019-08-14T18:23:37.340283Z",
     "start_time": "2019-08-14T18:23:37.328996Z"
    }
   },
   "outputs": [
    {
     "data": {
      "text/plain": [
       "'legal'"
      ]
     },
     "execution_count": 4,
     "metadata": {},
     "output_type": "execute_result"
    }
   ],
   "source": [
    "state"
   ]
  },
  {
   "cell_type": "code",
   "execution_count": 6,
   "metadata": {
    "ExecuteTime": {
     "end_time": "2019-08-14T18:26:31.182005Z",
     "start_time": "2019-08-14T18:26:31.170116Z"
    }
   },
   "outputs": [],
   "source": [
    "dinheiro = 1000\n",
    "preco = 800"
   ]
  },
  {
   "cell_type": "markdown",
   "metadata": {},
   "source": [
    "## Usando Tuplas"
   ]
  },
  {
   "cell_type": "code",
   "execution_count": 8,
   "metadata": {
    "ExecuteTime": {
     "end_time": "2019-08-14T18:26:45.624092Z",
     "start_time": "2019-08-14T18:26:45.618232Z"
    }
   },
   "outputs": [
    {
     "data": {
      "text/plain": [
       "'comprar'"
      ]
     },
     "execution_count": 8,
     "metadata": {},
     "output_type": "execute_result"
    }
   ],
   "source": [
    "('nao_comprar', 'comprar')[dinheiro > preco]"
   ]
  },
  {
   "cell_type": "markdown",
   "metadata": {},
   "source": [
    "## Usando or"
   ]
  },
  {
   "cell_type": "code",
   "execution_count": 9,
   "metadata": {
    "ExecuteTime": {
     "end_time": "2019-08-14T18:28:56.96221Z",
     "start_time": "2019-08-14T18:28:56.957149Z"
    }
   },
   "outputs": [
    {
     "data": {
      "text/plain": [
       "True"
      ]
     },
     "execution_count": 9,
     "metadata": {},
     "output_type": "execute_result"
    }
   ],
   "source": [
    "True or 'Alguma coisa'"
   ]
  },
  {
   "cell_type": "code",
   "execution_count": 10,
   "metadata": {
    "ExecuteTime": {
     "end_time": "2019-08-14T18:29:12.824258Z",
     "start_time": "2019-08-14T18:29:12.79521Z"
    }
   },
   "outputs": [
    {
     "data": {
      "text/plain": [
       "'Alguma coisa'"
      ]
     },
     "execution_count": 10,
     "metadata": {},
     "output_type": "execute_result"
    }
   ],
   "source": [
    "False or 'Alguma coisa'"
   ]
  },
  {
   "cell_type": "code",
   "execution_count": 13,
   "metadata": {
    "ExecuteTime": {
     "end_time": "2019-08-14T18:30:32.620001Z",
     "start_time": "2019-08-14T18:30:32.599801Z"
    }
   },
   "outputs": [
    {
     "data": {
      "text/plain": [
       "'Comprar'"
      ]
     },
     "execution_count": 13,
     "metadata": {},
     "output_type": "execute_result"
    }
   ],
   "source": [
    "not (dinheiro > preco) or 'Comprar'"
   ]
  },
  {
   "cell_type": "code",
   "execution_count": 15,
   "metadata": {
    "ExecuteTime": {
     "end_time": "2019-08-14T18:31:00.38558Z",
     "start_time": "2019-08-14T18:31:00.364984Z"
    }
   },
   "outputs": [
    {
     "data": {
      "text/plain": [
       "'Nao_Comprar'"
      ]
     },
     "execution_count": 15,
     "metadata": {},
     "output_type": "execute_result"
    }
   ],
   "source": [
    "(dinheiro < preco) or 'Nao_Comprar'"
   ]
  },
  {
   "cell_type": "markdown",
   "metadata": {},
   "source": [
    "# Operador bitwise"
   ]
  },
  {
   "cell_type": "code",
   "execution_count": 2,
   "metadata": {
    "ExecuteTime": {
     "end_time": "2019-09-13T05:42:54.609481Z",
     "start_time": "2019-09-13T05:42:54.587749Z"
    }
   },
   "outputs": [],
   "source": [
    "chave = 'abc'"
   ]
  },
  {
   "cell_type": "code",
   "execution_count": 3,
   "metadata": {
    "ExecuteTime": {
     "end_time": "2019-09-13T05:42:55.163002Z",
     "start_time": "2019-09-13T05:42:55.143904Z"
    }
   },
   "outputs": [],
   "source": [
    "frase = 'oioioioi'"
   ]
  },
  {
   "cell_type": "code",
   "execution_count": 6,
   "metadata": {
    "ExecuteTime": {
     "end_time": "2019-09-13T05:43:16.448872Z",
     "start_time": "2019-09-13T05:43:16.353085Z"
    }
   },
   "outputs": [
    {
     "data": {
      "text/plain": [
       "b'oioioioi'"
      ]
     },
     "execution_count": 6,
     "metadata": {},
     "output_type": "execute_result"
    }
   ],
   "source": [
    "chave.encode('ascii') and frase.encode('ascii')"
   ]
  },
  {
   "cell_type": "code",
   "execution_count": 19,
   "metadata": {
    "ExecuteTime": {
     "end_time": "2019-08-15T12:55:42.071031Z",
     "start_time": "2019-08-15T12:55:42.067117Z"
    }
   },
   "outputs": [],
   "source": [
    "import struct"
   ]
  },
  {
   "cell_type": "code",
   "execution_count": 54,
   "metadata": {
    "ExecuteTime": {
     "end_time": "2019-08-15T13:02:59.823695Z",
     "start_time": "2019-08-15T13:02:59.809053Z"
    }
   },
   "outputs": [],
   "source": [
    "x = chave\n",
    "x = '\\x00' * (4-len(x)) + x\n",
    "number = struct.unpack('!i', x.encode())[0]"
   ]
  },
  {
   "cell_type": "code",
   "execution_count": 56,
   "metadata": {
    "ExecuteTime": {
     "end_time": "2019-08-15T13:03:06.532982Z",
     "start_time": "2019-08-15T13:03:06.52851Z"
    }
   },
   "outputs": [],
   "source": [
    "x = chave\n",
    "x = '\\x00' * (4-len(x)) + x\n",
    "number2 = struct.unpack('!i', x.encode())[0]"
   ]
  },
  {
   "cell_type": "code",
   "execution_count": 86,
   "metadata": {
    "ExecuteTime": {
     "end_time": "2019-08-15T13:15:12.847815Z",
     "start_time": "2019-08-15T13:15:12.783438Z"
    }
   },
   "outputs": [],
   "source": [
    "import numpy as np"
   ]
  },
  {
   "cell_type": "code",
   "execution_count": 81,
   "metadata": {
    "ExecuteTime": {
     "end_time": "2019-08-15T13:12:55.239924Z",
     "start_time": "2019-08-15T13:12:55.236679Z"
    }
   },
   "outputs": [],
   "source": [
    "a = [0,1,0,1]\n",
    "a = np.array(a)"
   ]
  },
  {
   "cell_type": "code",
   "execution_count": 82,
   "metadata": {
    "ExecuteTime": {
     "end_time": "2019-08-15T13:12:58.241703Z",
     "start_time": "2019-08-15T13:12:58.237894Z"
    }
   },
   "outputs": [],
   "source": [
    "b = [1,0,1,0]\n",
    "b = np.array(b)"
   ]
  },
  {
   "cell_type": "code",
   "execution_count": 83,
   "metadata": {
    "ExecuteTime": {
     "end_time": "2019-08-15T13:13:04.620629Z",
     "start_time": "2019-08-15T13:13:04.61046Z"
    }
   },
   "outputs": [
    {
     "data": {
      "text/plain": [
       "array([1, 1, 1, 1])"
      ]
     },
     "execution_count": 83,
     "metadata": {},
     "output_type": "execute_result"
    }
   ],
   "source": [
    "a | b"
   ]
  },
  {
   "cell_type": "code",
   "execution_count": 84,
   "metadata": {
    "ExecuteTime": {
     "end_time": "2019-08-15T13:13:10.654378Z",
     "start_time": "2019-08-15T13:13:10.646659Z"
    }
   },
   "outputs": [
    {
     "data": {
      "text/plain": [
       "array([0, 0, 0, 0])"
      ]
     },
     "execution_count": 84,
     "metadata": {},
     "output_type": "execute_result"
    }
   ],
   "source": [
    "a & b"
   ]
  },
  {
   "cell_type": "code",
   "execution_count": 90,
   "metadata": {
    "ExecuteTime": {
     "end_time": "2019-08-15T13:17:14.871852Z",
     "start_time": "2019-08-15T13:17:14.864592Z"
    }
   },
   "outputs": [
    {
     "data": {
      "text/plain": [
       "array([ 0, 16,  0, 16])"
      ]
     },
     "execution_count": 90,
     "metadata": {},
     "output_type": "execute_result"
    }
   ],
   "source": [
    "a << 4"
   ]
  },
  {
   "cell_type": "code",
   "execution_count": 100,
   "metadata": {
    "ExecuteTime": {
     "end_time": "2019-08-15T13:18:10.824081Z",
     "start_time": "2019-08-15T13:18:10.815875Z"
    }
   },
   "outputs": [
    {
     "data": {
      "text/plain": [
       "4"
      ]
     },
     "execution_count": 100,
     "metadata": {},
     "output_type": "execute_result"
    }
   ],
   "source": [
    "1 << 2"
   ]
  },
  {
   "cell_type": "code",
   "execution_count": 1,
   "metadata": {
    "ExecuteTime": {
     "end_time": "2019-08-15T22:41:44.551074Z",
     "start_time": "2019-08-15T22:41:44.537993Z"
    }
   },
   "outputs": [],
   "source": [
    "def potencia_2(exp):\n",
    "    return 1 << exp"
   ]
  },
  {
   "cell_type": "code",
   "execution_count": 2,
   "metadata": {
    "ExecuteTime": {
     "end_time": "2019-08-15T22:41:49.749838Z",
     "start_time": "2019-08-15T22:41:46.711956Z"
    }
   },
   "outputs": [
    {
     "name": "stdout",
     "output_type": "stream",
     "text": [
      "361 ns ± 21.5 ns per loop (mean ± std. dev. of 7 runs, 1000000 loops each)\n"
     ]
    }
   ],
   "source": [
    "%%timeit\n",
    "potencia_2(1600)"
   ]
  },
  {
   "cell_type": "code",
   "execution_count": 3,
   "metadata": {
    "ExecuteTime": {
     "end_time": "2019-08-15T22:42:22.181383Z",
     "start_time": "2019-08-15T22:42:19.696261Z"
    }
   },
   "outputs": [
    {
     "name": "stdout",
     "output_type": "stream",
     "text": [
      "2.99 µs ± 289 ns per loop (mean ± std. dev. of 7 runs, 100000 loops each)\n"
     ]
    }
   ],
   "source": [
    "%%timeit\n",
    "2**1600"
   ]
  },
  {
   "cell_type": "code",
   "execution_count": 121,
   "metadata": {
    "ExecuteTime": {
     "end_time": "2019-08-15T13:27:40.088089Z",
     "start_time": "2019-08-15T13:27:37.381024Z"
    }
   },
   "outputs": [
    {
     "name": "stdout",
     "output_type": "stream",
     "text": [
      "3.28 µs ± 260 ns per loop (mean ± std. dev. of 7 runs, 100000 loops each)\n"
     ]
    }
   ],
   "source": [
    "%%timeit\n",
    "np.power(2,1600)"
   ]
  },
  {
   "cell_type": "code",
   "execution_count": 122,
   "metadata": {
    "ExecuteTime": {
     "end_time": "2019-08-15T13:33:42.013445Z",
     "start_time": "2019-08-15T13:33:41.989688Z"
    }
   },
   "outputs": [
    {
     "data": {
      "text/plain": [
       "True"
      ]
     },
     "execution_count": 122,
     "metadata": {},
     "output_type": "execute_result"
    }
   ],
   "source": [
    "potencia_2(1600) == 2**1600"
   ]
  },
  {
   "cell_type": "code",
   "execution_count": 123,
   "metadata": {
    "ExecuteTime": {
     "end_time": "2019-08-15T13:33:59.208072Z",
     "start_time": "2019-08-15T13:33:59.173731Z"
    }
   },
   "outputs": [
    {
     "data": {
      "text/plain": [
       "False"
      ]
     },
     "execution_count": 123,
     "metadata": {},
     "output_type": "execute_result"
    }
   ],
   "source": [
    "np.power(2,1600) == 2**1600"
   ]
  },
  {
   "cell_type": "code",
   "execution_count": 18,
   "metadata": {
    "ExecuteTime": {
     "end_time": "2019-08-15T00:26:14.991796Z",
     "start_time": "2019-08-15T00:26:14.978408Z"
    }
   },
   "outputs": [
    {
     "data": {
      "text/plain": [
       "True"
      ]
     },
     "execution_count": 18,
     "metadata": {},
     "output_type": "execute_result"
    }
   ],
   "source": [
    "True | False"
   ]
  },
  {
   "cell_type": "code",
   "execution_count": 24,
   "metadata": {
    "ExecuteTime": {
     "end_time": "2019-08-15T00:37:58.50764Z",
     "start_time": "2019-08-15T00:37:58.494303Z"
    }
   },
   "outputs": [
    {
     "data": {
      "text/plain": [
       "16"
      ]
     },
     "execution_count": 24,
     "metadata": {},
     "output_type": "execute_result"
    }
   ],
   "source": [
    "8 << 1"
   ]
  },
  {
   "cell_type": "code",
   "execution_count": 16,
   "metadata": {
    "ExecuteTime": {
     "end_time": "2019-08-15T00:26:00.964573Z",
     "start_time": "2019-08-15T00:26:00.938672Z"
    }
   },
   "outputs": [
    {
     "data": {
      "text/plain": [
       "2"
      ]
     },
     "execution_count": 16,
     "metadata": {},
     "output_type": "execute_result"
    }
   ],
   "source": [
    "3 & 2"
   ]
  },
  {
   "cell_type": "code",
   "execution_count": 17,
   "metadata": {
    "ExecuteTime": {
     "end_time": "2019-08-15T00:26:01.209327Z",
     "start_time": "2019-08-15T00:26:01.202097Z"
    }
   },
   "outputs": [
    {
     "data": {
      "text/plain": [
       "3"
      ]
     },
     "execution_count": 17,
     "metadata": {},
     "output_type": "execute_result"
    }
   ],
   "source": [
    "1 | 2"
   ]
  },
  {
   "cell_type": "markdown",
   "metadata": {},
   "source": [
    "## While Loops\n",
    "\n",
    "- O que é um ```while``` loop?\n",
    "\n",
    "O ```while loop``` roda o codigo enquanto a condicao é verdadeira (```True```). "
   ]
  },
  {
   "cell_type": "code",
   "execution_count": 17,
   "metadata": {
    "ExecuteTime": {
     "end_time": "2019-08-07T18:50:42.082434Z",
     "start_time": "2019-08-07T18:50:42.073627Z"
    }
   },
   "outputs": [
    {
     "name": "stdout",
     "output_type": "stream",
     "text": [
      "10\n",
      "9\n",
      "8\n",
      "7\n",
      "6\n",
      "5\n",
      "4\n",
      "3\n",
      "2\n",
      "1\n",
      "Houston o foguete está decolando!\n"
     ]
    }
   ],
   "source": [
    "contagem = 10\n",
    "while contagem > 0:\n",
    "    print(f'{contagem}')\n",
    "    contagem -= 1\n",
    "print('Houston o foguete está decolando!')"
   ]
  },
  {
   "cell_type": "markdown",
   "metadata": {},
   "source": [
    "- Como voce usa uma lista com um ```while``` loop?"
   ]
  },
  {
   "cell_type": "code",
   "execution_count": null,
   "metadata": {},
   "outputs": [],
   "source": [
    "bugs = ['bug_1', 'bug_2', 'bug_3']\n",
    "while bugs:\n",
    "    bug = bugs.pop()\n",
    "    print(f'Arrumando o {bug}')\n",
    "print('Todos os bugs foram arrumados!')"
   ]
  },
  {
   "cell_type": "markdown",
   "metadata": {},
   "source": [
    "## Usando Break e Continue\n",
    "\n",
    "- O que o ```break``` faz com o loop?\n",
    "\n",
    "O ```break``` finaliza o loop quando certa condição ocorre.\n",
    "\n"
   ]
  },
  {
   "cell_type": "code",
   "execution_count": 18,
   "metadata": {
    "ExecuteTime": {
     "end_time": "2019-08-07T18:53:06.723103Z",
     "start_time": "2019-08-07T18:52:55.542498Z"
    }
   },
   "outputs": [
    {
     "name": "stdout",
     "output_type": "stream",
     "text": [
      "Qual é o seu nome: caio\n",
      "Olá caio\n",
      "Qual é o seu nome: gil\n",
      "Olá gil\n",
      "Qual é o seu nome: igor\n",
      "Olá igor\n",
      "Qual é o seu nome: sair\n"
     ]
    }
   ],
   "source": [
    "while True:\n",
    "    nome = input('Qual é o seu nome: ')\n",
    "    if nome == 'sair':\n",
    "        break\n",
    "    print(f'Olá {nome}')"
   ]
  },
  {
   "cell_type": "markdown",
   "metadata": {},
   "source": [
    "\n",
    "- O que o ```continue``` faz com o loop?\n",
    "\n",
    "A palavra chave ```continue``` quebra a sequencia abaixo de loop e retorna para o inicio do loop."
   ]
  },
  {
   "cell_type": "code",
   "execution_count": 5,
   "metadata": {
    "ExecuteTime": {
     "end_time": "2019-08-21T22:31:26.543825Z",
     "start_time": "2019-08-21T22:31:26.525372Z"
    }
   },
   "outputs": [
    {
     "data": {
      "text/plain": [
       "True"
      ]
     },
     "execution_count": 5,
     "metadata": {},
     "output_type": "execute_result"
    }
   ],
   "source": [
    "any([True, True])"
   ]
  },
  {
   "cell_type": "code",
   "execution_count": 6,
   "metadata": {
    "ExecuteTime": {
     "end_time": "2019-08-21T22:31:33.483423Z",
     "start_time": "2019-08-21T22:31:33.465243Z"
    }
   },
   "outputs": [
    {
     "data": {
      "text/plain": [
       "True"
      ]
     },
     "execution_count": 6,
     "metadata": {},
     "output_type": "execute_result"
    }
   ],
   "source": [
    "all([True, True])"
   ]
  },
  {
   "cell_type": "code",
   "execution_count": 1,
   "metadata": {
    "ExecuteTime": {
     "end_time": "2019-08-21T22:30:41.28438Z",
     "start_time": "2019-08-21T22:30:41.21304Z"
    }
   },
   "outputs": [
    {
     "data": {
      "text/plain": [
       "True"
      ]
     },
     "execution_count": 1,
     "metadata": {},
     "output_type": "execute_result"
    }
   ],
   "source": [
    "any([True, False])"
   ]
  },
  {
   "cell_type": "code",
   "execution_count": 2,
   "metadata": {
    "ExecuteTime": {
     "end_time": "2019-08-21T22:30:46.693251Z",
     "start_time": "2019-08-21T22:30:46.669138Z"
    }
   },
   "outputs": [
    {
     "data": {
      "text/plain": [
       "False"
      ]
     },
     "execution_count": 2,
     "metadata": {},
     "output_type": "execute_result"
    }
   ],
   "source": [
    "all([True, False])"
   ]
  },
  {
   "cell_type": "code",
   "execution_count": 3,
   "metadata": {
    "ExecuteTime": {
     "end_time": "2019-08-21T22:31:00.201812Z",
     "start_time": "2019-08-21T22:31:00.181451Z"
    }
   },
   "outputs": [
    {
     "data": {
      "text/plain": [
       "False"
      ]
     },
     "execution_count": 3,
     "metadata": {},
     "output_type": "execute_result"
    }
   ],
   "source": [
    "any([False, False])"
   ]
  },
  {
   "cell_type": "code",
   "execution_count": 4,
   "metadata": {
    "ExecuteTime": {
     "end_time": "2019-08-21T22:31:10.962055Z",
     "start_time": "2019-08-21T22:31:10.939924Z"
    }
   },
   "outputs": [
    {
     "data": {
      "text/plain": [
       "False"
      ]
     },
     "execution_count": 4,
     "metadata": {},
     "output_type": "execute_result"
    }
   ],
   "source": [
    "all([False, False])"
   ]
  },
  {
   "cell_type": "code",
   "execution_count": 1,
   "metadata": {},
   "outputs": [],
   "source": [
    "count = 0"
   ]
  },
  {
   "cell_type": "code",
   "execution_count": 2,
   "metadata": {},
   "outputs": [
    {
     "ename": "SyntaxError",
     "evalue": "invalid syntax (<ipython-input-2-b905449f8532>, line 1)",
     "output_type": "error",
     "traceback": [
      "\u001b[0;36m  File \u001b[0;32m\"<ipython-input-2-b905449f8532>\"\u001b[0;36m, line \u001b[0;32m1\u001b[0m\n\u001b[0;31m    count ++\u001b[0m\n\u001b[0m            ^\u001b[0m\n\u001b[0;31mSyntaxError\u001b[0m\u001b[0;31m:\u001b[0m invalid syntax\n"
     ]
    }
   ],
   "source": []
  },
  {
   "cell_type": "code",
   "execution_count": 3,
   "metadata": {},
   "outputs": [
    {
     "ename": "SyntaxError",
     "evalue": "invalid syntax (<ipython-input-3-53d1c51abd20>, line 1)",
     "output_type": "error",
     "traceback": [
      "\u001b[0;36m  File \u001b[0;32m\"<ipython-input-3-53d1c51abd20>\"\u001b[0;36m, line \u001b[0;32m1\u001b[0m\n\u001b[0;31m    count++\u001b[0m\n\u001b[0m           ^\u001b[0m\n\u001b[0;31mSyntaxError\u001b[0m\u001b[0;31m:\u001b[0m invalid syntax\n"
     ]
    }
   ],
   "source": [
    "count++"
   ]
  },
  {
   "cell_type": "code",
   "execution_count": 4,
   "metadata": {},
   "outputs": [],
   "source": [
    "count+=1"
   ]
  },
  {
   "cell_type": "code",
   "execution_count": null,
   "metadata": {},
   "outputs": [],
   "source": []
  }
 ],
 "metadata": {
  "kernelspec": {
   "display_name": "Python 3",
   "language": "python",
   "name": "python3"
  },
  "language_info": {
   "codemirror_mode": {
    "name": "ipython",
    "version": 3
   },
   "file_extension": ".py",
   "mimetype": "text/x-python",
   "name": "python",
   "nbconvert_exporter": "python",
   "pygments_lexer": "ipython3",
   "version": "3.7.3"
  }
 },
 "nbformat": 4,
 "nbformat_minor": 4
}
