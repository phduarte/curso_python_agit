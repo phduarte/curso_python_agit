{
 "cells": [
  {
   "cell_type": "markdown",
   "metadata": {},
   "source": [
    "# Dicionarios\n",
    "\n",
    "O python também nos fornece outro tipo de dado chamado Dicionario, que é similiar a uma lista.\n",
    "\n",
    "Dicionarios permitem que voce estabeleça conexoes entre pecas individuais de informacao, como por exemplo palavras e seus significados.\n",
    "\n",
    "Não existe limite no tamanho de informacao que voce consegue guardar em um dicionario.\n",
    "\n",
    "## Sobre Dicionários\n",
    "\n",
    "- O que é um dicionario?\n",
    "\n",
    "Dicionario é um conjunto de itens, onde cada item consiste de uma chave e um valor. Assim como nas listas dicionarios sao mutaveis, são dinâmicos (podem crescer e diminuir quanto a necessidade), podem ser aninhados. Dicionarios podem conter listas e vice versa.\n",
    "\n",
    "As diferencas entre listas são: \n",
    "\n",
    "- Elementos da lista são acessados por sua posição via indexação.\n",
    "\n",
    "- Elementos de um dicionário são acessados por sua chave."
   ]
  },
  {
   "cell_type": "markdown",
   "metadata": {},
   "source": [
    "- Como voce define um dicionario?\n",
    "\n",
    "Voce define um dicionario usando chaves (```{}```)\n",
    "\n",
    "```python\n",
    "\n",
    "exemplo_dic = {\n",
    "\n",
    "    chave1: valor1,\n",
    "    chave2: valor2,\n",
    "    chave3: valor3,\n",
    "    \n",
    "}```"
   ]
  },
  {
   "cell_type": "code",
   "execution_count": 1,
   "metadata": {
    "ExecuteTime": {
     "end_time": "2019-08-06T21:53:53.374567Z",
     "start_time": "2019-08-06T21:53:53.332854Z"
    }
   },
   "outputs": [
    {
     "data": {
      "text/plain": [
       "{'SP': 'Sao Paulo', 'RJ': 'Rio de Janeiro', 'MG': 'Belo Horizonte'}"
      ]
     },
     "execution_count": 1,
     "metadata": {},
     "output_type": "execute_result"
    }
   ],
   "source": [
    "capitais = { 'SP': 'Sao Paulo',\n",
    "             'RJ': 'Rio de Janeiro',\n",
    "             'MG': 'Belo Horizonte'}\n",
    "capitais"
   ]
  },
  {
   "cell_type": "markdown",
   "metadata": {},
   "source": [
    "Voce também pode criar um dicionário usando a funcao ```dict()```. Os argumentos da função devem ser uma sequencia de chave-valor. \n",
    "\n",
    "Uma lista de tuplas também irá funcionar."
   ]
  },
  {
   "cell_type": "code",
   "execution_count": 5,
   "metadata": {
    "ExecuteTime": {
     "end_time": "2019-08-06T21:54:57.305272Z",
     "start_time": "2019-08-06T21:54:57.288531Z"
    }
   },
   "outputs": [
    {
     "data": {
      "text/plain": [
       "{'SP': 'Sao Paulo', 'RJ': 'Rio de Janeiro', 'MG': 'Belo Horizonte'}"
      ]
     },
     "execution_count": 5,
     "metadata": {},
     "output_type": "execute_result"
    }
   ],
   "source": [
    "capitais = dict([('SP','Sao Paulo'), ('RJ','Rio de Janeiro'), ('MG','Belo Horizonte')])\n",
    "capitais"
   ]
  },
  {
   "cell_type": "markdown",
   "metadata": {},
   "source": [
    "Outra forma usada para criação de dicionarios pode ser vista abaixo:"
   ]
  },
  {
   "cell_type": "code",
   "execution_count": 6,
   "metadata": {
    "ExecuteTime": {
     "end_time": "2019-08-06T21:57:01.851466Z",
     "start_time": "2019-08-06T21:57:01.824071Z"
    }
   },
   "outputs": [
    {
     "data": {
      "text/plain": [
       "{'SP': 'Sao Paulo', 'RJ': 'Rio de Janeiro', 'MG': 'Belo Horizonte'}"
      ]
     },
     "execution_count": 6,
     "metadata": {},
     "output_type": "execute_result"
    }
   ],
   "source": [
    "capitais = dict(\n",
    "    SP='Sao Paulo',\n",
    "    RJ='Rio de Janeiro',\n",
    "    MG='Belo Horizonte',\n",
    ")\n",
    "capitais"
   ]
  },
  {
   "cell_type": "markdown",
   "metadata": {},
   "source": [
    "Podemos conferir o tipo de dado usando a funcao ```type()```."
   ]
  },
  {
   "cell_type": "code",
   "execution_count": 7,
   "metadata": {
    "ExecuteTime": {
     "end_time": "2019-08-06T21:57:54.738466Z",
     "start_time": "2019-08-06T21:57:54.716916Z"
    }
   },
   "outputs": [
    {
     "data": {
      "text/plain": [
       "dict"
      ]
     },
     "execution_count": 7,
     "metadata": {},
     "output_type": "execute_result"
    }
   ],
   "source": [
    "type(capitais)"
   ]
  },
  {
   "cell_type": "markdown",
   "metadata": {},
   "source": [
    "- Como voce tira informacao de um dicionario?\n",
    "\n",
    "Voce pode acessar os valores associados a uma chave narrando a variavel seguida da sua chave entre colchetes (```[]```)"
   ]
  },
  {
   "cell_type": "code",
   "execution_count": 3,
   "metadata": {
    "ExecuteTime": {
     "end_time": "2019-08-05T23:23:10.752018Z",
     "start_time": "2019-08-05T23:23:10.706755Z"
    }
   },
   "outputs": [
    {
     "data": {
      "text/plain": [
       "'Sao Paulo'"
      ]
     },
     "execution_count": 3,
     "metadata": {},
     "output_type": "execute_result"
    }
   ],
   "source": [
    "capitais['SP']"
   ]
  },
  {
   "cell_type": "markdown",
   "metadata": {},
   "source": [
    "Caso a chave buscada nao exista recebemos o erro ```KeyError```:"
   ]
  },
  {
   "cell_type": "code",
   "execution_count": 8,
   "metadata": {
    "ExecuteTime": {
     "end_time": "2019-08-06T21:58:59.056046Z",
     "start_time": "2019-08-06T21:58:58.646057Z"
    }
   },
   "outputs": [
    {
     "ename": "KeyError",
     "evalue": "'AM'",
     "output_type": "error",
     "traceback": [
      "\u001b[0;31m---------------------------------------------------------------------------\u001b[0m",
      "\u001b[0;31mKeyError\u001b[0m                                  Traceback (most recent call last)",
      "\u001b[0;32m<ipython-input-8-fb58913f141d>\u001b[0m in \u001b[0;36m<module>\u001b[0;34m\u001b[0m\n\u001b[0;32m----> 1\u001b[0;31m \u001b[0mcapitais\u001b[0m\u001b[0;34m[\u001b[0m\u001b[0;34m'AM'\u001b[0m\u001b[0;34m]\u001b[0m\u001b[0;34m\u001b[0m\u001b[0m\n\u001b[0m",
      "\u001b[0;31mKeyError\u001b[0m: 'AM'"
     ]
    }
   ],
   "source": [
    "capitais['AM']"
   ]
  },
  {
   "cell_type": "markdown",
   "metadata": {},
   "source": [
    "Não podemos acessar valores do dicionario da mesma forma que em uma lista:"
   ]
  },
  {
   "cell_type": "code",
   "execution_count": 11,
   "metadata": {
    "ExecuteTime": {
     "end_time": "2019-08-06T22:07:28.060881Z",
     "start_time": "2019-08-06T22:07:28.034508Z"
    }
   },
   "outputs": [
    {
     "ename": "KeyError",
     "evalue": "-1",
     "output_type": "error",
     "traceback": [
      "\u001b[0;31m---------------------------------------------------------------------------\u001b[0m",
      "\u001b[0;31mKeyError\u001b[0m                                  Traceback (most recent call last)",
      "\u001b[0;32m<ipython-input-11-2be46f9d0136>\u001b[0m in \u001b[0;36m<module>\u001b[0;34m\u001b[0m\n\u001b[0;32m----> 1\u001b[0;31m \u001b[0mcapitais\u001b[0m\u001b[0;34m[\u001b[0m\u001b[0;34m-\u001b[0m\u001b[0;36m1\u001b[0m\u001b[0;34m]\u001b[0m\u001b[0;34m\u001b[0m\u001b[0m\n\u001b[0m",
      "\u001b[0;31mKeyError\u001b[0m: -1"
     ]
    }
   ],
   "source": [
    "capitais[-1]"
   ]
  },
  {
   "cell_type": "code",
   "execution_count": 13,
   "metadata": {
    "ExecuteTime": {
     "end_time": "2019-08-06T22:07:42.328785Z",
     "start_time": "2019-08-06T22:07:42.295944Z"
    }
   },
   "outputs": [
    {
     "ename": "TypeError",
     "evalue": "unhashable type: 'slice'",
     "output_type": "error",
     "traceback": [
      "\u001b[0;31m---------------------------------------------------------------------------\u001b[0m",
      "\u001b[0;31mTypeError\u001b[0m                                 Traceback (most recent call last)",
      "\u001b[0;32m<ipython-input-13-defd806d3881>\u001b[0m in \u001b[0;36m<module>\u001b[0;34m\u001b[0m\n\u001b[0;32m----> 1\u001b[0;31m \u001b[0mcapitais\u001b[0m\u001b[0;34m[\u001b[0m\u001b[0;34m:\u001b[0m\u001b[0;36m2\u001b[0m\u001b[0;34m]\u001b[0m\u001b[0;34m\u001b[0m\u001b[0m\n\u001b[0m",
      "\u001b[0;31mTypeError\u001b[0m: unhashable type: 'slice'"
     ]
    }
   ],
   "source": [
    "capitais[:2]"
   ]
  },
  {
   "cell_type": "markdown",
   "metadata": {},
   "source": [
    "Para adicionar itens em um dicionario existente coloque a nova chave entre colchetes seguida de um igual e o novo valor."
   ]
  },
  {
   "cell_type": "code",
   "execution_count": 4,
   "metadata": {
    "ExecuteTime": {
     "end_time": "2019-08-05T23:24:35.000027Z",
     "start_time": "2019-08-05T23:24:34.995418Z"
    }
   },
   "outputs": [],
   "source": [
    "capitais['AM'] = 'Manaus'"
   ]
  },
  {
   "cell_type": "markdown",
   "metadata": {},
   "source": [
    "Para atualizar um valor usamos:"
   ]
  },
  {
   "cell_type": "code",
   "execution_count": 9,
   "metadata": {
    "ExecuteTime": {
     "end_time": "2019-08-06T21:59:54.734143Z",
     "start_time": "2019-08-06T21:59:54.725727Z"
    }
   },
   "outputs": [],
   "source": [
    "capitais['SP'] = 'São Paulo'"
   ]
  },
  {
   "cell_type": "code",
   "execution_count": 10,
   "metadata": {
    "ExecuteTime": {
     "end_time": "2019-08-06T21:59:55.57748Z",
     "start_time": "2019-08-06T21:59:55.560998Z"
    }
   },
   "outputs": [
    {
     "data": {
      "text/plain": [
       "{'SP': 'São Paulo', 'RJ': 'Rio de Janeiro', 'MG': 'Belo Horizonte'}"
      ]
     },
     "execution_count": 10,
     "metadata": {},
     "output_type": "execute_result"
    }
   ],
   "source": [
    "capitais"
   ]
  },
  {
   "cell_type": "markdown",
   "metadata": {},
   "source": [
    "- Como removemos itens de um dicionario?\n",
    "\n",
    "Para remover itens de um dicionario usamos ```del``` seguido da variavel e sua chave correspondente."
   ]
  },
  {
   "cell_type": "code",
   "execution_count": 6,
   "metadata": {
    "ExecuteTime": {
     "end_time": "2019-08-05T23:25:49.023868Z",
     "start_time": "2019-08-05T23:25:49.011846Z"
    }
   },
   "outputs": [],
   "source": [
    "del capitais['RJ']"
   ]
  },
  {
   "cell_type": "code",
   "execution_count": 7,
   "metadata": {
    "ExecuteTime": {
     "end_time": "2019-08-05T23:25:52.345238Z",
     "start_time": "2019-08-05T23:25:52.339104Z"
    }
   },
   "outputs": [
    {
     "data": {
      "text/plain": [
       "{'SP': 'Sao Paulo', 'MG': 'Belo Horizonte', 'AM': 'Manaus'}"
      ]
     },
     "execution_count": 7,
     "metadata": {},
     "output_type": "execute_result"
    }
   ],
   "source": [
    "capitais"
   ]
  },
  {
   "cell_type": "markdown",
   "metadata": {},
   "source": [
    "Podemos perceber que tanto a chave quanto o valor foram deletados."
   ]
  },
  {
   "cell_type": "markdown",
   "metadata": {},
   "source": [
    "## Incrementando um dicionario"
   ]
  },
  {
   "cell_type": "code",
   "execution_count": 1,
   "metadata": {
    "ExecuteTime": {
     "end_time": "2019-08-06T22:12:35.305987Z",
     "start_time": "2019-08-06T22:12:35.28929Z"
    }
   },
   "outputs": [],
   "source": [
    "pessoa = {}\n",
    "pessoa['primeiro_nome'] = 'Alan'\n",
    "pessoa['sobrenome'] = 'Turing'\n",
    "pessoa['idade'] = 41\n",
    "pessoa['esposa'] = 'Ricardão'\n",
    "pessoa['filhos'] = ['Huguinho', 'Zezinho', 'Luizinho']\n",
    "pessoa['pets'] = {'cachorro': 'Rex', 'gato': 'Olivia'}"
   ]
  },
  {
   "cell_type": "code",
   "execution_count": 19,
   "metadata": {
    "ExecuteTime": {
     "end_time": "2019-08-06T22:12:39.224656Z",
     "start_time": "2019-08-06T22:12:39.216016Z"
    }
   },
   "outputs": [
    {
     "data": {
      "text/plain": [
       "{'primeiro_nome': 'Alan',\n",
       " 'sobrenome': 'Turing',\n",
       " 'idade': 41,\n",
       " 'esposa': 'Ricardão',\n",
       " 'filhos': ['Huguinho', 'Zezinho', 'Luizinho'],\n",
       " 'pets': {'cachorro': 'Rex', 'gato': 'Olivia'}}"
      ]
     },
     "execution_count": 19,
     "metadata": {},
     "output_type": "execute_result"
    }
   ],
   "source": [
    "pessoa"
   ]
  },
  {
   "cell_type": "code",
   "execution_count": 2,
   "metadata": {
    "ExecuteTime": {
     "end_time": "2019-08-06T22:13:34.607116Z",
     "start_time": "2019-08-06T22:13:34.603663Z"
    }
   },
   "outputs": [
    {
     "data": {
      "text/plain": [
       "'Huguinho'"
      ]
     },
     "execution_count": 2,
     "metadata": {},
     "output_type": "execute_result"
    }
   ],
   "source": [
    "# acessar Huguinho\n",
    "pessoa['filhos'][0]"
   ]
  },
  {
   "cell_type": "code",
   "execution_count": 3,
   "metadata": {
    "ExecuteTime": {
     "end_time": "2019-08-06T22:13:44.152737Z",
     "start_time": "2019-08-06T22:13:44.141094Z"
    }
   },
   "outputs": [
    {
     "data": {
      "text/plain": [
       "'Olivia'"
      ]
     },
     "execution_count": 3,
     "metadata": {},
     "output_type": "execute_result"
    }
   ],
   "source": [
    "# acessar Olivia\n",
    "pessoa['pets']['gato']"
   ]
  },
  {
   "cell_type": "markdown",
   "metadata": {},
   "source": [
    "## Verificar elementos dentro de um dicionario"
   ]
  },
  {
   "cell_type": "code",
   "execution_count": 26,
   "metadata": {
    "ExecuteTime": {
     "end_time": "2019-08-06T22:21:21.903834Z",
     "start_time": "2019-08-06T22:21:21.882858Z"
    }
   },
   "outputs": [
    {
     "data": {
      "text/plain": [
       "False"
      ]
     },
     "execution_count": 26,
     "metadata": {},
     "output_type": "execute_result"
    }
   ],
   "source": [
    "'Rio de Janeiro' in capitais"
   ]
  },
  {
   "cell_type": "code",
   "execution_count": 27,
   "metadata": {
    "ExecuteTime": {
     "end_time": "2019-08-06T22:21:29.872908Z",
     "start_time": "2019-08-06T22:21:29.845606Z"
    }
   },
   "outputs": [
    {
     "data": {
      "text/plain": [
       "True"
      ]
     },
     "execution_count": 27,
     "metadata": {},
     "output_type": "execute_result"
    }
   ],
   "source": [
    "'SP' in capitais"
   ]
  },
  {
   "cell_type": "code",
   "execution_count": 28,
   "metadata": {
    "ExecuteTime": {
     "end_time": "2019-08-06T22:21:51.917754Z",
     "start_time": "2019-08-06T22:21:51.900017Z"
    }
   },
   "outputs": [
    {
     "data": {
      "text/plain": [
       "False"
      ]
     },
     "execution_count": 28,
     "metadata": {},
     "output_type": "execute_result"
    }
   ],
   "source": [
    "'SP' not in capitais"
   ]
  },
  {
   "cell_type": "code",
   "execution_count": 29,
   "metadata": {
    "ExecuteTime": {
     "end_time": "2019-08-06T22:22:30.266055Z",
     "start_time": "2019-08-06T22:22:30.254296Z"
    }
   },
   "outputs": [
    {
     "data": {
      "text/plain": [
       "True"
      ]
     },
     "execution_count": 29,
     "metadata": {},
     "output_type": "execute_result"
    }
   ],
   "source": [
    "'Rio de Janeiro' in capitais['RJ']"
   ]
  },
  {
   "cell_type": "markdown",
   "metadata": {},
   "source": [
    "## Tamanho de um dicionario"
   ]
  },
  {
   "cell_type": "code",
   "execution_count": 30,
   "metadata": {
    "ExecuteTime": {
     "end_time": "2019-08-06T22:23:28.559811Z",
     "start_time": "2019-08-06T22:23:28.547753Z"
    }
   },
   "outputs": [
    {
     "data": {
      "text/plain": [
       "3"
      ]
     },
     "execution_count": 30,
     "metadata": {},
     "output_type": "execute_result"
    }
   ],
   "source": [
    "len(capitais)"
   ]
  },
  {
   "cell_type": "markdown",
   "metadata": {},
   "source": [
    "## Metodos de Dicionario\n",
    "\n",
    "- O que o metodo ```.get()``` faz?\n",
    "\n",
    "O metodo ```get()``` retorna um valor associado a uma chave se essa chave existe no dicionario. Se a chave nao existe, ```get()``` retorna ```None``` e nao um erro."
   ]
  },
  {
   "cell_type": "code",
   "execution_count": 8,
   "metadata": {
    "ExecuteTime": {
     "end_time": "2019-08-05T23:28:00.159971Z",
     "start_time": "2019-08-05T23:28:00.143833Z"
    }
   },
   "outputs": [
    {
     "data": {
      "text/plain": [
       "'Sao Paulo'"
      ]
     },
     "execution_count": 8,
     "metadata": {},
     "output_type": "execute_result"
    }
   ],
   "source": [
    "capitais.get('SP')"
   ]
  },
  {
   "cell_type": "code",
   "execution_count": 9,
   "metadata": {
    "ExecuteTime": {
     "end_time": "2019-08-05T23:28:09.387963Z",
     "start_time": "2019-08-05T23:28:09.382472Z"
    }
   },
   "outputs": [],
   "source": [
    "capitais.get('BA')"
   ]
  },
  {
   "cell_type": "code",
   "execution_count": 10,
   "metadata": {
    "ExecuteTime": {
     "end_time": "2019-08-05T23:28:31.018703Z",
     "start_time": "2019-08-05T23:28:31.011568Z"
    }
   },
   "outputs": [
    {
     "data": {
      "text/plain": [
       "'nao achado'"
      ]
     },
     "execution_count": 10,
     "metadata": {},
     "output_type": "execute_result"
    }
   ],
   "source": [
    "capitais.get('BA', 'nao achado')"
   ]
  },
  {
   "cell_type": "code",
   "execution_count": 11,
   "metadata": {
    "ExecuteTime": {
     "end_time": "2019-08-05T23:28:42.740838Z",
     "start_time": "2019-08-05T23:28:42.731989Z"
    }
   },
   "outputs": [
    {
     "data": {
      "text/plain": [
       "'Sao Paulo'"
      ]
     },
     "execution_count": 11,
     "metadata": {},
     "output_type": "execute_result"
    }
   ],
   "source": [
    "capitais.get('SP', 'nao achado')"
   ]
  },
  {
   "cell_type": "markdown",
   "metadata": {},
   "source": [
    "- O que o metodo ```.keys()``` faz?\n",
    "\n",
    "O metodo ```keys()``` retorna as chaves do nosso dicionario."
   ]
  },
  {
   "cell_type": "code",
   "execution_count": 12,
   "metadata": {
    "ExecuteTime": {
     "end_time": "2019-08-05T23:29:23.230569Z",
     "start_time": "2019-08-05T23:29:23.213803Z"
    }
   },
   "outputs": [
    {
     "data": {
      "text/plain": [
       "dict_keys(['SP', 'MG', 'AM'])"
      ]
     },
     "execution_count": 12,
     "metadata": {},
     "output_type": "execute_result"
    }
   ],
   "source": [
    "capitais.keys()"
   ]
  },
  {
   "cell_type": "markdown",
   "metadata": {},
   "source": [
    "- O que o metodo ```.values()``` faz?\n",
    "\n",
    "O metodo ```values()``` retorna os valores do nosso dicionario."
   ]
  },
  {
   "cell_type": "code",
   "execution_count": 14,
   "metadata": {
    "ExecuteTime": {
     "end_time": "2019-08-05T23:30:04.839225Z",
     "start_time": "2019-08-05T23:30:04.834328Z"
    }
   },
   "outputs": [
    {
     "data": {
      "text/plain": [
       "dict_values(['Sao Paulo', 'Belo Horizonte', 'Manaus'])"
      ]
     },
     "execution_count": 14,
     "metadata": {},
     "output_type": "execute_result"
    }
   ],
   "source": [
    "capitais.values()"
   ]
  },
  {
   "cell_type": "markdown",
   "metadata": {},
   "source": [
    "- O que o metodo ```.items()``` faz?\n",
    "\n",
    "O metodo ```items()``` retorna pares de chave e valor."
   ]
  },
  {
   "cell_type": "code",
   "execution_count": 15,
   "metadata": {
    "ExecuteTime": {
     "end_time": "2019-08-05T23:30:51.708287Z",
     "start_time": "2019-08-05T23:30:51.694886Z"
    }
   },
   "outputs": [
    {
     "data": {
      "text/plain": [
       "dict_items([('SP', 'Sao Paulo'), ('MG', 'Belo Horizonte'), ('AM', 'Manaus')])"
      ]
     },
     "execution_count": 15,
     "metadata": {},
     "output_type": "execute_result"
    }
   ],
   "source": [
    "capitais.items()"
   ]
  },
  {
   "cell_type": "markdown",
   "metadata": {},
   "source": [
    "- O que o metodo ```.pop()```faz?\n",
    "\n",
    "Ele remove a chave do dicionario."
   ]
  },
  {
   "cell_type": "code",
   "execution_count": 38,
   "metadata": {
    "ExecuteTime": {
     "end_time": "2019-08-06T22:43:06.910361Z",
     "start_time": "2019-08-06T22:43:06.414447Z"
    }
   },
   "outputs": [
    {
     "ename": "KeyError",
     "evalue": "'AM'",
     "output_type": "error",
     "traceback": [
      "\u001b[0;31m---------------------------------------------------------------------------\u001b[0m",
      "\u001b[0;31mKeyError\u001b[0m                                  Traceback (most recent call last)",
      "\u001b[0;32m<ipython-input-38-1afd89828559>\u001b[0m in \u001b[0;36m<module>\u001b[0;34m\u001b[0m\n\u001b[0;32m----> 1\u001b[0;31m \u001b[0mcapitais\u001b[0m\u001b[0;34m.\u001b[0m\u001b[0mpop\u001b[0m\u001b[0;34m(\u001b[0m\u001b[0;34m'AM'\u001b[0m\u001b[0;34m)\u001b[0m\u001b[0;34m\u001b[0m\u001b[0m\n\u001b[0m",
      "\u001b[0;31mKeyError\u001b[0m: 'AM'"
     ]
    }
   ],
   "source": [
    "capitais.pop('AM')"
   ]
  },
  {
   "cell_type": "code",
   "execution_count": 39,
   "metadata": {
    "ExecuteTime": {
     "end_time": "2019-08-06T22:43:08.175487Z",
     "start_time": "2019-08-06T22:43:08.160997Z"
    }
   },
   "outputs": [
    {
     "data": {
      "text/plain": [
       "'nao tem'"
      ]
     },
     "execution_count": 39,
     "metadata": {},
     "output_type": "execute_result"
    }
   ],
   "source": [
    "capitais.pop('AM','nao tem')"
   ]
  },
  {
   "cell_type": "code",
   "execution_count": 40,
   "metadata": {
    "ExecuteTime": {
     "end_time": "2019-08-06T22:43:27.15463Z",
     "start_time": "2019-08-06T22:43:26.832047Z"
    }
   },
   "outputs": [
    {
     "ename": "KeyError",
     "evalue": "'Rio de Janeiro'",
     "output_type": "error",
     "traceback": [
      "\u001b[0;31m---------------------------------------------------------------------------\u001b[0m",
      "\u001b[0;31mKeyError\u001b[0m                                  Traceback (most recent call last)",
      "\u001b[0;32m<ipython-input-40-a600f2748d0d>\u001b[0m in \u001b[0;36m<module>\u001b[0;34m\u001b[0m\n\u001b[0;32m----> 1\u001b[0;31m \u001b[0mcapitais\u001b[0m\u001b[0;34m.\u001b[0m\u001b[0mpop\u001b[0m\u001b[0;34m(\u001b[0m\u001b[0;34m'Rio de Janeiro'\u001b[0m\u001b[0;34m)\u001b[0m\u001b[0;34m\u001b[0m\u001b[0m\n\u001b[0m",
      "\u001b[0;31mKeyError\u001b[0m: 'Rio de Janeiro'"
     ]
    }
   ],
   "source": [
    "capitais.pop('Rio de Janeiro')"
   ]
  },
  {
   "cell_type": "code",
   "execution_count": 41,
   "metadata": {
    "ExecuteTime": {
     "end_time": "2019-08-06T22:43:37.812805Z",
     "start_time": "2019-08-06T22:43:37.798862Z"
    }
   },
   "outputs": [
    {
     "data": {
      "text/plain": [
       "'Rio de Janeiro'"
      ]
     },
     "execution_count": 41,
     "metadata": {},
     "output_type": "execute_result"
    }
   ],
   "source": [
    "capitais.pop('RJ')"
   ]
  },
  {
   "cell_type": "code",
   "execution_count": 42,
   "metadata": {
    "ExecuteTime": {
     "end_time": "2019-08-06T22:43:45.773702Z",
     "start_time": "2019-08-06T22:43:45.741666Z"
    }
   },
   "outputs": [
    {
     "data": {
      "text/plain": [
       "{'SP': 'Sao Paulo', 'MG': 'Belo Horizonte'}"
      ]
     },
     "execution_count": 42,
     "metadata": {},
     "output_type": "execute_result"
    }
   ],
   "source": [
    "capitais"
   ]
  },
  {
   "cell_type": "code",
   "execution_count": 43,
   "metadata": {
    "ExecuteTime": {
     "end_time": "2019-08-06T22:44:23.862655Z",
     "start_time": "2019-08-06T22:44:23.76847Z"
    }
   },
   "outputs": [
    {
     "ename": "TypeError",
     "evalue": "pop expected at least 1 arguments, got 0",
     "output_type": "error",
     "traceback": [
      "\u001b[0;31m---------------------------------------------------------------------------\u001b[0m",
      "\u001b[0;31mTypeError\u001b[0m                                 Traceback (most recent call last)",
      "\u001b[0;32m<ipython-input-43-656048978603>\u001b[0m in \u001b[0;36m<module>\u001b[0;34m\u001b[0m\n\u001b[0;32m----> 1\u001b[0;31m \u001b[0mcapitais\u001b[0m\u001b[0;34m.\u001b[0m\u001b[0mpop\u001b[0m\u001b[0;34m(\u001b[0m\u001b[0;34m)\u001b[0m\u001b[0;34m\u001b[0m\u001b[0m\n\u001b[0m",
      "\u001b[0;31mTypeError\u001b[0m: pop expected at least 1 arguments, got 0"
     ]
    }
   ],
   "source": [
    "capitais.pop()"
   ]
  },
  {
   "cell_type": "markdown",
   "metadata": {},
   "source": [
    "- O que o método ```.popitem()```faz()\n",
    "\n",
    "Remove randomicamente um par chave-valor"
   ]
  },
  {
   "cell_type": "code",
   "execution_count": 44,
   "metadata": {
    "ExecuteTime": {
     "end_time": "2019-08-06T22:46:03.887919Z",
     "start_time": "2019-08-06T22:46:03.868078Z"
    }
   },
   "outputs": [
    {
     "data": {
      "text/plain": [
       "('MG', 'Belo Horizonte')"
      ]
     },
     "execution_count": 44,
     "metadata": {},
     "output_type": "execute_result"
    }
   ],
   "source": [
    "capitais.popitem()"
   ]
  },
  {
   "cell_type": "code",
   "execution_count": 45,
   "metadata": {
    "ExecuteTime": {
     "end_time": "2019-08-06T22:46:28.467443Z",
     "start_time": "2019-08-06T22:46:28.454631Z"
    }
   },
   "outputs": [
    {
     "data": {
      "text/plain": [
       "{'SP': 'Sao Paulo'}"
      ]
     },
     "execution_count": 45,
     "metadata": {},
     "output_type": "execute_result"
    }
   ],
   "source": [
    "capitais"
   ]
  },
  {
   "cell_type": "code",
   "execution_count": 46,
   "metadata": {
    "ExecuteTime": {
     "end_time": "2019-08-06T22:46:35.875301Z",
     "start_time": "2019-08-06T22:46:35.863131Z"
    }
   },
   "outputs": [
    {
     "data": {
      "text/plain": [
       "('SP', 'Sao Paulo')"
      ]
     },
     "execution_count": 46,
     "metadata": {},
     "output_type": "execute_result"
    }
   ],
   "source": [
    "capitais.popitem()"
   ]
  },
  {
   "cell_type": "code",
   "execution_count": 47,
   "metadata": {
    "ExecuteTime": {
     "end_time": "2019-08-06T22:46:39.748844Z",
     "start_time": "2019-08-06T22:46:39.739851Z"
    }
   },
   "outputs": [
    {
     "data": {
      "text/plain": [
       "{}"
      ]
     },
     "execution_count": 47,
     "metadata": {},
     "output_type": "execute_result"
    }
   ],
   "source": [
    "capitais"
   ]
  },
  {
   "cell_type": "code",
   "execution_count": 48,
   "metadata": {
    "ExecuteTime": {
     "end_time": "2019-08-06T22:46:44.828481Z",
     "start_time": "2019-08-06T22:46:44.79102Z"
    }
   },
   "outputs": [
    {
     "ename": "KeyError",
     "evalue": "'popitem(): dictionary is empty'",
     "output_type": "error",
     "traceback": [
      "\u001b[0;31m---------------------------------------------------------------------------\u001b[0m",
      "\u001b[0;31mKeyError\u001b[0m                                  Traceback (most recent call last)",
      "\u001b[0;32m<ipython-input-48-33ce242d16d9>\u001b[0m in \u001b[0;36m<module>\u001b[0;34m\u001b[0m\n\u001b[0;32m----> 1\u001b[0;31m \u001b[0mcapitais\u001b[0m\u001b[0;34m.\u001b[0m\u001b[0mpopitem\u001b[0m\u001b[0;34m(\u001b[0m\u001b[0;34m)\u001b[0m\u001b[0;34m\u001b[0m\u001b[0m\n\u001b[0m",
      "\u001b[0;31mKeyError\u001b[0m: 'popitem(): dictionary is empty'"
     ]
    }
   ],
   "source": [
    "capitais.popitem()"
   ]
  },
  {
   "cell_type": "markdown",
   "metadata": {},
   "source": [
    "- O que o método ```.clear()``` faz?"
   ]
  },
  {
   "cell_type": "code",
   "execution_count": 49,
   "metadata": {
    "ExecuteTime": {
     "end_time": "2019-08-06T22:47:10.280375Z",
     "start_time": "2019-08-06T22:47:10.257944Z"
    }
   },
   "outputs": [
    {
     "data": {
      "text/plain": [
       "{'primeiro_nome': 'Alan',\n",
       " 'sobrenome': 'Turing',\n",
       " 'idade': 41,\n",
       " 'esposa': 'Ricardão',\n",
       " 'filhos': ['Huguinho', 'Zezinho', 'Luizinho'],\n",
       " 'pets': {'cachorro': 'Rex', 'gato': 'Olivia'}}"
      ]
     },
     "execution_count": 49,
     "metadata": {},
     "output_type": "execute_result"
    }
   ],
   "source": [
    "pessoa"
   ]
  },
  {
   "cell_type": "code",
   "execution_count": 50,
   "metadata": {
    "ExecuteTime": {
     "end_time": "2019-08-06T22:47:16.694755Z",
     "start_time": "2019-08-06T22:47:16.68379Z"
    }
   },
   "outputs": [],
   "source": [
    "pessoa.clear()"
   ]
  },
  {
   "cell_type": "code",
   "execution_count": 51,
   "metadata": {
    "ExecuteTime": {
     "end_time": "2019-08-06T22:47:22.025589Z",
     "start_time": "2019-08-06T22:47:21.999755Z"
    }
   },
   "outputs": [
    {
     "data": {
      "text/plain": [
       "{}"
      ]
     },
     "execution_count": 51,
     "metadata": {},
     "output_type": "execute_result"
    }
   ],
   "source": [
    "pessoa"
   ]
  },
  {
   "cell_type": "markdown",
   "metadata": {},
   "source": [
    "- O que o método ```.fromkeys()```faz?"
   ]
  },
  {
   "cell_type": "code",
   "execution_count": 54,
   "metadata": {
    "ExecuteTime": {
     "end_time": "2019-08-06T22:51:57.41756Z",
     "start_time": "2019-08-06T22:51:57.402912Z"
    }
   },
   "outputs": [],
   "source": [
    "sequencia = ('valor1', 'valor2', 'valor3')"
   ]
  },
  {
   "cell_type": "code",
   "execution_count": 56,
   "metadata": {
    "ExecuteTime": {
     "end_time": "2019-08-06T22:56:03.363044Z",
     "start_time": "2019-08-06T22:56:03.34885Z"
    }
   },
   "outputs": [
    {
     "data": {
      "text/plain": [
       "{'valor1': 10, 'valor2': 10, 'valor3': 10}"
      ]
     },
     "execution_count": 56,
     "metadata": {},
     "output_type": "execute_result"
    }
   ],
   "source": [
    "novo_dict = dict.fromkeys(sequencia, 10)\n",
    "novo_dict"
   ]
  },
  {
   "cell_type": "markdown",
   "metadata": {},
   "source": [
    "- O que o comando ```.setdefault()``` faz?\n",
    "\n",
    "Ele verifica que temos a chave selecionada dentro do dicionario, caso nao tenha, ele cria com o valor ```None```."
   ]
  },
  {
   "cell_type": "code",
   "execution_count": 61,
   "metadata": {
    "ExecuteTime": {
     "end_time": "2019-08-06T22:58:41.55408Z",
     "start_time": "2019-08-06T22:58:41.534418Z"
    }
   },
   "outputs": [
    {
     "data": {
      "text/plain": [
       "10"
      ]
     },
     "execution_count": 61,
     "metadata": {},
     "output_type": "execute_result"
    }
   ],
   "source": [
    "novo_dict.setdefault('valor1')"
   ]
  },
  {
   "cell_type": "code",
   "execution_count": 62,
   "metadata": {
    "ExecuteTime": {
     "end_time": "2019-08-06T22:58:42.084251Z",
     "start_time": "2019-08-06T22:58:42.074864Z"
    }
   },
   "outputs": [],
   "source": [
    "novo_dict.setdefault('valor4')"
   ]
  },
  {
   "cell_type": "code",
   "execution_count": 60,
   "metadata": {
    "ExecuteTime": {
     "end_time": "2019-08-06T22:58:16.224675Z",
     "start_time": "2019-08-06T22:58:16.21258Z"
    }
   },
   "outputs": [
    {
     "data": {
      "text/plain": [
       "{'valor1': 10, 'valor2': 10, 'valor3': 10, 'valor4': None}"
      ]
     },
     "execution_count": 60,
     "metadata": {},
     "output_type": "execute_result"
    }
   ],
   "source": [
    "novo_dict"
   ]
  },
  {
   "cell_type": "code",
   "execution_count": 63,
   "metadata": {
    "ExecuteTime": {
     "end_time": "2019-08-06T22:58:59.214591Z",
     "start_time": "2019-08-06T22:58:59.188607Z"
    }
   },
   "outputs": [
    {
     "data": {
      "text/plain": [
       "11"
      ]
     },
     "execution_count": 63,
     "metadata": {},
     "output_type": "execute_result"
    }
   ],
   "source": [
    "novo_dict.setdefault('valor5', 11)"
   ]
  },
  {
   "cell_type": "code",
   "execution_count": 64,
   "metadata": {
    "ExecuteTime": {
     "end_time": "2019-08-06T22:59:05.218685Z",
     "start_time": "2019-08-06T22:59:05.205303Z"
    }
   },
   "outputs": [
    {
     "data": {
      "text/plain": [
       "{'valor1': 10, 'valor2': 10, 'valor3': 10, 'valor4': None, 'valor5': 11}"
      ]
     },
     "execution_count": 64,
     "metadata": {},
     "output_type": "execute_result"
    }
   ],
   "source": [
    "novo_dict"
   ]
  },
  {
   "cell_type": "markdown",
   "metadata": {},
   "source": [
    "## Fazendo Looping em um Dicionario\n",
    "\n",
    "- Como voce percorre todas as chaves em um dicionario?\n",
    "\n",
    "Um loop comum em um dicionario acessa suas chaves."
   ]
  },
  {
   "cell_type": "code",
   "execution_count": 52,
   "metadata": {
    "ExecuteTime": {
     "end_time": "2019-08-06T22:49:18.801356Z",
     "start_time": "2019-08-06T22:49:18.775882Z"
    }
   },
   "outputs": [
    {
     "data": {
      "text/plain": [
       "{'SP': 'Sao Paulo', 'RJ': 'Rio de Janeiro', 'MG': 'Belo Horizonte'}"
      ]
     },
     "execution_count": 52,
     "metadata": {},
     "output_type": "execute_result"
    }
   ],
   "source": [
    "capitais = dict([('SP','Sao Paulo'), ('RJ','Rio de Janeiro'), ('MG','Belo Horizonte')])\n",
    "capitais"
   ]
  },
  {
   "cell_type": "code",
   "execution_count": 16,
   "metadata": {
    "ExecuteTime": {
     "end_time": "2019-08-05T23:32:28.143367Z",
     "start_time": "2019-08-05T23:32:28.12989Z"
    }
   },
   "outputs": [
    {
     "name": "stdout",
     "output_type": "stream",
     "text": [
      "Estado: SP\n",
      "Estado: MG\n",
      "Estado: AM\n"
     ]
    }
   ],
   "source": [
    "for estado in capitais:\n",
    "    print(f'Estado: {estado}')"
   ]
  },
  {
   "cell_type": "markdown",
   "metadata": {},
   "source": [
    "- Como voce percorre todos os valores de um dicionario?\n",
    "\n",
    "Para percorrer os valores em um dicionario, use o metodo ```values()```."
   ]
  },
  {
   "cell_type": "code",
   "execution_count": 17,
   "metadata": {
    "ExecuteTime": {
     "end_time": "2019-08-05T23:33:42.715068Z",
     "start_time": "2019-08-05T23:33:42.709816Z"
    }
   },
   "outputs": [
    {
     "name": "stdout",
     "output_type": "stream",
     "text": [
      "Capital: Sao Paulo\n",
      "Capital: Belo Horizonte\n",
      "Capital: Manaus\n"
     ]
    }
   ],
   "source": [
    "for capital in capitais.values():\n",
    "    print(f'Capital: {capital}')"
   ]
  },
  {
   "cell_type": "markdown",
   "metadata": {},
   "source": [
    "- Como voce percorre todas os pares chave-valor em um dicionario? \n",
    "\n",
    "Para acessa tanto as chaves como os valores em um dicionario use o metodo ```.keys()```."
   ]
  },
  {
   "cell_type": "code",
   "execution_count": 18,
   "metadata": {
    "ExecuteTime": {
     "end_time": "2019-08-05T23:34:57.316794Z",
     "start_time": "2019-08-05T23:34:57.308083Z"
    }
   },
   "outputs": [
    {
     "name": "stdout",
     "output_type": "stream",
     "text": [
      "SP: Sao Paulo\n",
      "MG: Belo Horizonte\n",
      "AM: Manaus\n"
     ]
    }
   ],
   "source": [
    "for estado, capital in capitais.items():\n",
    "    print(f'{estado}: {capital}')"
   ]
  },
  {
   "cell_type": "markdown",
   "metadata": {},
   "source": [
    "## Dicionarios de Exemplos\n",
    "\n",
    "- Como um dicionario de valores similares se parecem?\n",
    "\n",
    "- Como um dicionar que representa apenas um objeto se parece?"
   ]
  },
  {
   "cell_type": "code",
   "execution_count": 25,
   "metadata": {
    "ExecuteTime": {
     "end_time": "2019-08-05T23:49:53.065954Z",
     "start_time": "2019-08-05T23:49:53.060882Z"
    }
   },
   "outputs": [],
   "source": [
    "def nacao():\n",
    "    dicionario = {}\n",
    "    dicionario['nome'] = input('Digite o nome do país: ')\n",
    "    dicionario['cores'] = input('Cores da bandeira: ').split()\n",
    "    dicionario['populacao'] = input('Tamanho da populacao: ')\n",
    "    return dicionario"
   ]
  },
  {
   "cell_type": "code",
   "execution_count": 26,
   "metadata": {
    "ExecuteTime": {
     "end_time": "2019-08-05T23:50:04.410331Z",
     "start_time": "2019-08-05T23:49:54.024868Z"
    }
   },
   "outputs": [
    {
     "name": "stdout",
     "output_type": "stream",
     "text": [
      "Digite o nome do país: Brasil\n",
      "Cores da bandeira: Verde Amarelo\n",
      "Tamanho da populacao: 200\n"
     ]
    }
   ],
   "source": [
    "pais_1 = nacao()"
   ]
  },
  {
   "cell_type": "code",
   "execution_count": 27,
   "metadata": {
    "ExecuteTime": {
     "end_time": "2019-08-05T23:50:05.362813Z",
     "start_time": "2019-08-05T23:50:05.352763Z"
    }
   },
   "outputs": [
    {
     "data": {
      "text/plain": [
       "{'nome': 'Brasil', 'cores': ['Verde', 'Amarelo'], 'populacao': '200'}"
      ]
     },
     "execution_count": 27,
     "metadata": {},
     "output_type": "execute_result"
    }
   ],
   "source": [
    "pais_1"
   ]
  },
  {
   "cell_type": "markdown",
   "metadata": {},
   "source": [
    "## Uma lista de dicionarios\n",
    "\n",
    "- Como voce guarda um conjunto de dicionarios em uma lista?\n",
    "\n",
    "- Como voce trabalha com dicionarios guardados em uma lista?"
   ]
  },
  {
   "cell_type": "code",
   "execution_count": null,
   "metadata": {},
   "outputs": [],
   "source": []
  },
  {
   "cell_type": "markdown",
   "metadata": {},
   "source": [
    "## Uma lista em um Dicionario\n",
    "\n",
    "- Como voce usa uma lista dentro de um dicionario?\n",
    "\n",
    "- Como voce trabalha com uma lista que esta guardada em um dicionario?"
   ]
  },
  {
   "cell_type": "code",
   "execution_count": null,
   "metadata": {},
   "outputs": [],
   "source": []
  }
 ],
 "metadata": {
  "kernelspec": {
   "display_name": "Python 3",
   "language": "python",
   "name": "python3"
  },
  "language_info": {
   "codemirror_mode": {
    "name": "ipython",
    "version": 3
   },
   "file_extension": ".py",
   "mimetype": "text/x-python",
   "name": "python",
   "nbconvert_exporter": "python",
   "pygments_lexer": "ipython3",
   "version": "3.7.3"
  }
 },
 "nbformat": 4,
 "nbformat_minor": 4
}
