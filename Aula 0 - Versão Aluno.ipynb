{
 "cells": [
  {
   "cell_type": "code",
   "execution_count": 10,
   "metadata": {
    "ExecuteTime": {
     "end_time": "2019-09-05T13:53:21.930837Z",
     "start_time": "2019-09-05T13:53:19.3469Z"
    }
   },
   "outputs": [],
   "source": [
    "import pandas as pd\n",
    "import numpy as np\n",
    "import matplotlib.pyplot as plt"
   ]
  },
  {
   "cell_type": "code",
   "execution_count": 2,
   "metadata": {},
   "outputs": [],
   "source": [
    "a = 10"
   ]
  },
  {
   "cell_type": "code",
   "execution_count": 11,
   "metadata": {},
   "outputs": [
    {
     "data": {
      "text/plain": [
       "(106823, 21)"
      ]
     },
     "execution_count": 11,
     "metadata": {},
     "output_type": "execute_result"
    }
   ],
   "source": [
    "data = pd.read_csv('gas-price-2004-2019.tsv', sep='\\t')\n",
    "data.head()\n",
    "data.shape"
   ]
  },
  {
   "cell_type": "code",
   "execution_count": 17,
   "metadata": {},
   "outputs": [
    {
     "data": {
      "text/plain": [
       "<matplotlib.axes._subplots.AxesSubplot at 0x7f8283504da0>"
      ]
     },
     "execution_count": 17,
     "metadata": {},
     "output_type": "execute_result"
    },
    {
     "data": {
      "image/png": "[encoded data removed]",
      "text/plain": [
       "<Figure size 432x288 with 1 Axes>"
      ]
     },
     "metadata": {
      "needs_background": "light"
     },
     "output_type": "display_data"
    }
   ],
   "source": [
    "data['ESTADO'].value_counts().plot.bar()"
   ]
  },
  {
   "cell_type": "code",
   "execution_count": 18,
   "metadata": {
    "ExecuteTime": {
     "end_time": "2019-09-05T13:53:22.270166Z",
     "start_time": "2019-09-05T13:53:21.939211Z"
    }
   },
   "outputs": [],
   "source": [
    "# importando arquivo de Excel\n",
    "xls = pd.ExcelFile('P1-Airline-Comparison.xlsx')"
   ]
  },
  {
   "cell_type": "code",
   "execution_count": 19,
   "metadata": {
    "ExecuteTime": {
     "end_time": "2019-09-05T13:53:22.337112Z",
     "start_time": "2019-09-05T13:53:22.280246Z"
    }
   },
   "outputs": [
    {
     "data": {
      "text/plain": [
       "['Airline1', 'Airline2']"
      ]
     },
     "execution_count": 19,
     "metadata": {},
     "output_type": "execute_result"
    }
   ],
   "source": [
    "# conferindo o nomes das Planilhas\n",
    "xls.sheet_names"
   ]
  },
  {
   "cell_type": "code",
   "execution_count": 20,
   "metadata": {
    "ExecuteTime": {
     "end_time": "2019-09-05T13:53:22.552257Z",
     "start_time": "2019-09-05T13:53:22.3455Z"
    }
   },
   "outputs": [
    {
     "data": {
      "text/html": [
       "<div>\n",
       "<style scoped>\n",
       "    .dataframe tbody tr th:only-of-type {\n",
       "        vertical-align: middle;\n",
       "    }\n",
       "\n",
       "    .dataframe tbody tr th {\n",
       "        vertical-align: top;\n",
       "    }\n",
       "\n",
       "    .dataframe thead th {\n",
       "        text-align: right;\n",
       "    }\n",
       "</style>\n",
       "<table border=\"1\" class=\"dataframe\">\n",
       "  <thead>\n",
       "    <tr style=\"text-align: right;\">\n",
       "      <th></th>\n",
       "      <th>Period</th>\n",
       "      <th>Region</th>\n",
       "      <th>Revenue</th>\n",
       "    </tr>\n",
       "  </thead>\n",
       "  <tbody>\n",
       "    <tr>\n",
       "      <th>0</th>\n",
       "      <td>FY2015</td>\n",
       "      <td>Africa</td>\n",
       "      <td>10000000</td>\n",
       "    </tr>\n",
       "    <tr>\n",
       "      <th>1</th>\n",
       "      <td>FY2015</td>\n",
       "      <td>Asia</td>\n",
       "      <td>20000000</td>\n",
       "    </tr>\n",
       "    <tr>\n",
       "      <th>2</th>\n",
       "      <td>FY2015</td>\n",
       "      <td>Australia</td>\n",
       "      <td>70000000</td>\n",
       "    </tr>\n",
       "    <tr>\n",
       "      <th>3</th>\n",
       "      <td>FY2015</td>\n",
       "      <td>Europe</td>\n",
       "      <td>120000000</td>\n",
       "    </tr>\n",
       "    <tr>\n",
       "      <th>4</th>\n",
       "      <td>FY2015</td>\n",
       "      <td>North America</td>\n",
       "      <td>150000000</td>\n",
       "    </tr>\n",
       "    <tr>\n",
       "      <th>5</th>\n",
       "      <td>FY2015</td>\n",
       "      <td>South America</td>\n",
       "      <td>60000000</td>\n",
       "    </tr>\n",
       "    <tr>\n",
       "      <th>6</th>\n",
       "      <td>FY2016</td>\n",
       "      <td>Africa</td>\n",
       "      <td>8000000</td>\n",
       "    </tr>\n",
       "    <tr>\n",
       "      <th>7</th>\n",
       "      <td>FY2016</td>\n",
       "      <td>Asia</td>\n",
       "      <td>16000000</td>\n",
       "    </tr>\n",
       "    <tr>\n",
       "      <th>8</th>\n",
       "      <td>FY2016</td>\n",
       "      <td>Australia</td>\n",
       "      <td>56000000</td>\n",
       "    </tr>\n",
       "    <tr>\n",
       "      <th>9</th>\n",
       "      <td>FY2016</td>\n",
       "      <td>Europe</td>\n",
       "      <td>96000000</td>\n",
       "    </tr>\n",
       "    <tr>\n",
       "      <th>10</th>\n",
       "      <td>FY2016</td>\n",
       "      <td>North America</td>\n",
       "      <td>120000000</td>\n",
       "    </tr>\n",
       "    <tr>\n",
       "      <th>11</th>\n",
       "      <td>FY2016</td>\n",
       "      <td>South America</td>\n",
       "      <td>48000000</td>\n",
       "    </tr>\n",
       "  </tbody>\n",
       "</table>\n",
       "</div>"
      ],
      "text/plain": [
       "    Period         Region    Revenue\n",
       "0   FY2015         Africa   10000000\n",
       "1   FY2015           Asia   20000000\n",
       "2   FY2015      Australia   70000000\n",
       "3   FY2015         Europe  120000000\n",
       "4   FY2015  North America  150000000\n",
       "5   FY2015  South America   60000000\n",
       "6   FY2016         Africa    8000000\n",
       "7   FY2016           Asia   16000000\n",
       "8   FY2016      Australia   56000000\n",
       "9   FY2016         Europe   96000000\n",
       "10  FY2016  North America  120000000\n",
       "11  FY2016  South America   48000000"
      ]
     },
     "execution_count": 20,
     "metadata": {},
     "output_type": "execute_result"
    }
   ],
   "source": [
    "# selecionando a primeira planilha, index 0\n",
    "xls.parse(0)"
   ]
  },
  {
   "cell_type": "code",
   "execution_count": 4,
   "metadata": {
    "ExecuteTime": {
     "end_time": "2019-09-05T13:53:22.759526Z",
     "start_time": "2019-09-05T13:53:22.564026Z"
    }
   },
   "outputs": [],
   "source": [
    "# selecionando a primeira planilha, index 0"
   ]
  },
  {
   "cell_type": "code",
   "execution_count": 5,
   "metadata": {
    "ExecuteTime": {
     "end_time": "2019-09-05T13:53:22.916562Z",
     "start_time": "2019-09-05T13:53:22.778616Z"
    }
   },
   "outputs": [],
   "source": [
    "# mostrando os valores da planilha 'Airline1'"
   ]
  },
  {
   "cell_type": "code",
   "execution_count": 6,
   "metadata": {
    "ExecuteTime": {
     "end_time": "2019-09-05T13:53:23.234557Z",
     "start_time": "2019-09-05T13:53:22.923753Z"
    }
   },
   "outputs": [],
   "source": [
    "# importando excel com outro método do Pandas"
   ]
  },
  {
   "cell_type": "code",
   "execution_count": 7,
   "metadata": {
    "ExecuteTime": {
     "end_time": "2019-09-05T13:53:23.553276Z",
     "start_time": "2019-09-05T13:53:23.242604Z"
    }
   },
   "outputs": [],
   "source": [
    "# importando excel com outro método do Pandas"
   ]
  },
  {
   "cell_type": "code",
   "execution_count": 8,
   "metadata": {
    "ExecuteTime": {
     "end_time": "2019-09-05T13:53:24.043607Z",
     "start_time": "2019-09-05T13:53:23.567766Z"
    }
   },
   "outputs": [],
   "source": [
    "# colocando a tabela Revenue em ordem, menor para o maior"
   ]
  },
  {
   "cell_type": "code",
   "execution_count": 9,
   "metadata": {
    "ExecuteTime": {
     "end_time": "2019-09-05T13:53:24.267593Z",
     "start_time": "2019-09-05T13:53:24.05392Z"
    }
   },
   "outputs": [],
   "source": [
    "# colocando a tabela Revenue em ordem, maior para o menor"
   ]
  },
  {
   "cell_type": "markdown",
   "metadata": {},
   "source": [
    "## Hora de fazer voce mesmo"
   ]
  },
  {
   "cell_type": "code",
   "execution_count": 10,
   "metadata": {
    "ExecuteTime": {
     "end_time": "2019-09-05T13:53:24.802259Z",
     "start_time": "2019-09-05T13:53:24.272866Z"
    }
   },
   "outputs": [],
   "source": [
    "# mostrar os arquivos contidos na sua pasta"
   ]
  },
  {
   "cell_type": "code",
   "execution_count": 11,
   "metadata": {
    "ExecuteTime": {
     "end_time": "2019-09-05T13:53:25.151162Z",
     "start_time": "2019-09-05T13:53:24.816286Z"
    }
   },
   "outputs": [],
   "source": [
    "# importe um arquivo de sua escolha"
   ]
  },
  {
   "cell_type": "code",
   "execution_count": 12,
   "metadata": {
    "ExecuteTime": {
     "end_time": "2019-09-05T13:53:28.751197Z",
     "start_time": "2019-09-05T13:53:28.590449Z"
    }
   },
   "outputs": [],
   "source": [
    "# mostrando os 5 primeiros valores da tabela"
   ]
  },
  {
   "cell_type": "code",
   "execution_count": 13,
   "metadata": {
    "ExecuteTime": {
     "end_time": "2019-09-05T13:53:28.90857Z",
     "start_time": "2019-09-05T13:53:28.761477Z"
    }
   },
   "outputs": [],
   "source": [
    "# mostrando os 5 ultimos valores da tabela"
   ]
  },
  {
   "cell_type": "code",
   "execution_count": 14,
   "metadata": {
    "ExecuteTime": {
     "end_time": "2019-09-05T13:53:29.049448Z",
     "start_time": "2019-09-05T13:53:28.978697Z"
    }
   },
   "outputs": [],
   "source": [
    "# retornar o nome do arquivo"
   ]
  },
  {
   "cell_type": "code",
   "execution_count": 15,
   "metadata": {
    "ExecuteTime": {
     "end_time": "2019-09-05T13:53:29.189616Z",
     "start_time": "2019-09-05T13:53:29.059479Z"
    }
   },
   "outputs": [],
   "source": [
    "# acessando coluna Region"
   ]
  },
  {
   "cell_type": "code",
   "execution_count": 16,
   "metadata": {
    "ExecuteTime": {
     "end_time": "2019-09-05T13:53:29.296628Z",
     "start_time": "2019-09-05T13:53:29.205651Z"
    }
   },
   "outputs": [],
   "source": [
    "# acessando coluna Manager de outra forma"
   ]
  },
  {
   "cell_type": "code",
   "execution_count": 17,
   "metadata": {
    "ExecuteTime": {
     "end_time": "2019-09-05T13:53:29.512007Z",
     "start_time": "2019-09-05T13:53:29.306978Z"
    }
   },
   "outputs": [],
   "source": [
    "# acessando coluna Region"
   ]
  },
  {
   "cell_type": "code",
   "execution_count": 18,
   "metadata": {
    "ExecuteTime": {
     "end_time": "2019-09-05T13:53:29.767288Z",
     "start_time": "2019-09-05T13:53:29.538016Z"
    }
   },
   "outputs": [],
   "source": [
    "# acessando coluna Manager de outra forma"
   ]
  },
  {
   "cell_type": "markdown",
   "metadata": {},
   "source": [
    "# Fazer Média, Mínimo, Máximo e Frequencia de Valores"
   ]
  },
  {
   "cell_type": "code",
   "execution_count": null,
   "metadata": {
    "ExecuteTime": {
     "end_time": "2019-09-05T13:53:30.250233Z",
     "start_time": "2019-09-05T13:53:29.805185Z"
    }
   },
   "outputs": [],
   "source": []
  },
  {
   "cell_type": "code",
   "execution_count": null,
   "metadata": {
    "ExecuteTime": {
     "end_time": "2019-09-05T13:53:30.390344Z",
     "start_time": "2019-09-05T13:53:30.263536Z"
    }
   },
   "outputs": [],
   "source": []
  },
  {
   "cell_type": "markdown",
   "metadata": {},
   "source": [
    "## Média"
   ]
  },
  {
   "cell_type": "code",
   "execution_count": 19,
   "metadata": {
    "ExecuteTime": {
     "end_time": "2019-09-05T13:53:30.458514Z",
     "start_time": "2019-09-05T13:53:30.400411Z"
    }
   },
   "outputs": [],
   "source": [
    "# note que estamos chamando a coluna e depois o metodo mean()"
   ]
  },
  {
   "cell_type": "markdown",
   "metadata": {},
   "source": [
    "## Mínimo"
   ]
  },
  {
   "cell_type": "code",
   "execution_count": 20,
   "metadata": {
    "ExecuteTime": {
     "end_time": "2019-09-05T13:53:30.693089Z",
     "start_time": "2019-09-05T13:53:30.465272Z"
    }
   },
   "outputs": [],
   "source": [
    "# note que estamos chamando a coluna e depois o metodo min()"
   ]
  },
  {
   "cell_type": "markdown",
   "metadata": {},
   "source": [
    "## Máximo"
   ]
  },
  {
   "cell_type": "code",
   "execution_count": 21,
   "metadata": {
    "ExecuteTime": {
     "end_time": "2019-09-05T13:53:31.004243Z",
     "start_time": "2019-09-05T13:53:30.713008Z"
    }
   },
   "outputs": [],
   "source": [
    "# note que estamos chamando a coluna e depois o metodo max()"
   ]
  },
  {
   "cell_type": "markdown",
   "metadata": {},
   "source": [
    "## Frequencia de Valores"
   ]
  },
  {
   "cell_type": "code",
   "execution_count": 22,
   "metadata": {
    "ExecuteTime": {
     "end_time": "2019-09-05T13:53:31.140383Z",
     "start_time": "2019-09-05T13:53:31.015316Z"
    }
   },
   "outputs": [],
   "source": [
    "# como o nome da coluna tinha um espaço entre Sales e Region usamos outro tipo de escrita para o Python "
   ]
  },
  {
   "cell_type": "markdown",
   "metadata": {},
   "source": [
    "# Plotar Gráfico de Frequencia"
   ]
  },
  {
   "cell_type": "code",
   "execution_count": 30,
   "metadata": {
    "ExecuteTime": {
     "end_time": "2019-09-05T13:53:34.560927Z",
     "start_time": "2019-09-05T13:53:31.15027Z"
    }
   },
   "outputs": [],
   "source": [
    "candidatos = pd.read_csv('candidatos_deputados_2014_final.csv', encoding = \"ISO-8859-1\")"
   ]
  },
  {
   "cell_type": "code",
   "execution_count": 23,
   "metadata": {
    "ExecuteTime": {
     "end_time": "2019-09-05T13:53:34.597636Z",
     "start_time": "2019-09-05T13:53:34.569347Z"
    }
   },
   "outputs": [],
   "source": [
    "# aqui temos acesso a todas as colunas"
   ]
  },
  {
   "cell_type": "code",
   "execution_count": 24,
   "metadata": {
    "ExecuteTime": {
     "end_time": "2019-09-05T13:53:36.067126Z",
     "start_time": "2019-09-05T13:53:34.605477Z"
    }
   },
   "outputs": [],
   "source": [
    "# selecionamos a coluna DESCRICAO_SEXO\n",
    "# contamos a frequencia de valores com value_counts() \n",
    "# e plotamos o grafico de barras com .plot.pie() "
   ]
  },
  {
   "cell_type": "code",
   "execution_count": null,
   "metadata": {
    "ExecuteTime": {
     "end_time": "2019-09-05T13:53:36.56015Z",
     "start_time": "2019-09-05T13:53:36.075653Z"
    }
   },
   "outputs": [],
   "source": []
  },
  {
   "cell_type": "code",
   "execution_count": 26,
   "metadata": {
    "ExecuteTime": {
     "end_time": "2019-09-05T13:53:37.820267Z",
     "start_time": "2019-09-05T13:53:36.562261Z"
    }
   },
   "outputs": [],
   "source": [
    "# rotacionar a descricao das barras\n",
    "#plt.xticks(rotation=45, ha='right')"
   ]
  },
  {
   "cell_type": "markdown",
   "metadata": {},
   "source": [
    "# Plotar Grafico de Pontos"
   ]
  },
  {
   "cell_type": "code",
   "execution_count": 31,
   "metadata": {
    "ExecuteTime": {
     "end_time": "2019-09-05T13:53:38.102721Z",
     "start_time": "2019-09-05T13:53:37.836208Z"
    }
   },
   "outputs": [],
   "source": [
    "# entender os decimais como ',' e os milhares como '.'\n",
    "cerveja = pd.read_csv('Consumo_cerveja.csv', decimal=b',', thousands='.', index_col=0, parse_dates=True)"
   ]
  },
  {
   "cell_type": "code",
   "execution_count": 37,
   "metadata": {
    "ExecuteTime": {
     "end_time": "2019-09-05T13:53:38.51604Z",
     "start_time": "2019-09-05T13:53:38.287194Z"
    }
   },
   "outputs": [],
   "source": [
    "# deletando valores faltantes"
   ]
  },
  {
   "cell_type": "markdown",
   "metadata": {},
   "source": [
    "# Plotando Histograma"
   ]
  },
  {
   "cell_type": "code",
   "execution_count": null,
   "metadata": {},
   "outputs": [],
   "source": []
  },
  {
   "cell_type": "markdown",
   "metadata": {},
   "source": [
    "# Plotando Grafico de Linha"
   ]
  },
  {
   "cell_type": "code",
   "execution_count": null,
   "metadata": {
    "ExecuteTime": {
     "end_time": "2019-09-05T13:53:44.698665Z",
     "start_time": "2019-09-05T13:53:41.811484Z"
    }
   },
   "outputs": [],
   "source": []
  },
  {
   "cell_type": "code",
   "execution_count": 43,
   "metadata": {
    "ExecuteTime": {
     "end_time": "2019-09-05T13:53:44.833178Z",
     "start_time": "2019-09-05T13:53:44.708071Z"
    }
   },
   "outputs": [],
   "source": [
    "# Agrupando por mês"
   ]
  },
  {
   "cell_type": "code",
   "execution_count": 44,
   "metadata": {
    "ExecuteTime": {
     "end_time": "2019-09-05T13:53:45.227272Z",
     "start_time": "2019-09-05T13:53:44.841836Z"
    }
   },
   "outputs": [],
   "source": [
    "# transformando o index em coluna para usar como eixo x do grafico"
   ]
  },
  {
   "cell_type": "code",
   "execution_count": null,
   "metadata": {
    "ExecuteTime": {
     "end_time": "2019-09-05T13:53:46.943724Z",
     "start_time": "2019-09-05T13:53:45.234468Z"
    }
   },
   "outputs": [],
   "source": []
  },
  {
   "cell_type": "markdown",
   "metadata": {},
   "source": [
    "# Agrupando e Plotando"
   ]
  },
  {
   "cell_type": "code",
   "execution_count": 46,
   "metadata": {
    "ExecuteTime": {
     "end_time": "2019-09-05T13:53:47.657185Z",
     "start_time": "2019-09-05T13:53:46.950321Z"
    }
   },
   "outputs": [],
   "source": [
    "# media de vendas de cerveja agrupado por dia de semana / final de semana\n",
    "\n",
    "# substituir os rotulos do eixo x para Nao e Sim\n"
   ]
  },
  {
   "cell_type": "markdown",
   "metadata": {},
   "source": [
    "# Importando a base de suicídios"
   ]
  },
  {
   "cell_type": "code",
   "execution_count": 49,
   "metadata": {
    "ExecuteTime": {
     "end_time": "2019-09-05T13:53:49.525265Z",
     "start_time": "2019-09-05T13:53:47.663728Z"
    }
   },
   "outputs": [],
   "source": [
    "# importando base\n"
   ]
  },
  {
   "cell_type": "code",
   "execution_count": 48,
   "metadata": {
    "ExecuteTime": {
     "end_time": "2019-09-05T13:53:49.597247Z",
     "start_time": "2019-09-05T13:53:49.527307Z"
    }
   },
   "outputs": [],
   "source": [
    "# agrupando por idade\n"
   ]
  },
  {
   "cell_type": "code",
   "execution_count": 47,
   "metadata": {
    "ExecuteTime": {
     "end_time": "2019-09-05T13:53:49.947279Z",
     "start_time": "2019-09-05T13:53:49.603896Z"
    }
   },
   "outputs": [],
   "source": [
    "# Agrupar por idade para conferir [suicides_no, population] e colocar esse novo DataFrame em uma variavel"
   ]
  },
  {
   "cell_type": "code",
   "execution_count": null,
   "metadata": {},
   "outputs": [],
   "source": []
  },
  {
   "cell_type": "code",
   "execution_count": 48,
   "metadata": {
    "ExecuteTime": {
     "end_time": "2019-09-05T13:53:50.314586Z",
     "start_time": "2019-09-05T13:53:49.97845Z"
    }
   },
   "outputs": [],
   "source": [
    "# Criar uma nova coluna dividindo o numero de suicidios pelo tamanho a populacao correspondente"
   ]
  },
  {
   "cell_type": "code",
   "execution_count": null,
   "metadata": {},
   "outputs": [],
   "source": []
  },
  {
   "cell_type": "code",
   "execution_count": 47,
   "metadata": {
    "ExecuteTime": {
     "end_time": "2019-09-05T13:54:01.371242Z",
     "start_time": "2019-09-05T13:53:50.321774Z"
    }
   },
   "outputs": [],
   "source": [
    "# plotando grafico de barras horizontais"
   ]
  },
  {
   "cell_type": "code",
   "execution_count": null,
   "metadata": {
    "ExecuteTime": {
     "end_time": "2019-09-05T13:54:12.463303Z",
     "start_time": "2019-09-05T13:54:01.379502Z"
    }
   },
   "outputs": [],
   "source": []
  },
  {
   "cell_type": "markdown",
   "metadata": {},
   "source": [
    "# Analisando se o numero de mortes é real ou provavelmente fake"
   ]
  },
  {
   "cell_type": "code",
   "execution_count": 51,
   "metadata": {
    "ExecuteTime": {
     "end_time": "2019-09-05T13:54:12.517184Z",
     "start_time": "2019-09-05T13:54:12.482122Z"
    }
   },
   "outputs": [
    {
     "data": {
      "text/plain": [
       "array([0.30103   , 0.17609126, 0.12493874, 0.09691001, 0.07918125,\n",
       "       0.06694679, 0.05799195, 0.05115252, 0.04575749])"
      ]
     },
     "execution_count": 51,
     "metadata": {},
     "output_type": "execute_result"
    }
   ],
   "source": [
    "# Criando a régua do Benford"
   ]
  },
  {
   "cell_type": "code",
   "execution_count": null,
   "metadata": {
    "ExecuteTime": {
     "end_time": "2019-09-05T13:54:12.786672Z",
     "start_time": "2019-09-05T13:54:12.529173Z"
    }
   },
   "outputs": [],
   "source": []
  },
  {
   "cell_type": "code",
   "execution_count": null,
   "metadata": {
    "ExecuteTime": {
     "end_time": "2019-09-05T13:54:12.922521Z",
     "start_time": "2019-09-05T13:54:12.794168Z"
    }
   },
   "outputs": [],
   "source": []
  },
  {
   "cell_type": "code",
   "execution_count": null,
   "metadata": {
    "ExecuteTime": {
     "end_time": "2019-09-05T13:54:14.633594Z",
     "start_time": "2019-09-05T13:54:12.930921Z"
    }
   },
   "outputs": [],
   "source": []
  },
  {
   "cell_type": "code",
   "execution_count": null,
   "metadata": {
    "ExecuteTime": {
     "end_time": "2019-09-05T13:54:15.987291Z",
     "start_time": "2019-09-05T13:54:14.643733Z"
    }
   },
   "outputs": [],
   "source": []
  },
  {
   "cell_type": "code",
   "execution_count": null,
   "metadata": {},
   "outputs": [],
   "source": []
  }
 ],
 "metadata": {
  "kernelspec": {
   "display_name": "Python 3",
   "language": "python",
   "name": "python3"
  },
  "language_info": {
   "codemirror_mode": {
    "name": "ipython",
    "version": 3
   },
   "file_extension": ".py",
   "mimetype": "text/x-python",
   "name": "python",
   "nbconvert_exporter": "python",
   "pygments_lexer": "ipython3",
   "version": "3.7.3"
  }
 },
 "nbformat": 4,
 "nbformat_minor": 4
}
