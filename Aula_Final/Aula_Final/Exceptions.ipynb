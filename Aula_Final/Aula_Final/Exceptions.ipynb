{
 "cells": [
  {
   "cell_type": "code",
   "execution_count": 1,
   "metadata": {
    "ExecuteTime": {
     "end_time": "2019-10-05T21:04:38.537852Z",
     "start_time": "2019-10-05T21:04:37.898216Z"
    }
   },
   "outputs": [],
   "source": [
    "import pandas as pd"
   ]
  },
  {
   "cell_type": "code",
   "execution_count": null,
   "metadata": {
    "ExecuteTime": {
     "end_time": "2019-10-05T21:04:58.116070Z",
     "start_time": "2019-10-05T21:04:57.930601Z"
    }
   },
   "outputs": [],
   "source": []
  },
  {
   "cell_type": "code",
   "execution_count": 6,
   "metadata": {
    "ExecuteTime": {
     "end_time": "2019-10-05T21:07:32.064143Z",
     "start_time": "2019-10-05T21:07:31.752577Z"
    }
   },
   "outputs": [],
   "source": [
    "class Benford():\n",
    "    import numpy as np\n",
    "    import pandas as pd\n",
    "    import matplotlib.pyplot as plt\n",
    "    \n",
    "    def __init__(self, nome_arquivo):\n",
    "        self.dados = pd.read_csv(nome_arquivo)\n",
    "        assert self.dados.shape[1] == 1, \"O DataFrame tem mais de 1 coluna\"\n",
    "            \n",
    "        self.benford = self.np.zeros(9)\n",
    "        for i in range(9):\n",
    "            self.benford[i]  = self.np.log10(i + 2) - self.np.log10(i + 1)\n",
    "        \n",
    "    def fit(self):\n",
    "        self.benford_grafico = pd.DataFrame(index=range(1,10))\n",
    "        self.benford = self.benford * self.dados.shape[0]\n",
    "        self.benford_grafico['Esperado'] = self.benford\n",
    "        self.observado = self.dados.iloc[:,0].astype(str).map(lambda x: x[0]).value_counts().values\n",
    "        assert self.observado.size == 9, 'Verificar valores fora do padrão aceitável {}'.format(self.dados.iloc[:,0].astype(str).map(lambda x: x[0]).value_counts().index.values)\n",
    "        self.benford_grafico['Observado'] = self.observado\n",
    "        self.benford_grafico.plot.bar(figsize=[12,8], title='Suicídios', )\n",
    "        self.plt.xticks(list(range(9)),list(range(1,10)))\n",
    "        self.plt.xlabel('Dígitos',labelpad=15)\n",
    "        self.qui_quadrado = ((self.observado - self.benford)**2 / self.benford).sum()\n",
    "        if self.qui_quadrado > 15.5:\n",
    "            print(\"Possível manipulação de Dados. Rejeitamos Ho: {}\".format(self.qui_quadrado))\n",
    "        else:\n",
    "            print(\"Não há evidências de manipulação de Dados. Aceitamos Ho: {}\".format(self.qui_quadrado))\n",
    "        self.plt.title('Qui-quadrado: {}'.format(self.qui_quadrado))\n",
    "        self.plt.savefig('benford.png')\n",
    "        self.plt.show()"
   ]
  },
  {
   "cell_type": "code",
   "execution_count": 7,
   "metadata": {
    "ExecuteTime": {
     "end_time": "2019-10-05T21:07:37.771305Z",
     "start_time": "2019-10-05T21:07:37.750569Z"
    }
   },
   "outputs": [
    {
     "name": "stdout",
     "output_type": "stream",
     "text": [
      "verificar o encoding do arquivo\n"
     ]
    }
   ],
   "source": [
    "try:\n",
    "    # roda primeiro\n",
    "    Benford('AR_BR_RG_UF_MES_MIC_MUN_2017.xls')\n",
    "    \n",
    "except UnicodeError:\n",
    "    print('verificar o encoding do arquivo')\n",
    "    \n",
    "except Exception as e:\n",
    "    # roda se ocorre uma Exception\n",
    "    print('o arquivo nao existe', e)\n",
    "else:\n",
    "    # roda se o bloco try obteve sucesso\n",
    "    pass\n",
    "finally:\n",
    "    # sempre executa\n",
    "    pass"
   ]
  },
  {
   "cell_type": "code",
   "execution_count": null,
   "metadata": {},
   "outputs": [],
   "source": []
  }
 ],
 "metadata": {
  "kernelspec": {
   "display_name": "Python 3",
   "language": "python",
   "name": "python3"
  },
  "language_info": {
   "codemirror_mode": {
    "name": "ipython",
    "version": 3
   },
   "file_extension": ".py",
   "mimetype": "text/x-python",
   "name": "python",
   "nbconvert_exporter": "python",
   "pygments_lexer": "ipython3",
   "version": "3.7.3"
  },
  "toc": {
   "base_numbering": 1,
   "nav_menu": {},
   "number_sections": true,
   "sideBar": true,
   "skip_h1_title": false,
   "title_cell": "Table of Contents",
   "title_sidebar": "Contents",
   "toc_cell": false,
   "toc_position": {},
   "toc_section_display": true,
   "toc_window_display": false
  }
 },
 "nbformat": 4,
 "nbformat_minor": 2
}
