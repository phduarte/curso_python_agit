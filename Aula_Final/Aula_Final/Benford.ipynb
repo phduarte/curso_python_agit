{
 "cells": [
  {
   "cell_type": "code",
   "execution_count": 1,
   "metadata": {
    "ExecuteTime": {
     "end_time": "2019-10-05T20:57:26.426243Z",
     "start_time": "2019-10-05T20:57:25.265382Z"
    }
   },
   "outputs": [],
   "source": [
    "import pandas as pd"
   ]
  },
  {
   "cell_type": "code",
   "execution_count": 2,
   "metadata": {
    "ExecuteTime": {
     "end_time": "2019-10-05T20:57:26.601565Z",
     "start_time": "2019-10-05T20:57:26.429428Z"
    }
   },
   "outputs": [],
   "source": [
    "# importando dados\n",
    "df = pd.ExcelFile('AR_BR_RG_UF_MES_MIC_MUN_2017.xls')"
   ]
  },
  {
   "cell_type": "code",
   "execution_count": 3,
   "metadata": {
    "ExecuteTime": {
     "end_time": "2019-10-05T20:57:28.016924Z",
     "start_time": "2019-10-05T20:57:27.952477Z"
    }
   },
   "outputs": [
    {
     "data": {
      "text/html": [
       "<div>\n",
       "<style scoped>\n",
       "    .dataframe tbody tr th:only-of-type {\n",
       "        vertical-align: middle;\n",
       "    }\n",
       "\n",
       "    .dataframe tbody tr th {\n",
       "        vertical-align: top;\n",
       "    }\n",
       "\n",
       "    .dataframe thead th {\n",
       "        text-align: right;\n",
       "    }\n",
       "</style>\n",
       "<table border=\"1\" class=\"dataframe\">\n",
       "  <thead>\n",
       "    <tr style=\"text-align: right;\">\n",
       "      <th></th>\n",
       "      <th>ID</th>\n",
       "      <th>CD_GCUF</th>\n",
       "      <th>NM_UF</th>\n",
       "      <th>NM_UF_SIGLA</th>\n",
       "      <th>CD_GCMUN</th>\n",
       "      <th>NM_MUN_2017</th>\n",
       "      <th>AR_MUN_2017</th>\n",
       "    </tr>\n",
       "  </thead>\n",
       "  <tbody>\n",
       "    <tr>\n",
       "      <th>0</th>\n",
       "      <td>1.0</td>\n",
       "      <td>11.0</td>\n",
       "      <td>Rondônia</td>\n",
       "      <td>RO</td>\n",
       "      <td>1100015.0</td>\n",
       "      <td>ALTA FLORESTA D'OESTE</td>\n",
       "      <td>7067.025</td>\n",
       "    </tr>\n",
       "    <tr>\n",
       "      <th>1</th>\n",
       "      <td>2.0</td>\n",
       "      <td>11.0</td>\n",
       "      <td>Rondônia</td>\n",
       "      <td>RO</td>\n",
       "      <td>1100023.0</td>\n",
       "      <td>ARIQUEMES</td>\n",
       "      <td>4426.571</td>\n",
       "    </tr>\n",
       "    <tr>\n",
       "      <th>2</th>\n",
       "      <td>3.0</td>\n",
       "      <td>11.0</td>\n",
       "      <td>Rondônia</td>\n",
       "      <td>RO</td>\n",
       "      <td>1100031.0</td>\n",
       "      <td>CABIXI</td>\n",
       "      <td>1314.353</td>\n",
       "    </tr>\n",
       "    <tr>\n",
       "      <th>3</th>\n",
       "      <td>4.0</td>\n",
       "      <td>11.0</td>\n",
       "      <td>Rondônia</td>\n",
       "      <td>RO</td>\n",
       "      <td>1100049.0</td>\n",
       "      <td>CACOAL</td>\n",
       "      <td>3792.948</td>\n",
       "    </tr>\n",
       "    <tr>\n",
       "      <th>4</th>\n",
       "      <td>5.0</td>\n",
       "      <td>11.0</td>\n",
       "      <td>Rondônia</td>\n",
       "      <td>RO</td>\n",
       "      <td>1100056.0</td>\n",
       "      <td>CEREJEIRAS</td>\n",
       "      <td>2783.300</td>\n",
       "    </tr>\n",
       "  </tbody>\n",
       "</table>\n",
       "</div>"
      ],
      "text/plain": [
       "    ID  CD_GCUF     NM_UF NM_UF_SIGLA   CD_GCMUN            NM_MUN_2017  \\\n",
       "0  1.0     11.0  Rondônia          RO  1100015.0  ALTA FLORESTA D'OESTE   \n",
       "1  2.0     11.0  Rondônia          RO  1100023.0              ARIQUEMES   \n",
       "2  3.0     11.0  Rondônia          RO  1100031.0                 CABIXI   \n",
       "3  4.0     11.0  Rondônia          RO  1100049.0                 CACOAL   \n",
       "4  5.0     11.0  Rondônia          RO  1100056.0             CEREJEIRAS   \n",
       "\n",
       "   AR_MUN_2017  \n",
       "0     7067.025  \n",
       "1     4426.571  \n",
       "2     1314.353  \n",
       "3     3792.948  \n",
       "4     2783.300  "
      ]
     },
     "execution_count": 3,
     "metadata": {},
     "output_type": "execute_result"
    }
   ],
   "source": [
    "df.parse(0).head()"
   ]
  },
  {
   "cell_type": "code",
   "execution_count": 4,
   "metadata": {
    "ExecuteTime": {
     "end_time": "2019-10-05T20:57:29.932287Z",
     "start_time": "2019-10-05T20:57:29.887261Z"
    }
   },
   "outputs": [
    {
     "data": {
      "text/html": [
       "<div>\n",
       "<style scoped>\n",
       "    .dataframe tbody tr th:only-of-type {\n",
       "        vertical-align: middle;\n",
       "    }\n",
       "\n",
       "    .dataframe tbody tr th {\n",
       "        vertical-align: top;\n",
       "    }\n",
       "\n",
       "    .dataframe thead th {\n",
       "        text-align: right;\n",
       "    }\n",
       "</style>\n",
       "<table border=\"1\" class=\"dataframe\">\n",
       "  <thead>\n",
       "    <tr style=\"text-align: right;\">\n",
       "      <th></th>\n",
       "      <th>ID</th>\n",
       "      <th>CD_GCUF</th>\n",
       "      <th>NM_UF</th>\n",
       "      <th>NM_UF_SIGLA</th>\n",
       "      <th>CD_GCMUN</th>\n",
       "      <th>NM_MUN_2017</th>\n",
       "      <th>AR_MUN_2017</th>\n",
       "    </tr>\n",
       "  </thead>\n",
       "  <tbody>\n",
       "    <tr>\n",
       "      <th>5570</th>\n",
       "      <td>5571.0</td>\n",
       "      <td>52.0</td>\n",
       "      <td>Goiás</td>\n",
       "      <td>GO</td>\n",
       "      <td>5222302.0</td>\n",
       "      <td>VILA PROPÍCIO</td>\n",
       "      <td>2181.583</td>\n",
       "    </tr>\n",
       "    <tr>\n",
       "      <th>5571</th>\n",
       "      <td>5572.0</td>\n",
       "      <td>53.0</td>\n",
       "      <td>Distrito Federal</td>\n",
       "      <td>DF</td>\n",
       "      <td>5300108.0</td>\n",
       "      <td>BRASÍLIA</td>\n",
       "      <td>5779.997</td>\n",
       "    </tr>\n",
       "    <tr>\n",
       "      <th>5572</th>\n",
       "      <td>NaN</td>\n",
       "      <td>NaN</td>\n",
       "      <td>NaN</td>\n",
       "      <td>NaN</td>\n",
       "      <td>NaN</td>\n",
       "      <td>NaN</td>\n",
       "      <td>NaN</td>\n",
       "    </tr>\n",
       "    <tr>\n",
       "      <th>5573</th>\n",
       "      <td>NaN</td>\n",
       "      <td>NaN</td>\n",
       "      <td>NaN</td>\n",
       "      <td>NaN</td>\n",
       "      <td>NaN</td>\n",
       "      <td>NaN</td>\n",
       "      <td>NaN</td>\n",
       "    </tr>\n",
       "    <tr>\n",
       "      <th>5574</th>\n",
       "      <td>NaN</td>\n",
       "      <td>NaN</td>\n",
       "      <td>NaN</td>\n",
       "      <td>NaN</td>\n",
       "      <td>NaN</td>\n",
       "      <td>NaN</td>\n",
       "      <td>8515759.090</td>\n",
       "    </tr>\n",
       "  </tbody>\n",
       "</table>\n",
       "</div>"
      ],
      "text/plain": [
       "          ID  CD_GCUF             NM_UF NM_UF_SIGLA   CD_GCMUN    NM_MUN_2017  \\\n",
       "5570  5571.0     52.0             Goiás          GO  5222302.0  VILA PROPÍCIO   \n",
       "5571  5572.0     53.0  Distrito Federal          DF  5300108.0       BRASÍLIA   \n",
       "5572     NaN      NaN               NaN         NaN        NaN            NaN   \n",
       "5573     NaN      NaN               NaN         NaN        NaN            NaN   \n",
       "5574     NaN      NaN               NaN         NaN        NaN            NaN   \n",
       "\n",
       "      AR_MUN_2017  \n",
       "5570     2181.583  \n",
       "5571     5779.997  \n",
       "5572          NaN  \n",
       "5573          NaN  \n",
       "5574  8515759.090  "
      ]
     },
     "execution_count": 4,
     "metadata": {},
     "output_type": "execute_result"
    }
   ],
   "source": [
    "df.parse(0).tail()"
   ]
  },
  {
   "cell_type": "code",
   "execution_count": 5,
   "metadata": {
    "ExecuteTime": {
     "end_time": "2019-10-05T20:57:32.439545Z",
     "start_time": "2019-10-05T20:57:32.383495Z"
    }
   },
   "outputs": [],
   "source": [
    "df.parse(0)['AR_MUN_2017'].iloc[:-3].to_frame().to_csv('coluna_benford.csv', index=False, encoding='utf-8')"
   ]
  },
  {
   "cell_type": "code",
   "execution_count": 6,
   "metadata": {
    "ExecuteTime": {
     "end_time": "2019-10-05T20:57:33.468513Z",
     "start_time": "2019-10-05T20:57:33.337718Z"
    }
   },
   "outputs": [
    {
     "name": "stdout",
     "output_type": "stream",
     "text": [
      "API.ipynb                        Postman2.png\r\n",
      "AR_BR_RG_UF_MES_MIC_MUN_2017.xls Postman3.png\r\n",
      "\u001b[34mArquivos Finais\u001b[m\u001b[m                  Postman4.png\r\n",
      "Benford.ipynb                    Postman5.png\r\n",
      "Exceptions.ipynb                 Postman6.png\r\n",
      "Flask.ipynb                      Postman7.png\r\n",
      "\u001b[34mMYSQL\u001b[m\u001b[m                            Postman8.png\r\n",
      "Postman1.png                     Postman9.png\r\n",
      "Postman10.png                    api.png\r\n",
      "Postman11.png                    coluna_benford.csv\r\n",
      "Postman12.png\r\n"
     ]
    }
   ],
   "source": [
    "!ls"
   ]
  },
  {
   "cell_type": "code",
   "execution_count": 7,
   "metadata": {
    "ExecuteTime": {
     "end_time": "2019-10-05T20:57:39.183083Z",
     "start_time": "2019-10-05T20:57:39.170930Z"
    }
   },
   "outputs": [
    {
     "data": {
      "text/plain": [
       "(5572, 1)"
      ]
     },
     "execution_count": 7,
     "metadata": {},
     "output_type": "execute_result"
    }
   ],
   "source": [
    "pd.read_csv('coluna_benford.csv').shape"
   ]
  },
  {
   "cell_type": "code",
   "execution_count": 9,
   "metadata": {
    "ExecuteTime": {
     "end_time": "2019-10-05T20:58:37.368914Z",
     "start_time": "2019-10-05T20:58:37.355789Z"
    }
   },
   "outputs": [],
   "source": [
    "class Benford():\n",
    "    import numpy as np\n",
    "    import pandas as pd\n",
    "    import matplotlib.pyplot as plt\n",
    "    \n",
    "    def __init__(self, nome_arquivo):\n",
    "        self.dados = pd.read_csv(nome_arquivo)\n",
    "        assert self.dados.shape[1] == 1, \"O DataFrame tem mais de 1 coluna\"\n",
    "            \n",
    "        self.benford = self.np.zeros(9)\n",
    "        for i in range(9):\n",
    "            self.benford[i]  = self.np.log10(i + 2) - self.np.log10(i + 1)\n",
    "        \n",
    "    def fit(self):\n",
    "        self.benford_grafico = pd.DataFrame(index=range(1,10))\n",
    "        self.benford = self.benford * self.dados.shape[0]\n",
    "        self.benford_grafico['Esperado'] = self.benford\n",
    "        self.observado = self.dados.iloc[:,0].astype(str).map(lambda x: x[0]).value_counts().values\n",
    "        assert self.observado.size == 9, 'Verificar valores fora do padrão aceitável {}'.format(self.dados.iloc[:,0].astype(str).map(lambda x: x[0]).value_counts().index.values)\n",
    "        self.benford_grafico['Observado'] = self.observado\n",
    "        self.benford_grafico.plot.bar(figsize=[12,8], title='Suicídios', )\n",
    "        self.plt.xticks(list(range(9)),list(range(1,10)))\n",
    "        self.plt.xlabel('Dígitos',labelpad=15)\n",
    "        self.qui_quadrado = ((self.observado - self.benford)**2 / self.benford).sum()\n",
    "        if self.qui_quadrado > 15.5:\n",
    "            print(\"Possível manipulação de Dados. Rejeitamos Ho: {}\".format(self.qui_quadrado))\n",
    "        else:\n",
    "            print(\"Não há evidências de manipulação de Dados. Aceitamos Ho: {}\".format(self.qui_quadrado))\n",
    "        self.plt.title('Qui-quadrado: {}'.format(self.qui_quadrado))\n",
    "        self.plt.savefig('benford.png')\n",
    "        self.plt.show()"
   ]
  },
  {
   "cell_type": "markdown",
   "metadata": {},
   "source": [
    "$$\\chi _{k}^{2}\\equiv \\sum _{{j=1}}^{n}{\\frac  {(O_{j}-E_{j})^{2}}{E_{j}}}$$"
   ]
  },
  {
   "cell_type": "code",
   "execution_count": 16,
   "metadata": {
    "ExecuteTime": {
     "end_time": "2019-10-05T21:01:13.575645Z",
     "start_time": "2019-10-05T21:01:13.389938Z"
    }
   },
   "outputs": [],
   "source": [
    "pd.read_excel('AR_BR_RG_UF_MES_MIC_MUN_2017.xls', encoding='latin1').to_csv('tabela.csv', encoding='utf-8')"
   ]
  },
  {
   "cell_type": "code",
   "execution_count": 17,
   "metadata": {
    "ExecuteTime": {
     "end_time": "2019-10-05T21:01:30.570276Z",
     "start_time": "2019-10-05T21:01:30.439396Z"
    }
   },
   "outputs": [
    {
     "name": "stdout",
     "output_type": "stream",
     "text": [
      "coluna_benford.csv tabela.csv\r\n"
     ]
    }
   ],
   "source": [
    "!ls *.csv"
   ]
  },
  {
   "cell_type": "code",
   "execution_count": 19,
   "metadata": {
    "ExecuteTime": {
     "end_time": "2019-10-05T21:01:58.662169Z",
     "start_time": "2019-10-05T21:01:58.653186Z"
    }
   },
   "outputs": [],
   "source": [
    "teste = Benford('coluna_benford.csv')"
   ]
  },
  {
   "cell_type": "code",
   "execution_count": 20,
   "metadata": {
    "ExecuteTime": {
     "end_time": "2019-10-05T21:02:11.698559Z",
     "start_time": "2019-10-05T21:02:11.356643Z"
    }
   },
   "outputs": [
    {
     "name": "stdout",
     "output_type": "stream",
     "text": [
      "Possível manipulação de Dados. Rejeitamos Ho: 17.588527427395498\n"
     ]
    },
    {
     "data": {
      "image/png": "[encoded data removed]",
      "text/plain": [
       "<Figure size 864x576 with 1 Axes>"
      ]
     },
     "metadata": {
      "needs_background": "light"
     },
     "output_type": "display_data"
    }
   ],
   "source": [
    "teste.fit()"
   ]
  },
  {
   "cell_type": "code",
   "execution_count": null,
   "metadata": {},
   "outputs": [],
   "source": []
  },
  {
   "cell_type": "code",
   "execution_count": null,
   "metadata": {
    "ExecuteTime": {
     "end_time": "2019-10-05T05:19:52.790813Z",
     "start_time": "2019-10-05T05:19:52.590756Z"
    }
   },
   "outputs": [],
   "source": []
  },
  {
   "cell_type": "code",
   "execution_count": null,
   "metadata": {},
   "outputs": [],
   "source": []
  }
 ],
 "metadata": {
  "kernelspec": {
   "display_name": "Python 3",
   "language": "python",
   "name": "python3"
  },
  "language_info": {
   "codemirror_mode": {
    "name": "ipython",
    "version": 3
   },
   "file_extension": ".py",
   "mimetype": "text/x-python",
   "name": "python",
   "nbconvert_exporter": "python",
   "pygments_lexer": "ipython3",
   "version": "3.7.3"
  },
  "toc": {
   "base_numbering": 1,
   "nav_menu": {},
   "number_sections": true,
   "sideBar": true,
   "skip_h1_title": false,
   "title_cell": "Table of Contents",
   "title_sidebar": "Contents",
   "toc_cell": false,
   "toc_position": {},
   "toc_section_display": true,
   "toc_window_display": false
  }
 },
 "nbformat": 4,
 "nbformat_minor": 2
}
