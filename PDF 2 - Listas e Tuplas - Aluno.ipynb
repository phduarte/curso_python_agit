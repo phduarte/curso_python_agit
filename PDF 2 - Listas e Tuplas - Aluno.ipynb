{
 "cells": [
  {
   "cell_type": "markdown",
   "metadata": {},
   "source": [
    "# Listas e Tuplas\n",
    "\n",
    "# Listas\n",
    "\n",
    "- O que é uma lista?\n",
    "\n",
    "Uma lista é uma coleção de itens em uma ordem especifica, o uso de conchetes (```[]```) indica uma lista.\n",
    "\n",
    "\n",
    "Lists are ordered.\n",
    "Lists can contain any arbitrary objects.\n",
    "List elements can be accessed by index.\n",
    "Lists can be nested to arbitrary depth.\n",
    "Lists are mutable.\n",
    "Lists are dynamic.\n",
    "\n",
    "- Como voce define uma lista?"
   ]
  },
  {
   "cell_type": "code",
   "execution_count": null,
   "metadata": {
    "ExecuteTime": {
     "end_time": "2019-09-14T18:02:16.611379Z",
     "start_time": "2019-09-14T18:02:16.559026Z"
    }
   },
   "outputs": [],
   "source": [
    "# criando uma nova lista\n",
    "nova_lista = []\n",
    "nova_lista"
   ]
  },
  {
   "cell_type": "markdown",
   "metadata": {},
   "source": [
    "- Como voce adiciona itens em uma lista?\n",
    "\n",
    "Você pode adicionar itens unicos no final de sua lista usando o metodo ```.append()```."
   ]
  },
  {
   "cell_type": "code",
   "execution_count": 2,
   "metadata": {},
   "outputs": [
    {
     "data": {
      "text/plain": [
       "False"
      ]
     },
     "execution_count": 2,
     "metadata": {},
     "output_type": "execute_result"
    }
   ],
   "source": []
  },
  {
   "cell_type": "code",
   "execution_count": null,
   "metadata": {},
   "outputs": [],
   "source": []
  },
  {
   "cell_type": "markdown",
   "metadata": {},
   "source": [
    "- Como voce acessa os itens dentro de sua lista?\n",
    "\n",
    "Voce pode acessar os itens de suas listas atraves de suas posicoes dentro da lista, posicoes que tambem sao chamadas de index. O primeiro item de uma lista é o item de index zero (0). Um index negativo acessa a lista de trás para frente."
   ]
  },
  {
   "cell_type": "code",
   "execution_count": null,
   "metadata": {},
   "outputs": [],
   "source": []
  },
  {
   "cell_type": "code",
   "execution_count": null,
   "metadata": {},
   "outputs": [],
   "source": []
  },
  {
   "cell_type": "markdown",
   "metadata": {},
   "source": [
    "- Podemos inserir itens em qualquer posicao com o metodo ```.insert(posicao, elemento_a_ser_adicionado)```.\n",
    "\n",
    "Você também pode inserir itens em qualquer posicao usando a funcao ```insert()```."
   ]
  },
  {
   "cell_type": "code",
   "execution_count": null,
   "metadata": {},
   "outputs": [],
   "source": []
  },
  {
   "cell_type": "code",
   "execution_count": null,
   "metadata": {},
   "outputs": [],
   "source": []
  },
  {
   "cell_type": "markdown",
   "metadata": {},
   "source": [
    "- Como podemos colocar um numero 19 entre os numeros 10 e 20?"
   ]
  },
  {
   "cell_type": "code",
   "execution_count": null,
   "metadata": {
    "ExecuteTime": {
     "end_time": "2019-08-06T23:19:44.964917Z",
     "start_time": "2019-08-06T23:19:44.942819Z"
    }
   },
   "outputs": [],
   "source": [
    "# resolver o desafio\n"
   ]
  },
  {
   "cell_type": "markdown",
   "metadata": {},
   "source": [
    "- Como modificar um elemento em uma lista usando seu index?"
   ]
  },
  {
   "cell_type": "code",
   "execution_count": null,
   "metadata": {},
   "outputs": [],
   "source": []
  },
  {
   "cell_type": "code",
   "execution_count": null,
   "metadata": {},
   "outputs": [],
   "source": []
  },
  {
   "cell_type": "markdown",
   "metadata": {},
   "source": [
    "Como vimos acima, o ```20``` foi modificado para ```30```."
   ]
  },
  {
   "cell_type": "markdown",
   "metadata": {},
   "source": [
    "- Como podemos colocar os numeros 40, 50, 60 e 60 de uma só vez?"
   ]
  },
  {
   "cell_type": "code",
   "execution_count": null,
   "metadata": {},
   "outputs": [],
   "source": []
  },
  {
   "cell_type": "code",
   "execution_count": null,
   "metadata": {},
   "outputs": [],
   "source": []
  },
  {
   "cell_type": "markdown",
   "metadata": {
    "ExecuteTime": {
     "end_time": "2019-08-06T23:20:19.146962Z",
     "start_time": "2019-08-06T23:20:19.129828Z"
    }
   },
   "source": [
    "- Como podemos calcular o numero de vezes que 60 se repete?"
   ]
  },
  {
   "cell_type": "code",
   "execution_count": null,
   "metadata": {},
   "outputs": [],
   "source": []
  },
  {
   "cell_type": "code",
   "execution_count": null,
   "metadata": {},
   "outputs": [],
   "source": []
  },
  {
   "cell_type": "markdown",
   "metadata": {},
   "source": [
    "- Como podemos saber o valor maximo de uma lista?"
   ]
  },
  {
   "cell_type": "code",
   "execution_count": null,
   "metadata": {},
   "outputs": [],
   "source": []
  },
  {
   "cell_type": "code",
   "execution_count": null,
   "metadata": {},
   "outputs": [],
   "source": []
  },
  {
   "cell_type": "markdown",
   "metadata": {},
   "source": [
    "- Como podemos saber o valor minimo de uma lista"
   ]
  },
  {
   "cell_type": "code",
   "execution_count": null,
   "metadata": {},
   "outputs": [],
   "source": []
  },
  {
   "cell_type": "code",
   "execution_count": null,
   "metadata": {},
   "outputs": [],
   "source": []
  },
  {
   "cell_type": "markdown",
   "metadata": {},
   "source": [
    "## Removendo itens da lista\n",
    "\n",
    "- Como voce remove um item de uma lista?\n",
    "\n",
    "O metodo ```.remove()``` remove um item especifico de uma lista."
   ]
  },
  {
   "cell_type": "code",
   "execution_count": 3,
   "metadata": {
    "ExecuteTime": {
     "end_time": "2019-08-06T23:07:48.792351Z",
     "start_time": "2019-08-06T23:07:48.776682Z"
    }
   },
   "outputs": [],
   "source": [
    "cidades = ['Sao Paulo', 'Rio de Janeiro', 'Belo Horizonte']"
   ]
  },
  {
   "cell_type": "code",
   "execution_count": 4,
   "metadata": {
    "ExecuteTime": {
     "end_time": "2019-08-06T23:07:48.932439Z",
     "start_time": "2019-08-06T23:07:48.919244Z"
    }
   },
   "outputs": [
    {
     "data": {
      "text/plain": [
       "['Sao Paulo', 'Rio de Janeiro', 'Belo Horizonte']"
      ]
     },
     "execution_count": 4,
     "metadata": {},
     "output_type": "execute_result"
    }
   ],
   "source": [
    "cidades"
   ]
  },
  {
   "cell_type": "code",
   "execution_count": 5,
   "metadata": {},
   "outputs": [],
   "source": [
    "cidades.remove('Sao Paulo')"
   ]
  },
  {
   "cell_type": "code",
   "execution_count": 6,
   "metadata": {},
   "outputs": [
    {
     "data": {
      "text/plain": [
       "['Rio de Janeiro', 'Belo Horizonte']"
      ]
     },
     "execution_count": 6,
     "metadata": {},
     "output_type": "execute_result"
    }
   ],
   "source": [
    "cidades"
   ]
  },
  {
   "cell_type": "markdown",
   "metadata": {
    "ExecuteTime": {
     "end_time": "2019-08-01T20:00:49.385064Z",
     "start_time": "2019-08-01T20:00:49.102968Z"
    }
   },
   "source": [
    "Se um item aparece mais de uma vez em uma lista, apenas o primeiro que aparece é removido."
   ]
  },
  {
   "cell_type": "code",
   "execution_count": 7,
   "metadata": {
    "ExecuteTime": {
     "end_time": "2019-08-06T23:07:49.444909Z",
     "start_time": "2019-08-06T23:07:49.424252Z"
    }
   },
   "outputs": [],
   "source": [
    "estados = ['SP', 'RJ', 'MG', 'SP']"
   ]
  },
  {
   "cell_type": "code",
   "execution_count": 8,
   "metadata": {
    "ExecuteTime": {
     "end_time": "2019-08-06T23:07:49.613544Z",
     "start_time": "2019-08-06T23:07:49.603917Z"
    }
   },
   "outputs": [
    {
     "data": {
      "text/plain": [
       "['SP', 'RJ', 'MG', 'SP']"
      ]
     },
     "execution_count": 8,
     "metadata": {},
     "output_type": "execute_result"
    }
   ],
   "source": [
    "estados"
   ]
  },
  {
   "cell_type": "code",
   "execution_count": null,
   "metadata": {},
   "outputs": [],
   "source": [
    "estados.remove()"
   ]
  },
  {
   "cell_type": "code",
   "execution_count": null,
   "metadata": {},
   "outputs": [],
   "source": []
  },
  {
   "cell_type": "code",
   "execution_count": null,
   "metadata": {},
   "outputs": [],
   "source": []
  },
  {
   "cell_type": "markdown",
   "metadata": {},
   "source": [
    "A palavra chave ```del``` deleta um item em uma posicao especifica de uma lista usando o seu index."
   ]
  },
  {
   "cell_type": "code",
   "execution_count": null,
   "metadata": {},
   "outputs": [],
   "source": []
  },
  {
   "cell_type": "code",
   "execution_count": null,
   "metadata": {},
   "outputs": [],
   "source": []
  },
  {
   "cell_type": "code",
   "execution_count": null,
   "metadata": {},
   "outputs": [],
   "source": []
  },
  {
   "cell_type": "markdown",
   "metadata": {},
   "source": [
    "O metodo ```.pop.()```remove e retorna o ultimo item de uma lista. Esse metodo tambem aceita um index do qual sera removido e retornado. "
   ]
  },
  {
   "cell_type": "code",
   "execution_count": null,
   "metadata": {
    "ExecuteTime": {
     "end_time": "2019-08-06T23:07:50.971617Z",
     "start_time": "2019-08-06T23:07:50.962118Z"
    }
   },
   "outputs": [],
   "source": [
    "estacoes = ['verao', 'outono', 'inverno', 'primavera']"
   ]
  },
  {
   "cell_type": "code",
   "execution_count": null,
   "metadata": {
    "ExecuteTime": {
     "end_time": "2019-08-06T23:07:51.142626Z",
     "start_time": "2019-08-06T23:07:51.132901Z"
    }
   },
   "outputs": [],
   "source": [
    "estacoes"
   ]
  },
  {
   "cell_type": "code",
   "execution_count": null,
   "metadata": {},
   "outputs": [],
   "source": []
  },
  {
   "cell_type": "code",
   "execution_count": null,
   "metadata": {},
   "outputs": [],
   "source": []
  },
  {
   "cell_type": "code",
   "execution_count": null,
   "metadata": {},
   "outputs": [],
   "source": []
  },
  {
   "cell_type": "markdown",
   "metadata": {},
   "source": [
    "## Fatiando uma lista\n",
    "\n",
    "- O que é uma fatia?\n",
    "\n",
    "Uma fatia eh uma parte de uma lista que comeca com o index do primeiro item da fatia e termina com o item anterior do index especificado.\n"
   ]
  },
  {
   "cell_type": "code",
   "execution_count": null,
   "metadata": {
    "ExecuteTime": {
     "end_time": "2019-08-06T23:07:52.574001Z",
     "start_time": "2019-08-06T23:07:52.56447Z"
    }
   },
   "outputs": [],
   "source": [
    "estados = ['AC', 'AL', 'AP', 'AM', 'BA', 'CE', 'DF', 'ES',\n",
    "           'GO', 'MA', 'MT', 'MS', 'MG', 'PA', 'PB','PR', \n",
    "           'PE', 'PI', 'RJ', 'RN', 'RS', 'RO', 'RR', 'SC', \n",
    "           'SP', 'SE', 'TO']"
   ]
  },
  {
   "cell_type": "code",
   "execution_count": null,
   "metadata": {},
   "outputs": [],
   "source": []
  },
  {
   "cell_type": "code",
   "execution_count": null,
   "metadata": {},
   "outputs": [],
   "source": []
  },
  {
   "cell_type": "code",
   "execution_count": null,
   "metadata": {},
   "outputs": [],
   "source": []
  },
  {
   "cell_type": "markdown",
   "metadata": {},
   "source": [
    "- Como voce faz uma fatia com o inicio de uma lista?\n",
    "\n",
    "Omitindo o primeiro index a fatia ira comecar no primeiro item da lista."
   ]
  },
  {
   "cell_type": "code",
   "execution_count": null,
   "metadata": {},
   "outputs": [],
   "source": []
  },
  {
   "cell_type": "code",
   "execution_count": null,
   "metadata": {},
   "outputs": [],
   "source": []
  },
  {
   "cell_type": "code",
   "execution_count": null,
   "metadata": {},
   "outputs": [],
   "source": []
  },
  {
   "cell_type": "markdown",
   "metadata": {},
   "source": [
    "- Como voce faz uma fatia com o final de uma lista?\n",
    "\n",
    "Omitindo o segundo index o slice vai até o final da lista"
   ]
  },
  {
   "cell_type": "code",
   "execution_count": null,
   "metadata": {},
   "outputs": [],
   "source": []
  },
  {
   "cell_type": "code",
   "execution_count": null,
   "metadata": {},
   "outputs": [],
   "source": []
  },
  {
   "cell_type": "code",
   "execution_count": null,
   "metadata": {
    "ExecuteTime": {
     "end_time": "2019-08-06T23:07:53.658032Z",
     "start_time": "2019-08-06T23:07:53.654996Z"
    }
   },
   "outputs": [],
   "source": [
    "# trazer os 2 primeiros itens"
   ]
  },
  {
   "cell_type": "code",
   "execution_count": null,
   "metadata": {
    "ExecuteTime": {
     "end_time": "2019-08-06T23:07:53.851531Z",
     "start_time": "2019-08-06T23:07:53.848571Z"
    }
   },
   "outputs": [],
   "source": [
    "# trazer os 2 ultimos itens"
   ]
  },
  {
   "cell_type": "code",
   "execution_count": null,
   "metadata": {
    "ExecuteTime": {
     "end_time": "2019-08-06T23:07:54.387104Z",
     "start_time": "2019-08-06T23:07:54.383737Z"
    }
   },
   "outputs": [],
   "source": [
    "# trazer 2 itens no meio da lista"
   ]
  },
  {
   "cell_type": "markdown",
   "metadata": {},
   "source": [
    "## Copiando uma lista\n",
    "\n",
    "- O que voce pode fazer com a copia de uma lista?\n",
    "\n",
    "Uma copia de uma lista permite que voce trabalhe com o conteudo do que foi copiado sem afetar a lista original.\n",
    "\n",
    "Faca uma copia de uma lista usando a mesma tecnica da fatia ```[:]```, porém nesse caso voce deve omitir ambos os indexes. Antes dos ```:``` e depois dos ```:```.\n"
   ]
  },
  {
   "cell_type": "code",
   "execution_count": null,
   "metadata": {
    "ExecuteTime": {
     "end_time": "2019-08-06T23:07:55.114891Z",
     "start_time": "2019-08-06T23:07:55.111809Z"
    }
   },
   "outputs": [],
   "source": [
    "# fazendo uma copia de uma lista\n",
    "estados2 = estados[:]"
   ]
  },
  {
   "cell_type": "code",
   "execution_count": null,
   "metadata": {},
   "outputs": [],
   "source": []
  },
  {
   "cell_type": "code",
   "execution_count": null,
   "metadata": {},
   "outputs": [],
   "source": []
  },
  {
   "cell_type": "markdown",
   "metadata": {},
   "source": [
    "Voce também pode usar o método ```copy()``` para criar uma cópia da sua lista. "
   ]
  },
  {
   "cell_type": "code",
   "execution_count": null,
   "metadata": {
    "ExecuteTime": {
     "end_time": "2019-08-06T23:13:56.479373Z",
     "start_time": "2019-08-06T23:13:56.472924Z"
    }
   },
   "outputs": [],
   "source": [
    "estados3 = estados.copy()"
   ]
  },
  {
   "cell_type": "code",
   "execution_count": null,
   "metadata": {},
   "outputs": [],
   "source": []
  },
  {
   "cell_type": "code",
   "execution_count": null,
   "metadata": {},
   "outputs": [],
   "source": []
  },
  {
   "cell_type": "markdown",
   "metadata": {},
   "source": [
    "# Tuplas\n",
    "\n",
    "- O que é um Tupla?\n",
    "\n",
    "Uma tupla é uma coleção ordenada de itens que não podem ser modificados. Ela normalmente é indicada por parenteses.\n",
    "\n",
    "- Como vc define uma Tuplas?\n",
    "\n",
    "Podemos definir uma Tupla usando parenteses."
   ]
  },
  {
   "cell_type": "markdown",
   "metadata": {},
   "source": [
    "# Percorrendo uma Lista (Looping)\n",
    "\n",
    "- O que é um ```for loop```?\n",
    "\n",
    "Um ```for loop``` permite que vc trabalhe com cada item da lista, um de cada vez.\n",
    "\n",
    "- Como vc faz um loop que percorre a lista?\n"
   ]
  },
  {
   "cell_type": "code",
   "execution_count": null,
   "metadata": {
    "ExecuteTime": {
     "end_time": "2019-08-06T23:07:56.131724Z",
     "start_time": "2019-08-06T23:07:56.119169Z"
    }
   },
   "outputs": [],
   "source": [
    "# percorrendo uma lista com um for loop\n",
    "paises = ['Brasil', 'Chile', 'Argentina']\n",
    "for pais in paises:\n",
    "    print(f'Quero viajar para {pais}')"
   ]
  },
  {
   "cell_type": "code",
   "execution_count": null,
   "metadata": {
    "ExecuteTime": {
     "end_time": "2019-08-06T23:07:56.792009Z",
     "start_time": "2019-08-06T23:07:56.773684Z"
    }
   },
   "outputs": [],
   "source": [
    "for estado in estados[:3]:\n",
    "    print(f'{estado} é um estado.')"
   ]
  },
  {
   "cell_type": "markdown",
   "metadata": {},
   "source": [
    "# Ordenando uma Lista\n",
    "\n",
    "- Como você ordena uma lista temporariamente?\n",
    "\n",
    "A funcao ```sorted()``` retorna uma copia da lista ordenada, porém ela nao altera a lista original."
   ]
  },
  {
   "cell_type": "code",
   "execution_count": null,
   "metadata": {
    "ExecuteTime": {
     "end_time": "2019-08-06T23:07:57.65024Z",
     "start_time": "2019-08-06T23:07:57.645898Z"
    }
   },
   "outputs": [],
   "source": [
    "vogais = ['a', 'u', 'o', 'i', 'e']"
   ]
  },
  {
   "cell_type": "code",
   "execution_count": null,
   "metadata": {
    "ExecuteTime": {
     "end_time": "2019-08-06T23:07:58.036382Z",
     "start_time": "2019-08-06T23:07:58.029722Z"
    }
   },
   "outputs": [],
   "source": [
    "sorted(vogais)"
   ]
  },
  {
   "cell_type": "code",
   "execution_count": null,
   "metadata": {
    "ExecuteTime": {
     "end_time": "2019-08-06T23:07:58.310734Z",
     "start_time": "2019-08-06T23:07:58.301785Z"
    }
   },
   "outputs": [],
   "source": [
    "# percebemos que a lista vogais nao está alterada\n",
    "vogais"
   ]
  },
  {
   "cell_type": "markdown",
   "metadata": {},
   "source": [
    "- Como você ordena uma lista permanetemente?\n",
    "\n",
    "Para alterar a lista de forma permanente use o metodo ```.sort()```."
   ]
  },
  {
   "cell_type": "code",
   "execution_count": null,
   "metadata": {},
   "outputs": [],
   "source": []
  },
  {
   "cell_type": "code",
   "execution_count": null,
   "metadata": {},
   "outputs": [],
   "source": []
  },
  {
   "cell_type": "code",
   "execution_count": null,
   "metadata": {},
   "outputs": [],
   "source": []
  },
  {
   "cell_type": "markdown",
   "metadata": {},
   "source": [
    "# Invertendo Listas Ordenadas\n",
    "\n",
    "- Como voce ordena uma lista de forma reversa?\n",
    "\n",
    "Para isso mudamos o argumento ```reverse``` para igual a ```True```.\n"
   ]
  },
  {
   "cell_type": "code",
   "execution_count": null,
   "metadata": {
    "ExecuteTime": {
     "end_time": "2019-08-06T23:08:00.478518Z",
     "start_time": "2019-08-06T23:08:00.474678Z"
    }
   },
   "outputs": [],
   "source": [
    "vogais = ['a', 'u', 'o', 'i', 'e']"
   ]
  },
  {
   "cell_type": "code",
   "execution_count": null,
   "metadata": {
    "ExecuteTime": {
     "end_time": "2019-08-06T23:08:00.804676Z",
     "start_time": "2019-08-06T23:08:00.792805Z"
    }
   },
   "outputs": [],
   "source": [
    "sorted(vogais, reverse=True)"
   ]
  },
  {
   "cell_type": "code",
   "execution_count": null,
   "metadata": {
    "ExecuteTime": {
     "end_time": "2019-08-06T23:08:01.11561Z",
     "start_time": "2019-08-06T23:08:01.111945Z"
    }
   },
   "outputs": [],
   "source": [
    "vogais.sort(reverse=True)"
   ]
  },
  {
   "cell_type": "code",
   "execution_count": null,
   "metadata": {
    "ExecuteTime": {
     "end_time": "2019-08-06T23:08:01.498627Z",
     "start_time": "2019-08-06T23:08:01.482928Z"
    }
   },
   "outputs": [],
   "source": [
    "vogais"
   ]
  },
  {
   "cell_type": "markdown",
   "metadata": {},
   "source": [
    "- Como voce reverte uma ordem de uma lista sem ordena-la?"
   ]
  },
  {
   "cell_type": "code",
   "execution_count": null,
   "metadata": {
    "ExecuteTime": {
     "end_time": "2019-08-06T23:08:02.067558Z",
     "start_time": "2019-08-06T23:08:02.06389Z"
    }
   },
   "outputs": [],
   "source": [
    "vogais = ['a', 'u', 'o', 'i', 'e']\n",
    "vogais.reverse()"
   ]
  },
  {
   "cell_type": "code",
   "execution_count": null,
   "metadata": {
    "ExecuteTime": {
     "end_time": "2019-08-06T23:08:02.42343Z",
     "start_time": "2019-08-06T23:08:02.410804Z"
    }
   },
   "outputs": [],
   "source": [
    "vogais"
   ]
  },
  {
   "cell_type": "markdown",
   "metadata": {},
   "source": [
    "# Listas Numericas\n",
    "\n",
    "- Como vc cria um lista com numeros?\n",
    "\n",
    "A funcao ```range()```gera uma serie de numero. "
   ]
  },
  {
   "cell_type": "code",
   "execution_count": null,
   "metadata": {
    "ExecuteTime": {
     "end_time": "2019-08-06T23:08:03.18836Z",
     "start_time": "2019-08-06T23:08:03.174112Z"
    }
   },
   "outputs": [],
   "source": [
    "# com 1 argumento temos o numero de numero, com inicio no zero\n",
    "list(range(10))"
   ]
  },
  {
   "cell_type": "code",
   "execution_count": null,
   "metadata": {
    "ExecuteTime": {
     "end_time": "2019-08-06T23:08:03.58945Z",
     "start_time": "2019-08-06T23:08:03.565023Z"
    }
   },
   "outputs": [],
   "source": [
    "# com 2 argumentos temos o numero de inicio (incluido) e o numero de fim (excluido)\n",
    "list(range(5,15))"
   ]
  },
  {
   "cell_type": "code",
   "execution_count": null,
   "metadata": {
    "ExecuteTime": {
     "end_time": "2019-08-06T23:08:03.873981Z",
     "start_time": "2019-08-06T23:08:03.868941Z"
    }
   },
   "outputs": [],
   "source": [
    "# com 3 argumentos o terceiro especifica a distancia entre os numeros\n",
    "list(range(2,20,2))"
   ]
  },
  {
   "cell_type": "markdown",
   "metadata": {},
   "source": [
    "- Como vc faz uma lista com numeros que seguem padroes especificos?\n",
    "\n",
    "Para definir um padrao, crie uma lista vazia e a modifique a cada iteracao."
   ]
  },
  {
   "cell_type": "code",
   "execution_count": null,
   "metadata": {
    "ExecuteTime": {
     "end_time": "2019-08-06T23:15:23.103372Z",
     "start_time": "2019-08-06T23:15:23.091598Z"
    }
   },
   "outputs": [],
   "source": [
    "numero_fib = [0, 1] \n",
    "for i in range(12):\n",
    "    numero_fib.append(numero_fib[i] + numero_fib[i+1])\n",
    "numero_fib"
   ]
  },
  {
   "cell_type": "markdown",
   "metadata": {},
   "source": [
    "## Método index()"
   ]
  },
  {
   "cell_type": "code",
   "execution_count": null,
   "metadata": {
    "ExecuteTime": {
     "end_time": "2019-08-06T23:15:44.549626Z",
     "start_time": "2019-08-06T23:15:44.528685Z"
    }
   },
   "outputs": [],
   "source": [
    "numero_fib.index(144)"
   ]
  },
  {
   "cell_type": "markdown",
   "metadata": {},
   "source": [
    "## Método .clear()"
   ]
  },
  {
   "cell_type": "code",
   "execution_count": null,
   "metadata": {
    "ExecuteTime": {
     "end_time": "2019-08-06T23:12:22.435379Z",
     "start_time": "2019-08-06T23:12:22.425153Z"
    }
   },
   "outputs": [],
   "source": [
    "numero_fib.clear()"
   ]
  },
  {
   "cell_type": "code",
   "execution_count": null,
   "metadata": {
    "ExecuteTime": {
     "end_time": "2019-08-06T23:12:26.713603Z",
     "start_time": "2019-08-06T23:12:26.6976Z"
    }
   },
   "outputs": [],
   "source": [
    "numero_fib"
   ]
  },
  {
   "cell_type": "markdown",
   "metadata": {},
   "source": [
    "# Compreesao de Listas\n",
    "\n",
    "- O que é uma compreensao de lista?\n",
    "\n",
    "Compreensao de listas é uma forma compacta de definir uma lista em apenas uma linha."
   ]
  },
  {
   "cell_type": "code",
   "execution_count": null,
   "metadata": {
    "ExecuteTime": {
     "end_time": "2019-08-06T23:08:05.517248Z",
     "start_time": "2019-08-06T23:08:05.50242Z"
    }
   },
   "outputs": [],
   "source": [
    "numero = [ x**2 for x in range(10) ]\n",
    "numero"
   ]
  },
  {
   "cell_type": "markdown",
   "metadata": {},
   "source": [
    "- Como vc usa uma compreensao de lista?\n",
    "\n",
    "A compressao de lista usa ```couchetes```, uma ```expressao``` que gera cada item da lista e um ```for loop``` como a base da lista."
   ]
  },
  {
   "cell_type": "code",
   "execution_count": null,
   "metadata": {
    "ExecuteTime": {
     "end_time": "2019-08-06T23:08:06.132818Z",
     "start_time": "2019-08-06T23:08:06.121603Z"
    }
   },
   "outputs": [],
   "source": [
    "estados = ['AC', 'AL', 'AP', 'AM', 'BA', 'CE', 'DF', 'ES',\n",
    "           'GO', 'MA', 'MT', 'MS', 'MG', 'PA', 'PB','PR', \n",
    "           'PE', 'PI', 'RJ', 'RN', 'RS', 'RO', 'RR', 'SC', \n",
    "           'SP', 'SE', 'TO']"
   ]
  },
  {
   "cell_type": "code",
   "execution_count": null,
   "metadata": {
    "ExecuteTime": {
     "end_time": "2019-08-06T23:08:06.480016Z",
     "start_time": "2019-08-06T23:08:06.466388Z"
    }
   },
   "outputs": [],
   "source": [
    "estados_minusculo = [ estado.lower() for estado in estados ]\n",
    "estados_minusculo"
   ]
  },
  {
   "cell_type": "markdown",
   "metadata": {},
   "source": [
    "## Checando se um item existe dentro de uma lista"
   ]
  },
  {
   "cell_type": "code",
   "execution_count": null,
   "metadata": {
    "ExecuteTime": {
     "end_time": "2019-08-06T23:10:44.945647Z",
     "start_time": "2019-08-06T23:10:44.924017Z"
    }
   },
   "outputs": [],
   "source": [
    "'SP' in estados"
   ]
  },
  {
   "cell_type": "code",
   "execution_count": null,
   "metadata": {
    "ExecuteTime": {
     "end_time": "2019-08-06T23:10:57.175669Z",
     "start_time": "2019-08-06T23:10:57.161884Z"
    }
   },
   "outputs": [],
   "source": [
    "'SP' not in estados"
   ]
  },
  {
   "cell_type": "code",
   "execution_count": null,
   "metadata": {
    "ExecuteTime": {
     "end_time": "2019-08-05T22:08:01.875152Z",
     "start_time": "2019-08-05T22:08:01.858562Z"
    }
   },
   "outputs": [],
   "source": [
    "notas = (2, 3, 4)"
   ]
  },
  {
   "cell_type": "markdown",
   "metadata": {},
   "source": [
    "Também podemos definir uma Tupla usando apenas virgulas."
   ]
  },
  {
   "cell_type": "code",
   "execution_count": null,
   "metadata": {
    "ExecuteTime": {
     "end_time": "2019-08-05T22:09:15.965761Z",
     "start_time": "2019-08-05T22:09:15.960177Z"
    }
   },
   "outputs": [],
   "source": [
    "notas2 = 2,3,4"
   ]
  },
  {
   "cell_type": "markdown",
   "metadata": {},
   "source": [
    "- Como vc trabalha com uma Tupla?\n",
    "\n",
    "Os elementos da Tupla podem ser acessados através de seus indexes."
   ]
  },
  {
   "cell_type": "code",
   "execution_count": null,
   "metadata": {
    "ExecuteTime": {
     "end_time": "2019-08-05T22:09:55.301408Z",
     "start_time": "2019-08-05T22:09:55.295235Z"
    }
   },
   "outputs": [],
   "source": [
    "notas[0]"
   ]
  },
  {
   "cell_type": "code",
   "execution_count": null,
   "metadata": {
    "ExecuteTime": {
     "end_time": "2019-08-05T22:09:59.481806Z",
     "start_time": "2019-08-05T22:09:59.472017Z"
    }
   },
   "outputs": [],
   "source": [
    "notas[1]"
   ]
  },
  {
   "cell_type": "code",
   "execution_count": null,
   "metadata": {
    "ExecuteTime": {
     "end_time": "2019-08-05T22:10:03.501039Z",
     "start_time": "2019-08-05T22:10:03.489685Z"
    }
   },
   "outputs": [],
   "source": [
    "notas[2]"
   ]
  },
  {
   "cell_type": "markdown",
   "metadata": {},
   "source": [
    "## Listas dentro de listas"
   ]
  },
  {
   "cell_type": "code",
   "execution_count": null,
   "metadata": {
    "ExecuteTime": {
     "end_time": "2019-09-13T05:46:05.661539Z",
     "start_time": "2019-09-13T05:46:05.581382Z"
    }
   },
   "outputs": [],
   "source": [
    "lista_externa = [[1,2],[3,4],[5,6]]"
   ]
  },
  {
   "cell_type": "code",
   "execution_count": null,
   "metadata": {
    "ExecuteTime": {
     "end_time": "2019-09-13T05:46:18.133791Z",
     "start_time": "2019-09-13T05:46:18.108965Z"
    }
   },
   "outputs": [],
   "source": [
    "lista_externa[0][1]"
   ]
  },
  {
   "cell_type": "markdown",
   "metadata": {},
   "source": [
    "Voce pode percorrer uma tupla usando um ```for loop```:"
   ]
  },
  {
   "cell_type": "code",
   "execution_count": null,
   "metadata": {
    "ExecuteTime": {
     "end_time": "2019-08-05T22:13:06.888852Z",
     "start_time": "2019-08-05T22:13:06.879822Z"
    }
   },
   "outputs": [],
   "source": [
    "print('Minhas notas foram: ', end='')\n",
    "for nota in notas:\n",
    "    if nota == notas[-1]:\n",
    "        print(f'{nota}.', end='')\n",
    "    else:\n",
    "        print(f'{nota}, ', end='')"
   ]
  },
  {
   "cell_type": "markdown",
   "metadata": {},
   "source": [
    "# Tipos de dados"
   ]
  },
  {
   "cell_type": "code",
   "execution_count": null,
   "metadata": {},
   "outputs": [],
   "source": [
    "int()\n",
    "\n",
    "float()\n",
    "\n",
    "list()\n",
    "\n",
    "tuple()\n",
    "\n",
    "bool()\n",
    "\n",
    "str()\n",
    "\n",
    "type()"
   ]
  },
  {
   "cell_type": "markdown",
   "metadata": {},
   "source": [
    "# Referências\n",
    "\n",
    "https://realpython.com/python-lists-tuples/\n",
    "    \n",
    "https://www.w3schools.com/python/python_lists.asp\n",
    "    \n",
    "https://www.tutorialspoint.com/python3/python_dictionary.htm"
   ]
  }
 ],
 "metadata": {
  "kernelspec": {
   "display_name": "Python 3",
   "language": "python",
   "name": "python3"
  },
  "language_info": {
   "codemirror_mode": {
    "name": "ipython",
    "version": 3
   },
   "file_extension": ".py",
   "mimetype": "text/x-python",
   "name": "python",
   "nbconvert_exporter": "python",
   "pygments_lexer": "ipython3",
   "version": "3.7.3"
  }
 },
 "nbformat": 4,
 "nbformat_minor": 4
}
