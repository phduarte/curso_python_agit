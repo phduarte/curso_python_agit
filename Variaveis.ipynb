{
  "cells": [
    {
      "metadata": {},
      "cell_type": "markdown",
      "source": "# Variáveis\n\n- O que é uma variável?\n\nVariável é um rótulo dado para um **valor** que você *programador* irá usar futuramente em seu programa.\n\n- Quais são as regras para nomear as variáveis?\n\nAs variáveis em Python possuem **2 regras principais**:\n\n1. Elas devem conter apenas *letras, underlines e números*\n\n2. Elas devem começar com uma *letra* ou um *underline*.\n\n### As boas variáveis são curtas e querem dizer muito sobre seu conteúdo.\n\nTemos um exemplo abaixo:"
    },
    {
      "metadata": {
        "ExecuteTime": {
          "end_time": "2019-08-22T17:56:34.627692Z",
          "start_time": "2019-08-22T17:56:34.623154Z"
        },
        "trusted": false
      },
      "cell_type": "code",
      "source": "# uma variavel pode conter uma pequena quantidade de informação, ou pode ter muitos gigas de dados.\nprimeiro_nome = \"Alan\"\nultimo_nome = \"Turing\"\nnome_de_usuario = \"mestre_da_computacao_1912\"\nidade = 41",
      "execution_count": 31,
      "outputs": []
    },
    {
      "metadata": {
        "ExecuteTime": {
          "end_time": "2019-08-22T17:56:36.328599Z",
          "start_time": "2019-08-22T17:56:36.322604Z"
        },
        "trusted": false
      },
      "cell_type": "code",
      "source": "print(f'{primeiro_nome}')",
      "execution_count": 32,
      "outputs": [
        {
          "name": "stdout",
          "output_type": "stream",
          "text": "Alan\n"
        }
      ]
    },
    {
      "metadata": {
        "ExecuteTime": {
          "end_time": "2019-08-22T17:56:38.311344Z",
          "start_time": "2019-08-22T17:56:38.303182Z"
        },
        "trusted": false
      },
      "cell_type": "code",
      "source": "msg = (\n    f'Name: {primeiro_nome} {ultimo_nome}\\n'\n    f'Age: {idade}\\n'\n    f'Login: {nome_de_usuario}'\n)",
      "execution_count": 33,
      "outputs": []
    },
    {
      "metadata": {
        "ExecuteTime": {
          "end_time": "2019-08-22T17:56:39.968855Z",
          "start_time": "2019-08-22T17:56:39.951362Z"
        },
        "trusted": false
      },
      "cell_type": "code",
      "source": "print(msg)",
      "execution_count": 34,
      "outputs": [
        {
          "name": "stdout",
          "output_type": "stream",
          "text": "Name: Alan Turing\nAge: 41\nLogin: mestre_da_computacao_1912\n"
        }
      ]
    },
    {
      "metadata": {},
      "cell_type": "markdown",
      "source": "# Strings\n\n- O que é uma string?\n\nString é um valor feito de um ou mais caracteres (também conhecido como 'letras'). Você deve usar aspas simples (') ou duplas (\") entre esses caracteres.\n\n- Como você pode guardar uma string em uma variável?\n\nNo exemplo abaixo a frase ```\"Eu adoro Python!\"``` é uma string nomeada \n"
    },
    {
      "metadata": {
        "ExecuteTime": {
          "end_time": "2019-08-21T18:35:22.349492Z",
          "start_time": "2019-08-21T18:35:22.334481Z"
        },
        "trusted": false
      },
      "cell_type": "code",
      "source": "frase = \"Eu adoro Python!\"\nprint(frase)",
      "execution_count": 35,
      "outputs": [
        {
          "name": "stdout",
          "output_type": "stream",
          "text": "Eu adoro Python!\n"
        }
      ]
    },
    {
      "metadata": {},
      "cell_type": "markdown",
      "source": "As aspas simples e duplas funcionam no exemplo acima. Se você quiser fazer uma citação, você pode usar:"
    },
    {
      "metadata": {
        "ExecuteTime": {
          "end_time": "2019-08-21T18:35:23.000377Z",
          "start_time": "2019-08-21T18:35:22.984141Z"
        },
        "trusted": false
      },
      "cell_type": "code",
      "source": "citacao = 'O aluno disse: \"Eu adoro Python!\"'\nprint(citacao)",
      "execution_count": 36,
      "outputs": [
        {
          "name": "stdout",
          "output_type": "stream",
          "text": "O aluno disse: \"Eu adoro Python!\"\n"
        }
      ]
    },
    {
      "metadata": {},
      "cell_type": "markdown",
      "source": "- Como você pode incluir *tabs* e *novas linhas* em uma string?\n\nPara inserir tabulações ou pular linhas use os comandos especiais **\\t** e **\\n** respectivamente."
    },
    {
      "metadata": {
        "ExecuteTime": {
          "end_time": "2019-08-21T18:35:23.713889Z",
          "start_time": "2019-08-21T18:35:23.703288Z"
        },
        "trusted": false
      },
      "cell_type": "code",
      "source": "lista_de_compras = 'Lista de compras: \\n \\n \\t - cerveja \\n \\t - pipoca \\n \\t - catchup'\nprint(lista_de_compras)",
      "execution_count": 37,
      "outputs": [
        {
          "name": "stdout",
          "output_type": "stream",
          "text": "Lista de compras: \n \n \t - cerveja \n \t - pipoca \n \t - catchup\n"
        }
      ]
    },
    {
      "metadata": {},
      "cell_type": "markdown",
      "source": "No exemplo acima usamos 2 vezes o ```\\n``` para pular 2 linhas, depois usamos um ```\\t``` antes do item da lista de compras para dar um *tab* e um ```\\n``` em sequencia para pular para a linha de baixo.\n\n**Importante:** Nao existe limite de tamanho em uma string."
    },
    {
      "metadata": {},
      "cell_type": "markdown",
      "source": "## Métodos de String\n\n- O que e um metodo de string?\n\nUm método da string é uma função que realiza uma ação em uma string.\n\n\n- Como voce pode mudar o tipo de caixa de uma string?\n\nPara mudar o tipo de caixa de uma string, podemos usar os metodos ```title()```, ```upper()```, ```lower()``` e ```swapcase()```:\n"
    },
    {
      "metadata": {
        "ExecuteTime": {
          "end_time": "2019-08-21T18:49:31.811287Z",
          "start_time": "2019-08-21T18:49:31.799506Z"
        },
        "trusted": false
      },
      "cell_type": "code",
      "source": "nome = primeiro_nome + ' ' + ultimo_nome",
      "execution_count": 38,
      "outputs": []
    },
    {
      "metadata": {
        "ExecuteTime": {
          "end_time": "2019-08-21T18:49:32.024274Z",
          "start_time": "2019-08-21T18:49:32.01132Z"
        },
        "trusted": false
      },
      "cell_type": "code",
      "source": "nome",
      "execution_count": 39,
      "outputs": [
        {
          "data": {
            "text/plain": "'Alan Turing'"
          },
          "execution_count": 39,
          "metadata": {},
          "output_type": "execute_result"
        }
      ]
    },
    {
      "metadata": {
        "ExecuteTime": {
          "end_time": "2019-08-21T18:49:32.221642Z",
          "start_time": "2019-08-21T18:49:32.195162Z"
        },
        "trusted": false
      },
      "cell_type": "code",
      "source": "# usando o metodo lower() na variavel nome_caixa_alta\nnome.lower()",
      "execution_count": 40,
      "outputs": [
        {
          "data": {
            "text/plain": "'alan turing'"
          },
          "execution_count": 40,
          "metadata": {},
          "output_type": "execute_result"
        }
      ]
    },
    {
      "metadata": {
        "trusted": false
      },
      "cell_type": "code",
      "source": "# forma mais agressiva, funcionando com outras linguas alem do ingle\nnome.casefold()",
      "execution_count": 41,
      "outputs": [
        {
          "data": {
            "text/plain": "'alan turing'"
          },
          "execution_count": 41,
          "metadata": {},
          "output_type": "execute_result"
        }
      ]
    },
    {
      "metadata": {},
      "cell_type": "markdown",
      "source": "Podemos ver que no caso acima todas as letras da string ficaram em caixa baixa. O ```A``` virou ```a``` e o ```T``` virou ```t```."
    },
    {
      "metadata": {
        "trusted": false
      },
      "cell_type": "code",
      "source": "nome.center(21, '!')",
      "execution_count": 50,
      "outputs": [
        {
          "data": {
            "text/plain": "'!!!!!Alan Turing!!!!!'"
          },
          "execution_count": 50,
          "metadata": {},
          "output_type": "execute_result"
        }
      ]
    },
    {
      "metadata": {},
      "cell_type": "markdown",
      "source": "O comando acima retorna uma string centralizada. Caso o numero do argumento seja menor que o tamanho da string. É retornado a string sem modificações."
    },
    {
      "metadata": {
        "trusted": false
      },
      "cell_type": "code",
      "source": "nome.count('a')",
      "execution_count": 51,
      "outputs": [
        {
          "data": {
            "text/plain": "1"
          },
          "execution_count": 51,
          "metadata": {},
          "output_type": "execute_result"
        }
      ]
    },
    {
      "metadata": {
        "trusted": false
      },
      "cell_type": "code",
      "source": "nome.casefold().count('a')",
      "execution_count": 52,
      "outputs": [
        {
          "data": {
            "text/plain": "2"
          },
          "execution_count": 52,
          "metadata": {},
          "output_type": "execute_result"
        }
      ]
    },
    {
      "metadata": {
        "trusted": false
      },
      "cell_type": "code",
      "source": "nome.casefold().count('a',2)",
      "execution_count": 53,
      "outputs": [
        {
          "data": {
            "text/plain": "1"
          },
          "execution_count": 53,
          "metadata": {},
          "output_type": "execute_result"
        }
      ]
    },
    {
      "metadata": {
        "trusted": false
      },
      "cell_type": "code",
      "source": "nome.casefold().count('a',0,2)",
      "execution_count": 56,
      "outputs": [
        {
          "data": {
            "text/plain": "1"
          },
          "execution_count": 56,
          "metadata": {},
          "output_type": "execute_result"
        }
      ]
    },
    {
      "metadata": {},
      "cell_type": "markdown",
      "source": "O método ```.count()``` retorna o numero de ocorrencias de uma substring (primeiro argumento), e tem mais 2 argumentos, o primeiro é o index onde começa a contagem, e o segundo é onde termina a contagem.\n\nObs. Ele nao faz *overlapping*"
    },
    {
      "metadata": {
        "trusted": false
      },
      "cell_type": "code",
      "source": "nome = nome.casefold()\nnome",
      "execution_count": 61,
      "outputs": [
        {
          "data": {
            "text/plain": "'alan turing'"
          },
          "execution_count": 61,
          "metadata": {},
          "output_type": "execute_result"
        }
      ]
    },
    {
      "metadata": {
        "ExecuteTime": {
          "end_time": "2019-08-21T18:49:32.61234Z",
          "start_time": "2019-08-21T18:49:32.590162Z"
        },
        "trusted": false
      },
      "cell_type": "code",
      "source": "nome.title()",
      "execution_count": 62,
      "outputs": [
        {
          "data": {
            "text/plain": "'Alan Turing'"
          },
          "execution_count": 62,
          "metadata": {},
          "output_type": "execute_result"
        }
      ]
    },
    {
      "metadata": {},
      "cell_type": "markdown",
      "source": "O que aconteceu no comando acima? Podemos perceber que as primeiras letras das palavras contidas na string ```nome``` foram mudadas de caixa baixa para caixa alta."
    },
    {
      "metadata": {
        "trusted": false
      },
      "cell_type": "code",
      "source": "nome.capitalize()",
      "execution_count": 63,
      "outputs": [
        {
          "data": {
            "text/plain": "'Alan turing'"
          },
          "execution_count": 63,
          "metadata": {},
          "output_type": "execute_result"
        }
      ]
    },
    {
      "metadata": {},
      "cell_type": "markdown",
      "source": "O que aconteceu no comando acima? Podemos perceber que apenas a primeira  letra da string foi mudada de caixa baixa para caixa alta."
    },
    {
      "metadata": {
        "ExecuteTime": {
          "end_time": "2019-08-21T18:49:33.646066Z",
          "start_time": "2019-08-21T18:49:33.619359Z"
        },
        "trusted": false
      },
      "cell_type": "code",
      "source": "nome.upper()",
      "execution_count": 64,
      "outputs": [
        {
          "data": {
            "text/plain": "'ALAN TURING'"
          },
          "execution_count": 64,
          "metadata": {},
          "output_type": "execute_result"
        }
      ]
    },
    {
      "metadata": {},
      "cell_type": "markdown",
      "source": "E agora, o que aconteceu acima? Vimos que o metodo ```.upper()``` deixou *todas* as letras da string ```nome``` em caixa alta. Vamos ver agora o proximo comando."
    },
    {
      "metadata": {
        "ExecuteTime": {
          "end_time": "2019-08-21T18:49:34.578765Z",
          "start_time": "2019-08-21T18:49:34.569358Z"
        },
        "trusted": false
      },
      "cell_type": "code",
      "source": "# deixando a variavel nome em CAIXA ALTA e atribuindo a nova variavel criada chamada nome_caixa_alta\nnome = nome.upper()\nprint(nome)",
      "execution_count": 65,
      "outputs": [
        {
          "name": "stdout",
          "output_type": "stream",
          "text": "ALAN TURING\n"
        }
      ]
    },
    {
      "metadata": {
        "ExecuteTime": {
          "end_time": "2019-08-21T18:49:49.71354Z",
          "start_time": "2019-08-21T18:49:49.682136Z"
        },
        "trusted": false
      },
      "cell_type": "code",
      "source": "nome.swapcase()",
      "execution_count": 66,
      "outputs": [
        {
          "data": {
            "text/plain": "'alan turing'"
          },
          "execution_count": 66,
          "metadata": {},
          "output_type": "execute_result"
        }
      ]
    },
    {
      "metadata": {},
      "cell_type": "markdown",
      "source": "### Metodos de contagem de caracteres em strings\n\n- Como vc pode verificar letras, ou sequencias de letras dentro de uma string?\n\nOs metodos ```count()```, ```endswith()```, ```stratswith()```, ```find()```, ```rfind()```, ```index()``` e ```rindex()``` ajudam a verificar a ocorrencia de uma substring, sua contagem e localizacao."
    },
    {
      "metadata": {
        "trusted": false
      },
      "cell_type": "code",
      "source": "nome",
      "execution_count": 109,
      "outputs": [
        {
          "data": {
            "text/plain": "'ALAN TURING'"
          },
          "execution_count": 109,
          "metadata": {},
          "output_type": "execute_result"
        }
      ]
    },
    {
      "metadata": {
        "trusted": false
      },
      "cell_type": "code",
      "source": "nome.endswith('an')",
      "execution_count": 68,
      "outputs": [
        {
          "data": {
            "text/plain": "False"
          },
          "execution_count": 68,
          "metadata": {},
          "output_type": "execute_result"
        }
      ]
    },
    {
      "metadata": {
        "trusted": false
      },
      "cell_type": "code",
      "source": "nome.endswith('AN')",
      "execution_count": 69,
      "outputs": [
        {
          "data": {
            "text/plain": "False"
          },
          "execution_count": 69,
          "metadata": {},
          "output_type": "execute_result"
        }
      ]
    },
    {
      "metadata": {
        "trusted": false
      },
      "cell_type": "code",
      "source": "nome.endswith('ing')",
      "execution_count": 71,
      "outputs": [
        {
          "data": {
            "text/plain": "False"
          },
          "execution_count": 71,
          "metadata": {},
          "output_type": "execute_result"
        }
      ]
    },
    {
      "metadata": {
        "trusted": false
      },
      "cell_type": "code",
      "source": "nome.endswith('ING')",
      "execution_count": null,
      "outputs": []
    },
    {
      "metadata": {
        "trusted": false
      },
      "cell_type": "code",
      "source": "nome.endswith('AN',2,4)",
      "execution_count": 77,
      "outputs": [
        {
          "data": {
            "text/plain": "True"
          },
          "execution_count": 77,
          "metadata": {},
          "output_type": "execute_result"
        }
      ]
    },
    {
      "metadata": {
        "trusted": false
      },
      "cell_type": "code",
      "source": "nome[2:4]",
      "execution_count": 75,
      "outputs": [
        {
          "data": {
            "text/plain": "'AN'"
          },
          "execution_count": 75,
          "metadata": {},
          "output_type": "execute_result"
        }
      ]
    },
    {
      "metadata": {
        "trusted": false
      },
      "cell_type": "code",
      "source": "nome.startswith('A')",
      "execution_count": 78,
      "outputs": [
        {
          "data": {
            "text/plain": "True"
          },
          "execution_count": 78,
          "metadata": {},
          "output_type": "execute_result"
        }
      ]
    },
    {
      "metadata": {
        "trusted": false
      },
      "cell_type": "code",
      "source": "nome.startswith('')",
      "execution_count": 81,
      "outputs": [
        {
          "data": {
            "text/plain": "True"
          },
          "execution_count": 81,
          "metadata": {},
          "output_type": "execute_result"
        }
      ]
    },
    {
      "metadata": {
        "trusted": false
      },
      "cell_type": "code",
      "source": "nome",
      "execution_count": 82,
      "outputs": [
        {
          "data": {
            "text/plain": "'ALAN TURING'"
          },
          "execution_count": 82,
          "metadata": {},
          "output_type": "execute_result"
        }
      ]
    },
    {
      "metadata": {
        "trusted": false
      },
      "cell_type": "code",
      "source": "nome[5:8]",
      "execution_count": 85,
      "outputs": [
        {
          "data": {
            "text/plain": "'TUR'"
          },
          "execution_count": 85,
          "metadata": {},
          "output_type": "execute_result"
        }
      ]
    },
    {
      "metadata": {
        "trusted": false
      },
      "cell_type": "code",
      "source": "nome.startswith('TUR',5, 8)",
      "execution_count": 92,
      "outputs": [
        {
          "data": {
            "text/plain": "True"
          },
          "execution_count": 92,
          "metadata": {},
          "output_type": "execute_result"
        }
      ]
    },
    {
      "metadata": {
        "trusted": false
      },
      "cell_type": "code",
      "source": "nome.startswith('TURI',5, 8)",
      "execution_count": 93,
      "outputs": [
        {
          "data": {
            "text/plain": "False"
          },
          "execution_count": 93,
          "metadata": {},
          "output_type": "execute_result"
        }
      ]
    },
    {
      "metadata": {
        "trusted": false
      },
      "cell_type": "code",
      "source": "nome",
      "execution_count": 96,
      "outputs": [
        {
          "data": {
            "text/plain": "'ALAN TURING'"
          },
          "execution_count": 96,
          "metadata": {},
          "output_type": "execute_result"
        }
      ]
    },
    {
      "metadata": {
        "trusted": false
      },
      "cell_type": "code",
      "source": "nome.find('T')",
      "execution_count": 98,
      "outputs": [
        {
          "data": {
            "text/plain": "5"
          },
          "execution_count": 98,
          "metadata": {},
          "output_type": "execute_result"
        }
      ]
    },
    {
      "metadata": {
        "trusted": false
      },
      "cell_type": "code",
      "source": "nome.find('O')",
      "execution_count": 97,
      "outputs": [
        {
          "data": {
            "text/plain": "-1"
          },
          "execution_count": 97,
          "metadata": {},
          "output_type": "execute_result"
        }
      ]
    },
    {
      "metadata": {
        "trusted": false
      },
      "cell_type": "code",
      "source": "nome.find('TUR')",
      "execution_count": 101,
      "outputs": [
        {
          "data": {
            "text/plain": "5"
          },
          "execution_count": 101,
          "metadata": {},
          "output_type": "execute_result"
        }
      ]
    },
    {
      "metadata": {
        "trusted": false
      },
      "cell_type": "code",
      "source": "nome.find('TUT')",
      "execution_count": 100,
      "outputs": [
        {
          "data": {
            "text/plain": "-1"
          },
          "execution_count": 100,
          "metadata": {},
          "output_type": "execute_result"
        }
      ]
    },
    {
      "metadata": {
        "trusted": false
      },
      "cell_type": "code",
      "source": "nome",
      "execution_count": 102,
      "outputs": [
        {
          "data": {
            "text/plain": "'ALAN TURING'"
          },
          "execution_count": 102,
          "metadata": {},
          "output_type": "execute_result"
        }
      ]
    },
    {
      "metadata": {
        "trusted": false
      },
      "cell_type": "code",
      "source": "nome.rfind('A')",
      "execution_count": 103,
      "outputs": [
        {
          "data": {
            "text/plain": "2"
          },
          "execution_count": 103,
          "metadata": {},
          "output_type": "execute_result"
        }
      ]
    },
    {
      "metadata": {
        "trusted": false
      },
      "cell_type": "code",
      "source": "nome.index('A')",
      "execution_count": 105,
      "outputs": [
        {
          "data": {
            "text/plain": "0"
          },
          "execution_count": 105,
          "metadata": {},
          "output_type": "execute_result"
        }
      ]
    },
    {
      "metadata": {
        "trusted": false
      },
      "cell_type": "code",
      "source": "nome.rindex('A')",
      "execution_count": 106,
      "outputs": [
        {
          "data": {
            "text/plain": "2"
          },
          "execution_count": 106,
          "metadata": {},
          "output_type": "execute_result"
        }
      ]
    },
    {
      "metadata": {
        "trusted": false
      },
      "cell_type": "code",
      "source": "nome.index('O')",
      "execution_count": 108,
      "outputs": [
        {
          "ename": "ValueError",
          "evalue": "substring not found",
          "output_type": "error",
          "traceback": [
            "\u001b[0;31m---------------------------------------------------------------------------\u001b[0m",
            "\u001b[0;31mValueError\u001b[0m                                Traceback (most recent call last)",
            "\u001b[0;32m<ipython-input-108-c31f5849568e>\u001b[0m in \u001b[0;36m<module>\u001b[0;34m\u001b[0m\n\u001b[0;32m----> 1\u001b[0;31m \u001b[0mnome\u001b[0m\u001b[0;34m.\u001b[0m\u001b[0mindex\u001b[0m\u001b[0;34m(\u001b[0m\u001b[0;34m'O'\u001b[0m\u001b[0;34m)\u001b[0m\u001b[0;34m\u001b[0m\u001b[0;34m\u001b[0m\u001b[0m\n\u001b[0m",
            "\u001b[0;31mValueError\u001b[0m: substring not found"
          ]
        }
      ]
    },
    {
      "metadata": {},
      "cell_type": "markdown",
      "source": "### Metodos de verificacao de caracteres\n\n- Como vc pode verificar letras, ou sequencias de letras dentro de uma string?\n\nOs metodos ```isalnum()```, ```isalpha()```, ```isdigit()```,  ```islower()```, ```isprintable()``` e ```isspace()``` e ```istitle()``` e ```isupper()```\n\n\n\nremovem espaços em branco nas bordas das strings, eh muito usado em tratamento de dados."
    },
    {
      "metadata": {
        "trusted": false
      },
      "cell_type": "code",
      "source": "nome",
      "execution_count": 115,
      "outputs": [
        {
          "data": {
            "text/plain": "'ALAN TURING'"
          },
          "execution_count": 115,
          "metadata": {},
          "output_type": "execute_result"
        }
      ]
    },
    {
      "metadata": {
        "trusted": false
      },
      "cell_type": "code",
      "source": "nome.isalnum()",
      "execution_count": 113,
      "outputs": [
        {
          "data": {
            "text/plain": "False"
          },
          "execution_count": 113,
          "metadata": {},
          "output_type": "execute_result"
        }
      ]
    },
    {
      "metadata": {
        "trusted": false
      },
      "cell_type": "code",
      "source": "nome.replace(' ','a').isalnum()",
      "execution_count": 114,
      "outputs": [
        {
          "data": {
            "text/plain": "True"
          },
          "execution_count": 114,
          "metadata": {},
          "output_type": "execute_result"
        }
      ]
    },
    {
      "metadata": {
        "trusted": false
      },
      "cell_type": "code",
      "source": "nome[:nome.find('N')+1]",
      "execution_count": 118,
      "outputs": [
        {
          "data": {
            "text/plain": "True"
          },
          "execution_count": 118,
          "metadata": {},
          "output_type": "execute_result"
        }
      ]
    },
    {
      "metadata": {
        "trusted": false
      },
      "cell_type": "code",
      "source": "nome[:nome.find('N')+1].isalnum()",
      "execution_count": 119,
      "outputs": [
        {
          "data": {
            "text/plain": "True"
          },
          "execution_count": 119,
          "metadata": {},
          "output_type": "execute_result"
        }
      ]
    },
    {
      "metadata": {
        "trusted": false
      },
      "cell_type": "code",
      "source": "nome[:nome.find('N')+1].isalpha()",
      "execution_count": 120,
      "outputs": [
        {
          "data": {
            "text/plain": "True"
          },
          "execution_count": 120,
          "metadata": {},
          "output_type": "execute_result"
        }
      ]
    },
    {
      "metadata": {
        "trusted": false
      },
      "cell_type": "code",
      "source": "nome[:nome.find('N')+1].isdecimal()",
      "execution_count": 121,
      "outputs": [
        {
          "data": {
            "text/plain": "False"
          },
          "execution_count": 121,
          "metadata": {},
          "output_type": "execute_result"
        }
      ]
    },
    {
      "metadata": {
        "trusted": false
      },
      "cell_type": "code",
      "source": "'123'.isdecimal() # numeros base 10",
      "execution_count": 122,
      "outputs": [
        {
          "data": {
            "text/plain": "True"
          },
          "execution_count": 122,
          "metadata": {},
          "output_type": "execute_result"
        }
      ]
    },
    {
      "metadata": {
        "trusted": false
      },
      "cell_type": "code",
      "source": "'123'.isdigit() # ",
      "execution_count": 127,
      "outputs": [
        {
          "data": {
            "text/plain": "True"
          },
          "execution_count": 127,
          "metadata": {},
          "output_type": "execute_result"
        }
      ]
    },
    {
      "metadata": {
        "trusted": false
      },
      "cell_type": "code",
      "source": "'123'.isnumeric()",
      "execution_count": 124,
      "outputs": [
        {
          "data": {
            "text/plain": "True"
          },
          "execution_count": 124,
          "metadata": {},
          "output_type": "execute_result"
        }
      ]
    },
    {
      "metadata": {},
      "cell_type": "markdown",
      "source": "| isdecimal() | isdigit() | isnumeric() |             Example            |\n|:-----------:|:---------:|:-----------:|:------------------------------:|\n|     True    |    True   |     True    |     \"038\", \"੦੩੮\", \"０３８\"     |\n|    False    |    True   |     True    |       \"⁰³⁸\", \"🄀⒊⒏\", \"⓪③⑧\"      |\n|    False    |   False   |     True    | \"↉⅛⅘\", \"ⅠⅢⅧ\", \"⑩⑬㊿\", \"壹貳參\" |\n|    False    |   False   |    False    |      \"abc\", \"38.0\", \"-38\"      |\n\n\npara gerar tabelas: https://www.tablesgenerator.com/markdown_tables"
    },
    {
      "metadata": {
        "ExecuteTime": {
          "start_time": "2019-08-30T18:56:56.450967Z",
          "end_time": "2019-08-30T18:56:56.470432Z"
        },
        "trusted": true
      },
      "cell_type": "code",
      "source": "'038'.isnumeric()",
      "execution_count": 5,
      "outputs": [
        {
          "output_type": "execute_result",
          "execution_count": 5,
          "data": {
            "text/plain": "True"
          },
          "metadata": {}
        }
      ]
    },
    {
      "metadata": {
        "trusted": false
      },
      "cell_type": "code",
      "source": "\"壹貳參\".isnumeric()",
      "execution_count": 129,
      "outputs": [
        {
          "data": {
            "text/plain": "True"
          },
          "execution_count": 129,
          "metadata": {},
          "output_type": "execute_result"
        }
      ]
    },
    {
      "metadata": {
        "trusted": false
      },
      "cell_type": "code",
      "source": "\"⁰³⁸\".isdigit()",
      "execution_count": 130,
      "outputs": [
        {
          "data": {
            "text/plain": "True"
          },
          "execution_count": 130,
          "metadata": {},
          "output_type": "execute_result"
        }
      ]
    },
    {
      "metadata": {
        "trusted": false
      },
      "cell_type": "code",
      "source": "\"੦੩੮\".isdigit()",
      "execution_count": 128,
      "outputs": [
        {
          "data": {
            "text/plain": "True"
          },
          "execution_count": 128,
          "metadata": {},
          "output_type": "execute_result"
        }
      ]
    },
    {
      "metadata": {
        "trusted": false
      },
      "cell_type": "code",
      "source": "nome",
      "execution_count": 131,
      "outputs": [
        {
          "data": {
            "text/plain": "'ALAN TURING'"
          },
          "execution_count": 131,
          "metadata": {},
          "output_type": "execute_result"
        }
      ]
    },
    {
      "metadata": {
        "trusted": false
      },
      "cell_type": "code",
      "source": "nome.islower()",
      "execution_count": 132,
      "outputs": [
        {
          "data": {
            "text/plain": "False"
          },
          "execution_count": 132,
          "metadata": {},
          "output_type": "execute_result"
        }
      ]
    },
    {
      "metadata": {
        "trusted": false
      },
      "cell_type": "code",
      "source": "nome.isupper()",
      "execution_count": 133,
      "outputs": [
        {
          "data": {
            "text/plain": "True"
          },
          "execution_count": 133,
          "metadata": {},
          "output_type": "execute_result"
        }
      ]
    },
    {
      "metadata": {
        "trusted": false
      },
      "cell_type": "code",
      "source": "nome.casefold().islower()",
      "execution_count": 135,
      "outputs": [
        {
          "data": {
            "text/plain": "True"
          },
          "execution_count": 135,
          "metadata": {},
          "output_type": "execute_result"
        }
      ]
    },
    {
      "metadata": {
        "trusted": false
      },
      "cell_type": "code",
      "source": "nome.capitalize()",
      "execution_count": 136,
      "outputs": [
        {
          "data": {
            "text/plain": "'Alan turing'"
          },
          "execution_count": 136,
          "metadata": {},
          "output_type": "execute_result"
        }
      ]
    },
    {
      "metadata": {
        "trusted": false
      },
      "cell_type": "code",
      "source": "nome.capitalize().islower()",
      "execution_count": 138,
      "outputs": [
        {
          "data": {
            "text/plain": "False"
          },
          "execution_count": 138,
          "metadata": {},
          "output_type": "execute_result"
        }
      ]
    },
    {
      "metadata": {
        "trusted": false
      },
      "cell_type": "code",
      "source": "'\\t'.isprintable()",
      "execution_count": 145,
      "outputs": [
        {
          "data": {
            "text/plain": "False"
          },
          "execution_count": 145,
          "metadata": {},
          "output_type": "execute_result"
        }
      ]
    },
    {
      "metadata": {
        "trusted": false
      },
      "cell_type": "code",
      "source": "'sdsd \\t'.isprintable()",
      "execution_count": 146,
      "outputs": [
        {
          "data": {
            "text/plain": "False"
          },
          "execution_count": 146,
          "metadata": {},
          "output_type": "execute_result"
        }
      ]
    },
    {
      "metadata": {
        "trusted": false
      },
      "cell_type": "code",
      "source": "'  '.isprintable()",
      "execution_count": 147,
      "outputs": [
        {
          "data": {
            "text/plain": "True"
          },
          "execution_count": 147,
          "metadata": {},
          "output_type": "execute_result"
        }
      ]
    },
    {
      "metadata": {
        "trusted": false
      },
      "cell_type": "code",
      "source": "''.isspace()",
      "execution_count": 148,
      "outputs": [
        {
          "data": {
            "text/plain": "False"
          },
          "execution_count": 148,
          "metadata": {},
          "output_type": "execute_result"
        }
      ]
    },
    {
      "metadata": {
        "trusted": false
      },
      "cell_type": "code",
      "source": "' '.isspace()",
      "execution_count": 149,
      "outputs": [
        {
          "data": {
            "text/plain": "True"
          },
          "execution_count": 149,
          "metadata": {},
          "output_type": "execute_result"
        }
      ]
    },
    {
      "metadata": {
        "trusted": false
      },
      "cell_type": "code",
      "source": "nome",
      "execution_count": 150,
      "outputs": [
        {
          "data": {
            "text/plain": "'ALAN TURING'"
          },
          "execution_count": 150,
          "metadata": {},
          "output_type": "execute_result"
        }
      ]
    },
    {
      "metadata": {
        "trusted": false
      },
      "cell_type": "code",
      "source": "nome.isspace()",
      "execution_count": 151,
      "outputs": [
        {
          "data": {
            "text/plain": "False"
          },
          "execution_count": 151,
          "metadata": {},
          "output_type": "execute_result"
        }
      ]
    },
    {
      "metadata": {
        "trusted": false
      },
      "cell_type": "code",
      "source": "nome.istitle()",
      "execution_count": 152,
      "outputs": [
        {
          "data": {
            "text/plain": "False"
          },
          "execution_count": 152,
          "metadata": {},
          "output_type": "execute_result"
        }
      ]
    },
    {
      "metadata": {
        "trusted": false
      },
      "cell_type": "code",
      "source": "nome.capitalize()",
      "execution_count": 155,
      "outputs": [
        {
          "data": {
            "text/plain": "'Alan turing'"
          },
          "execution_count": 155,
          "metadata": {},
          "output_type": "execute_result"
        }
      ]
    },
    {
      "metadata": {
        "trusted": false
      },
      "cell_type": "code",
      "source": "nome.title().istitle()",
      "execution_count": 157,
      "outputs": [
        {
          "data": {
            "text/plain": "True"
          },
          "execution_count": 157,
          "metadata": {},
          "output_type": "execute_result"
        }
      ]
    },
    {
      "metadata": {
        "trusted": false
      },
      "cell_type": "code",
      "source": "nome.isupper()",
      "execution_count": 158,
      "outputs": [
        {
          "data": {
            "text/plain": "True"
          },
          "execution_count": 158,
          "metadata": {},
          "output_type": "execute_result"
        }
      ]
    },
    {
      "metadata": {},
      "cell_type": "markdown",
      "source": "### Metodos de formatacao\n\n- Como vc pode verificar letras, ou sequencias de letras dentro de uma string?\n\nOs metodos ```center()```, ```expandtabs()```, ```ljust()```, ```rjust()```, ```zfill()```, ```join()``` e ```partition()``` e ```rpartition()``` e ```rsplit()``` e ```split()``` e ```splitlines()```\n\n\n\nremovem espaços em branco nas bordas das strings, eh muito usado em tratamento de dados."
    },
    {
      "metadata": {
        "trusted": false
      },
      "cell_type": "code",
      "source": "nome.center(21,'!')",
      "execution_count": 159,
      "outputs": [
        {
          "data": {
            "text/plain": "'!!!!!ALAN TURING!!!!!'"
          },
          "execution_count": 159,
          "metadata": {},
          "output_type": "execute_result"
        }
      ]
    },
    {
      "metadata": {
        "trusted": false
      },
      "cell_type": "code",
      "source": "'1\\t2\\t3'.expandtabs()",
      "execution_count": 175,
      "outputs": [
        {
          "data": {
            "text/plain": "'1       2       3'"
          },
          "execution_count": 175,
          "metadata": {},
          "output_type": "execute_result"
        }
      ]
    },
    {
      "metadata": {
        "trusted": false
      },
      "cell_type": "code",
      "source": "'1\\t2\\t3'.expandtabs(2)",
      "execution_count": 176,
      "outputs": [
        {
          "data": {
            "text/plain": "'1 2 3'"
          },
          "execution_count": 176,
          "metadata": {},
          "output_type": "execute_result"
        }
      ]
    },
    {
      "metadata": {
        "trusted": false
      },
      "cell_type": "code",
      "source": "'1\\t2\\t3'.expandtabs(8)",
      "execution_count": 177,
      "outputs": [
        {
          "data": {
            "text/plain": "'1       2       3'"
          },
          "execution_count": 177,
          "metadata": {},
          "output_type": "execute_result"
        }
      ]
    },
    {
      "metadata": {
        "trusted": false
      },
      "cell_type": "code",
      "source": "nome.rjust(20)",
      "execution_count": 180,
      "outputs": [
        {
          "data": {
            "text/plain": "'         ALAN TURING'"
          },
          "execution_count": 180,
          "metadata": {},
          "output_type": "execute_result"
        }
      ]
    },
    {
      "metadata": {
        "trusted": false
      },
      "cell_type": "code",
      "source": "nome.ljust(20)",
      "execution_count": 181,
      "outputs": [
        {
          "data": {
            "text/plain": "'ALAN TURING         '"
          },
          "execution_count": 181,
          "metadata": {},
          "output_type": "execute_result"
        }
      ]
    },
    {
      "metadata": {
        "trusted": false
      },
      "cell_type": "code",
      "source": "nome.ljust(20, '-')",
      "execution_count": 182,
      "outputs": [
        {
          "data": {
            "text/plain": "'ALAN TURING---------'"
          },
          "execution_count": 182,
          "metadata": {},
          "output_type": "execute_result"
        }
      ]
    },
    {
      "metadata": {
        "trusted": false
      },
      "cell_type": "code",
      "source": "nome.zfill(20) # para ser usado no em CEP, CPF, etc",
      "execution_count": 183,
      "outputs": [
        {
          "data": {
            "text/plain": "'000000000ALAN TURING'"
          },
          "execution_count": 183,
          "metadata": {},
          "output_type": "execute_result"
        }
      ]
    },
    {
      "metadata": {
        "trusted": false
      },
      "cell_type": "code",
      "source": "' '.join((primeiro_nome, ultimo_nome))",
      "execution_count": 186,
      "outputs": [
        {
          "data": {
            "text/plain": "'Alan Turing'"
          },
          "execution_count": 186,
          "metadata": {},
          "output_type": "execute_result"
        }
      ]
    },
    {
      "metadata": {
        "trusted": false
      },
      "cell_type": "code",
      "source": "'-'.join((primeiro_nome, ultimo_nome))",
      "execution_count": 187,
      "outputs": [
        {
          "data": {
            "text/plain": "'Alan-Turing'"
          },
          "execution_count": 187,
          "metadata": {},
          "output_type": "execute_result"
        }
      ]
    },
    {
      "metadata": {
        "trusted": false
      },
      "cell_type": "code",
      "source": "lista = ['p','y','t','h', 'o', 'n'] \n''.join(lista)",
      "execution_count": 188,
      "outputs": [
        {
          "data": {
            "text/plain": "'python'"
          },
          "execution_count": 188,
          "metadata": {},
          "output_type": "execute_result"
        }
      ]
    },
    {
      "metadata": {
        "trusted": false
      },
      "cell_type": "code",
      "source": "'_'.join(lista) # iteracao",
      "execution_count": 189,
      "outputs": [
        {
          "data": {
            "text/plain": "'p_y_t_h_o_n'"
          },
          "execution_count": 189,
          "metadata": {},
          "output_type": "execute_result"
        }
      ]
    },
    {
      "metadata": {
        "trusted": false
      },
      "cell_type": "code",
      "source": "'->'.join(lista) # iteracao",
      "execution_count": 192,
      "outputs": [
        {
          "data": {
            "text/plain": "'p->y->t->h->o->n'"
          },
          "execution_count": 192,
          "metadata": {},
          "output_type": "execute_result"
        }
      ]
    },
    {
      "metadata": {
        "trusted": false
      },
      "cell_type": "code",
      "source": "",
      "execution_count": null,
      "outputs": []
    },
    {
      "metadata": {},
      "cell_type": "markdown",
      "source": "### Metodos de limpeza de bordas de strings\n\n- Como vc pode retirar os espacos em branco de uma string?\n\nOs metodos ```lstrip()```, ```rstrip``` e ```strip()``` removem espaços em branco nas bordas das strings, eh muito usado em tratamento de dados."
    },
    {
      "metadata": {
        "ExecuteTime": {
          "end_time": "2019-08-21T18:35:31.179676Z",
          "start_time": "2019-08-21T18:35:31.15811Z"
        },
        "trusted": false
      },
      "cell_type": "code",
      "source": "cidade = '   Rio de Janeiro  '",
      "execution_count": 11,
      "outputs": []
    },
    {
      "metadata": {},
      "cell_type": "markdown",
      "source": "Podemos perceber na variavel ```cidade``` que existem espacos em branco do lado direiro e esquerdo do nome 'Rio de Janeiro'. Vamos observar como podemos tratar essa variavel usando os metodos ```lstrip()```, ```rstrip``` e ```strip()```."
    },
    {
      "metadata": {
        "ExecuteTime": {
          "end_time": "2019-08-21T18:35:32.559179Z",
          "start_time": "2019-08-21T18:35:32.528255Z"
        },
        "trusted": false
      },
      "cell_type": "code",
      "source": "cidade.lstrip()",
      "execution_count": 12,
      "outputs": [
        {
          "data": {
            "text/plain": "'Rio de Janeiro  '"
          },
          "execution_count": 12,
          "metadata": {},
          "output_type": "execute_result"
        }
      ]
    },
    {
      "metadata": {},
      "cell_type": "markdown",
      "source": "No metodo acima retiramos os espacos em branco do lado esquerdo (esquero eh left em ingles, por isso **l**string)"
    },
    {
      "metadata": {
        "ExecuteTime": {
          "end_time": "2019-08-21T18:35:33.649509Z",
          "start_time": "2019-08-21T18:35:33.630924Z"
        },
        "trusted": false
      },
      "cell_type": "code",
      "source": "cidade.rstrip()",
      "execution_count": 13,
      "outputs": [
        {
          "data": {
            "text/plain": "'   Rio de Janeiro'"
          },
          "execution_count": 13,
          "metadata": {},
          "output_type": "execute_result"
        }
      ]
    },
    {
      "metadata": {},
      "cell_type": "markdown",
      "source": "No metodo acima retiramos os espacos em branco do lado direito (direito eh right em ingles, por isso **r**string)"
    },
    {
      "metadata": {
        "ExecuteTime": {
          "end_time": "2019-08-21T18:35:34.197373Z",
          "start_time": "2019-08-21T18:35:34.177026Z"
        },
        "trusted": false
      },
      "cell_type": "code",
      "source": "# retirando os espacos dos dois lados de uma so vez\ncidade.strip()",
      "execution_count": 14,
      "outputs": [
        {
          "data": {
            "text/plain": "'Rio de Janeiro'"
          },
          "execution_count": 14,
          "metadata": {},
          "output_type": "execute_result"
        }
      ]
    },
    {
      "metadata": {},
      "cell_type": "markdown",
      "source": "**Pronto! Agora você ja sabe o basico para tratar strings**"
    },
    {
      "metadata": {
        "ExecuteTime": {
          "end_time": "2019-08-21T18:35:44.175199Z",
          "start_time": "2019-08-21T18:35:44.152065Z"
        },
        "trusted": false
      },
      "cell_type": "code",
      "source": "cidade",
      "execution_count": 15,
      "outputs": [
        {
          "data": {
            "text/plain": "'   Rio de Janeiro  '"
          },
          "execution_count": 15,
          "metadata": {},
          "output_type": "execute_result"
        }
      ]
    },
    {
      "metadata": {
        "ExecuteTime": {
          "end_time": "2019-08-21T18:36:13.827483Z",
          "start_time": "2019-08-21T18:36:13.808169Z"
        },
        "trusted": false
      },
      "cell_type": "code",
      "source": "'Rio' in cidade",
      "execution_count": 19,
      "outputs": [
        {
          "data": {
            "text/plain": "True"
          },
          "execution_count": 19,
          "metadata": {},
          "output_type": "execute_result"
        }
      ]
    },
    {
      "metadata": {
        "ExecuteTime": {
          "end_time": "2019-08-21T18:36:19.964023Z",
          "start_time": "2019-08-21T18:36:19.94393Z"
        },
        "trusted": false
      },
      "cell_type": "code",
      "source": "'RIO' in cidade",
      "execution_count": 20,
      "outputs": [
        {
          "data": {
            "text/plain": "False"
          },
          "execution_count": 20,
          "metadata": {},
          "output_type": "execute_result"
        }
      ]
    },
    {
      "metadata": {
        "ExecuteTime": {
          "end_time": "2019-08-21T18:37:59.405322Z",
          "start_time": "2019-08-21T18:37:59.373983Z"
        },
        "trusted": false
      },
      "cell_type": "code",
      "source": "chr(15)",
      "execution_count": 30,
      "outputs": [
        {
          "data": {
            "text/plain": "'\\x0f'"
          },
          "execution_count": 30,
          "metadata": {},
          "output_type": "execute_result"
        }
      ]
    },
    {
      "metadata": {
        "ExecuteTime": {
          "end_time": "2019-08-21T18:38:09.831864Z",
          "start_time": "2019-08-21T18:38:09.817206Z"
        },
        "trusted": false
      },
      "cell_type": "code",
      "source": "ord('\\x0f')",
      "execution_count": 31,
      "outputs": [
        {
          "data": {
            "text/plain": "15"
          },
          "execution_count": 31,
          "metadata": {},
          "output_type": "execute_result"
        }
      ]
    },
    {
      "metadata": {
        "ExecuteTime": {
          "end_time": "2019-08-21T18:39:58.767006Z",
          "start_time": "2019-08-21T18:39:58.75059Z"
        },
        "trusted": false
      },
      "cell_type": "code",
      "source": "ord('a')",
      "execution_count": 34,
      "outputs": [
        {
          "data": {
            "text/plain": "97"
          },
          "execution_count": 34,
          "metadata": {},
          "output_type": "execute_result"
        }
      ]
    },
    {
      "metadata": {
        "ExecuteTime": {
          "end_time": "2019-08-21T18:38:32.351727Z",
          "start_time": "2019-08-21T18:38:32.332258Z"
        },
        "trusted": false
      },
      "cell_type": "code",
      "source": "len(cidade)",
      "execution_count": 32,
      "outputs": [
        {
          "data": {
            "text/plain": "19"
          },
          "execution_count": 32,
          "metadata": {},
          "output_type": "execute_result"
        }
      ]
    },
    {
      "metadata": {},
      "cell_type": "markdown",
      "source": "## Acessar Letra da String via index\n\n![Screen%20Shot%202019-08-21%20at%203.44.28%20PM.png](attachment:Screen%20Shot%202019-08-21%20at%203.44.28%20PM.png)",
      "attachments": {
        "Screen%20Shot%202019-08-21%20at%203.44.28%20PM.png": {
          "image/png": "[encoded data removed]"
        }
      }
    },
    {
      "metadata": {
        "ExecuteTime": {
          "end_time": "2019-08-21T18:41:01.302276Z",
          "start_time": "2019-08-21T18:41:01.279238Z"
        },
        "trusted": false
      },
      "cell_type": "code",
      "source": "cidade[3]",
      "execution_count": 38,
      "outputs": [
        {
          "data": {
            "text/plain": "'R'"
          },
          "execution_count": 38,
          "metadata": {},
          "output_type": "execute_result"
        }
      ]
    },
    {
      "metadata": {},
      "cell_type": "markdown",
      "source": "![Screen%20Shot%202019-08-21%20at%203.45.43%20PM.png](attachment:Screen%20Shot%202019-08-21%20at%203.45.43%20PM.png)",
      "attachments": {
        "Screen%20Shot%202019-08-21%20at%203.45.43%20PM.png": {
          "image/png": "[encoded data removed]"
        }
      }
    },
    {
      "metadata": {
        "ExecuteTime": {
          "end_time": "2019-08-21T18:47:07.413258Z",
          "start_time": "2019-08-21T18:47:07.373134Z"
        },
        "trusted": false
      },
      "cell_type": "code",
      "source": "cidade[3:6]",
      "execution_count": 39,
      "outputs": [
        {
          "data": {
            "text/plain": "'Rio'"
          },
          "execution_count": 39,
          "metadata": {},
          "output_type": "execute_result"
        }
      ]
    },
    {
      "metadata": {},
      "cell_type": "markdown",
      "source": "![Screen%20Shot%202019-08-21%20at%203.46.48%20PM.png](attachment:Screen%20Shot%202019-08-21%20at%203.46.48%20PM.png)",
      "attachments": {
        "Screen%20Shot%202019-08-21%20at%203.46.48%20PM.png": {
          "image/png": "[encoded data removed]"
        }
      }
    },
    {
      "metadata": {
        "ExecuteTime": {
          "end_time": "2019-08-21T18:47:33.040761Z",
          "start_time": "2019-08-21T18:47:33.021818Z"
        },
        "trusted": false
      },
      "cell_type": "code",
      "source": "cidade[3:6:2]",
      "execution_count": 40,
      "outputs": [
        {
          "data": {
            "text/plain": "'Ro'"
          },
          "execution_count": 40,
          "metadata": {},
          "output_type": "execute_result"
        }
      ]
    },
    {
      "metadata": {
        "trusted": false
      },
      "cell_type": "code",
      "source": "",
      "execution_count": null,
      "outputs": []
    },
    {
      "metadata": {},
      "cell_type": "markdown",
      "source": "### Usando variaveis dentro de strings\n\n- Como inserir valores de variaveis dentro de print de strings? \n\nNo Python 3.6 podemos usar as variaveis diretamente dentro das strings:"
    },
    {
      "metadata": {
        "ExecuteTime": {
          "end_time": "2019-08-01T01:10:38.78869Z",
          "start_time": "2019-08-01T01:10:38.785366Z"
        },
        "trusted": false
      },
      "cell_type": "code",
      "source": "nome_de_usuario = 'alunoagit01'",
      "execution_count": 24,
      "outputs": []
    },
    {
      "metadata": {
        "ExecuteTime": {
          "end_time": "2019-08-01T01:10:38.962669Z",
          "start_time": "2019-08-01T01:10:38.957715Z"
        },
        "trusted": false
      },
      "cell_type": "code",
      "source": "print(f'Seja bem vindo ao curso de Python da Agit, {nome_de_usuario}')",
      "execution_count": 25,
      "outputs": [
        {
          "name": "stdout",
          "output_type": "stream",
          "text": "Seja bem vindo ao curso de Python da Agit, alunoagit01\n"
        }
      ]
    },
    {
      "metadata": {},
      "cell_type": "markdown",
      "source": "O ```f``` usado do lado de fora da string acima permite que coloquemos uma variavel dentro da string dentro de chaves ```{}```"
    },
    {
      "metadata": {},
      "cell_type": "markdown",
      "source": "Em versões mais antigas de Python como a 3.5 podemos usar o metodo ```.format()```"
    },
    {
      "metadata": {
        "ExecuteTime": {
          "end_time": "2019-08-01T01:10:39.563199Z",
          "start_time": "2019-08-01T01:10:39.558414Z"
        },
        "trusted": false
      },
      "cell_type": "code",
      "source": "print('Seja bem vindo ao curso de Python da Agit, {}'.format(nome_de_usuario))",
      "execution_count": 26,
      "outputs": [
        {
          "name": "stdout",
          "output_type": "stream",
          "text": "Seja bem vindo ao curso de Python da Agit, alunoagit01\n"
        }
      ]
    },
    {
      "metadata": {},
      "cell_type": "markdown",
      "source": "Na linha acima as {} (chaves) representam a variavél que irá ser passada, essa variavel fica dentro do metodo ```.format()```"
    },
    {
      "metadata": {
        "ExecuteTime": {
          "end_time": "2019-08-01T01:10:39.994988Z",
          "start_time": "2019-08-01T01:10:39.989896Z"
        },
        "trusted": false
      },
      "cell_type": "code",
      "source": "print('O nome do aluno é: {} \\nO sobrenome do aluno é: {}'.format(primeiro_nome, ultimo_nome))",
      "execution_count": 27,
      "outputs": [
        {
          "name": "stdout",
          "output_type": "stream",
          "text": "O nome do aluno é: Alan \nO sobrenome do aluno é: Turing\n"
        }
      ]
    },
    {
      "metadata": {},
      "cell_type": "markdown",
      "source": "No codigo acima colocamos 2 variaveis dentro da string. Voce pode colocar quantas variaveis voce quiser dentro da string. Lembre-se apenas de respeitar a ordem das variaveis dentro do metodo ```.format()```"
    },
    {
      "metadata": {},
      "cell_type": "markdown",
      "source": "## Alinhamento nos prints\n\n![Screen%20Shot%202019-08-21%20at%204.19.19%20PM.png](attachment:Screen%20Shot%202019-08-21%20at%204.19.19%20PM.png)",
      "attachments": {
        "Screen%20Shot%202019-08-21%20at%204.19.19%20PM.png": {
          "image/png": "[encoded data removed]"
        }
      }
    },
    {
      "metadata": {
        "trusted": false
      },
      "cell_type": "code",
      "source": "",
      "execution_count": null,
      "outputs": []
    },
    {
      "metadata": {},
      "cell_type": "markdown",
      "source": "![Screen%20Shot%202019-08-21%20at%204.19.47%20PM.png](attachment:Screen%20Shot%202019-08-21%20at%204.19.47%20PM.png)",
      "attachments": {
        "Screen%20Shot%202019-08-21%20at%204.19.47%20PM.png": {
          "image/png": "[encoded data removed]"
        }
      }
    },
    {
      "metadata": {
        "trusted": false
      },
      "cell_type": "code",
      "source": "",
      "execution_count": null,
      "outputs": []
    },
    {
      "metadata": {},
      "cell_type": "markdown",
      "source": "![Screen%20Shot%202019-08-21%20at%204.20.40%20PM.png](attachment:Screen%20Shot%202019-08-21%20at%204.20.40%20PM.png)",
      "attachments": {
        "Screen%20Shot%202019-08-21%20at%204.20.40%20PM.png": {
          "image/png": "[encoded data removed]"
        }
      }
    },
    {
      "metadata": {
        "trusted": false
      },
      "cell_type": "code",
      "source": "",
      "execution_count": null,
      "outputs": []
    },
    {
      "metadata": {},
      "cell_type": "markdown",
      "source": "![Screen%20Shot%202019-08-21%20at%204.21.41%20PM.png](attachment:Screen%20Shot%202019-08-21%20at%204.21.41%20PM.png)",
      "attachments": {
        "Screen%20Shot%202019-08-21%20at%204.21.41%20PM.png": {
          "image/png": "[encoded data removed]"
        }
      }
    },
    {
      "metadata": {
        "trusted": false
      },
      "cell_type": "code",
      "source": "",
      "execution_count": null,
      "outputs": []
    },
    {
      "metadata": {},
      "cell_type": "markdown",
      "source": "![Screen%20Shot%202019-08-21%20at%204.22.21%20PM.png](attachment:Screen%20Shot%202019-08-21%20at%204.22.21%20PM.png)",
      "attachments": {
        "Screen%20Shot%202019-08-21%20at%204.22.21%20PM.png": {
          "image/png": "[encoded data removed]"
        }
      }
    },
    {
      "metadata": {
        "trusted": false
      },
      "cell_type": "code",
      "source": "",
      "execution_count": null,
      "outputs": []
    },
    {
      "metadata": {},
      "cell_type": "markdown",
      "source": "![Screen%20Shot%202019-08-21%20at%204.24.02%20PM.png](attachment:Screen%20Shot%202019-08-21%20at%204.24.02%20PM.png)",
      "attachments": {
        "Screen%20Shot%202019-08-21%20at%204.24.02%20PM.png": {
          "image/png": "[encoded data removed]"
        }
      }
    },
    {
      "metadata": {
        "trusted": false
      },
      "cell_type": "code",
      "source": "",
      "execution_count": null,
      "outputs": []
    },
    {
      "metadata": {},
      "cell_type": "markdown",
      "source": "![Screen%20Shot%202019-08-21%20at%204.24.25%20PM.png](attachment:Screen%20Shot%202019-08-21%20at%204.24.25%20PM.png)",
      "attachments": {
        "Screen%20Shot%202019-08-21%20at%204.24.25%20PM.png": {
          "image/png": "[encoded data removed]"
        }
      }
    },
    {
      "metadata": {
        "trusted": false
      },
      "cell_type": "code",
      "source": "",
      "execution_count": null,
      "outputs": []
    },
    {
      "metadata": {},
      "cell_type": "markdown",
      "source": "![Screen%20Shot%202019-08-21%20at%204.25.42%20PM.png](attachment:Screen%20Shot%202019-08-21%20at%204.25.42%20PM.png)",
      "attachments": {
        "Screen%20Shot%202019-08-21%20at%204.25.42%20PM.png": {
          "image/png": "[encoded data removed]"
        }
      }
    },
    {
      "metadata": {
        "trusted": false
      },
      "cell_type": "code",
      "source": "",
      "execution_count": null,
      "outputs": []
    },
    {
      "metadata": {},
      "cell_type": "markdown",
      "source": "![Screen%20Shot%202019-08-21%20at%204.26.25%20PM.png](attachment:Screen%20Shot%202019-08-21%20at%204.26.25%20PM.png)",
      "attachments": {
        "Screen%20Shot%202019-08-21%20at%204.26.25%20PM.png": {
          "image/png": "[encoded data removed]"
        }
      }
    },
    {
      "metadata": {
        "trusted": false
      },
      "cell_type": "code",
      "source": "",
      "execution_count": null,
      "outputs": []
    },
    {
      "metadata": {},
      "cell_type": "markdown",
      "source": "![Screen%20Shot%202019-08-21%20at%204.27.19%20PM.png](attachment:Screen%20Shot%202019-08-21%20at%204.27.19%20PM.png)",
      "attachments": {
        "Screen%20Shot%202019-08-21%20at%204.27.19%20PM.png": {
          "image/png": "[encoded data removed]"
        }
      }
    },
    {
      "metadata": {
        "trusted": false
      },
      "cell_type": "code",
      "source": "",
      "execution_count": null,
      "outputs": []
    },
    {
      "metadata": {},
      "cell_type": "markdown",
      "source": "![Screen%20Shot%202019-08-21%20at%204.27.54%20PM.png](attachment:Screen%20Shot%202019-08-21%20at%204.27.54%20PM.png)",
      "attachments": {
        "Screen%20Shot%202019-08-21%20at%204.27.54%20PM.png": {
          "image/png": "[encoded data removed]"
        }
      }
    },
    {
      "metadata": {
        "trusted": false
      },
      "cell_type": "code",
      "source": "",
      "execution_count": null,
      "outputs": []
    },
    {
      "metadata": {},
      "cell_type": "markdown",
      "source": "![Screen%20Shot%202019-08-21%20at%204.32.27%20PM.png](attachment:Screen%20Shot%202019-08-21%20at%204.32.27%20PM.png)",
      "attachments": {
        "Screen%20Shot%202019-08-21%20at%204.32.27%20PM.png": {
          "image/png": "[encoded data removed]"
        }
      }
    },
    {
      "metadata": {
        "trusted": false
      },
      "cell_type": "code",
      "source": "",
      "execution_count": null,
      "outputs": []
    },
    {
      "metadata": {},
      "cell_type": "markdown",
      "source": "# Comentarios\n\n- O que sao comentarios?\n\nUm comentario eh uma linha de texto que eh ignorada pelo interpretador do Python. Comentarios permitem que vc deixe recados para voce no futuro ou para outras pessoas que vao ler seu codigo. \n\n- Como podemos incluir comentarios em nosso codigo?\n"
    },
    {
      "metadata": {
        "ExecuteTime": {
          "end_time": "2019-08-01T01:10:40.613456Z",
          "start_time": "2019-08-01T01:10:40.609439Z"
        },
        "trusted": false
      },
      "cell_type": "code",
      "source": "# para inserir comentarios, basta iniciar uma linha de codigo com o simbolo hastag (#)\n\nnome = 'aluno'\n# de boas vindas ao aluno\nprint(f'Bem vindo {nome}')",
      "execution_count": 28,
      "outputs": [
        {
          "name": "stdout",
          "output_type": "stream",
          "text": "Bem vindo aluno\n"
        }
      ]
    },
    {
      "metadata": {
        "ExecuteTime": {
          "end_time": "2019-08-02T00:33:14.834149Z",
          "start_time": "2019-08-02T00:33:14.810172Z"
        },
        "trusted": false
      },
      "cell_type": "code",
      "source": "'''\n\naqui é um comentario\n\nde varias linhas\n\nvamos atribuir o valor 0 a variavel a\n\n'''\na = 0",
      "execution_count": 18,
      "outputs": []
    },
    {
      "metadata": {},
      "cell_type": "markdown",
      "source": "Comentarios sao uteis quando escrevemos codigos complexos. Eles nos mostram o objetivo por tras da logica.\n\nComentarios limpos, concisos sao um sinal de um programador profissional. Quando vc considera diferentes formas de resolver um problema especifico, inclua comentarios explicando o approach que voce tomou."
    },
    {
      "metadata": {},
      "cell_type": "markdown",
      "source": "# Dados numericos"
    },
    {
      "metadata": {},
      "cell_type": "markdown",
      "source": "- Quais sao os principais tipos de dados numericos?\n\nO inteiro, tambem conhecido como ```int``` eh um numero que nao tem ponto decimal. \n\nUm ponto flutuante eh um numero que tem ponto decimal.\n\nA funcao ```type()``` identifica o tipo de dado do seu argumento.\n\n- Como descobrir o tipo de dado que vc esta trabalhando?\n"
    },
    {
      "metadata": {
        "ExecuteTime": {
          "end_time": "2019-08-01T01:10:41.444201Z",
          "start_time": "2019-08-01T01:10:41.433773Z"
        },
        "trusted": false
      },
      "cell_type": "code",
      "source": "type(3)",
      "execution_count": 29,
      "outputs": [
        {
          "data": {
            "text/plain": "int"
          },
          "execution_count": 29,
          "metadata": {},
          "output_type": "execute_result"
        }
      ]
    },
    {
      "metadata": {
        "ExecuteTime": {
          "end_time": "2019-08-01T01:10:41.644519Z",
          "start_time": "2019-08-01T01:10:41.634324Z"
        },
        "trusted": false
      },
      "cell_type": "code",
      "source": "type(3.0)",
      "execution_count": 30,
      "outputs": [
        {
          "data": {
            "text/plain": "float"
          },
          "execution_count": 30,
          "metadata": {},
          "output_type": "execute_result"
        }
      ]
    },
    {
      "metadata": {},
      "cell_type": "markdown",
      "source": "A funcao ```float()``` converte o tipo de dado e um *float*"
    },
    {
      "metadata": {
        "ExecuteTime": {
          "end_time": "2019-08-01T01:10:42.054037Z",
          "start_time": "2019-08-01T01:10:42.048408Z"
        },
        "trusted": false
      },
      "cell_type": "code",
      "source": "float(3)",
      "execution_count": 31,
      "outputs": [
        {
          "data": {
            "text/plain": "3.0"
          },
          "execution_count": 31,
          "metadata": {},
          "output_type": "execute_result"
        }
      ]
    },
    {
      "metadata": {},
      "cell_type": "markdown",
      "source": "- Como podemos converter dados numericos?"
    },
    {
      "metadata": {
        "ExecuteTime": {
          "end_time": "2019-08-01T01:10:42.480653Z",
          "start_time": "2019-08-01T01:10:42.461677Z"
        },
        "trusted": false
      },
      "cell_type": "code",
      "source": "float('3.5')",
      "execution_count": 32,
      "outputs": [
        {
          "data": {
            "text/plain": "3.5"
          },
          "execution_count": 32,
          "metadata": {},
          "output_type": "execute_result"
        }
      ]
    },
    {
      "metadata": {},
      "cell_type": "markdown",
      "source": "A funcao ```int()``` converte o tipo de dado e um *int*"
    },
    {
      "metadata": {
        "ExecuteTime": {
          "end_time": "2019-08-01T01:10:42.901985Z",
          "start_time": "2019-08-01T01:10:42.897169Z"
        },
        "trusted": false
      },
      "cell_type": "code",
      "source": "int('3')",
      "execution_count": 33,
      "outputs": [
        {
          "data": {
            "text/plain": "3"
          },
          "execution_count": 33,
          "metadata": {},
          "output_type": "execute_result"
        }
      ]
    },
    {
      "metadata": {
        "ExecuteTime": {
          "end_time": "2019-08-01T01:10:43.167976Z",
          "start_time": "2019-08-01T01:10:43.161189Z"
        },
        "trusted": false
      },
      "cell_type": "code",
      "source": "int(3.5)",
      "execution_count": 34,
      "outputs": [
        {
          "data": {
            "text/plain": "3"
          },
          "execution_count": 34,
          "metadata": {},
          "output_type": "execute_result"
        }
      ]
    },
    {
      "metadata": {
        "ExecuteTime": {
          "end_time": "2019-08-01T01:10:43.38288Z",
          "start_time": "2019-08-01T01:10:43.372881Z"
        },
        "trusted": false
      },
      "cell_type": "code",
      "source": "int(float('3.5'))",
      "execution_count": 35,
      "outputs": [
        {
          "data": {
            "text/plain": "3"
          },
          "execution_count": 35,
          "metadata": {},
          "output_type": "execute_result"
        }
      ]
    },
    {
      "metadata": {},
      "cell_type": "markdown",
      "source": "# Operacoes Numericas\n\n- Como voce representa uma operacao matematica basica?\n"
    },
    {
      "metadata": {
        "ExecuteTime": {
          "end_time": "2019-08-01T01:10:43.807936Z",
          "start_time": "2019-08-01T01:10:43.800204Z"
        },
        "trusted": false
      },
      "cell_type": "code",
      "source": "2 + 3",
      "execution_count": 36,
      "outputs": [
        {
          "data": {
            "text/plain": "5"
          },
          "execution_count": 36,
          "metadata": {},
          "output_type": "execute_result"
        }
      ]
    },
    {
      "metadata": {
        "ExecuteTime": {
          "end_time": "2019-08-01T01:10:44.010347Z",
          "start_time": "2019-08-01T01:10:43.997359Z"
        },
        "trusted": false
      },
      "cell_type": "code",
      "source": "3 - 2",
      "execution_count": 37,
      "outputs": [
        {
          "data": {
            "text/plain": "1"
          },
          "execution_count": 37,
          "metadata": {},
          "output_type": "execute_result"
        }
      ]
    },
    {
      "metadata": {
        "ExecuteTime": {
          "end_time": "2019-08-01T01:10:44.222164Z",
          "start_time": "2019-08-01T01:10:44.216458Z"
        },
        "trusted": false
      },
      "cell_type": "code",
      "source": "2 * 3",
      "execution_count": 38,
      "outputs": [
        {
          "data": {
            "text/plain": "6"
          },
          "execution_count": 38,
          "metadata": {},
          "output_type": "execute_result"
        }
      ]
    },
    {
      "metadata": {},
      "cell_type": "markdown",
      "source": "Como podemos ver, adicionar, subtrair e multiplicar inteiros geram inteiros.\n\n- Como a operação que voce realiza interfere no output?\n"
    },
    {
      "metadata": {
        "ExecuteTime": {
          "end_time": "2019-08-01T01:10:44.663013Z",
          "start_time": "2019-08-01T01:10:44.658077Z"
        },
        "trusted": false
      },
      "cell_type": "code",
      "source": "2.0 + 3",
      "execution_count": 39,
      "outputs": [
        {
          "data": {
            "text/plain": "5.0"
          },
          "execution_count": 39,
          "metadata": {},
          "output_type": "execute_result"
        }
      ]
    },
    {
      "metadata": {
        "ExecuteTime": {
          "end_time": "2019-08-01T01:10:44.858754Z",
          "start_time": "2019-08-01T01:10:44.850132Z"
        },
        "trusted": false
      },
      "cell_type": "code",
      "source": "3 - 2.0",
      "execution_count": 40,
      "outputs": [
        {
          "data": {
            "text/plain": "1.0"
          },
          "execution_count": 40,
          "metadata": {},
          "output_type": "execute_result"
        }
      ]
    },
    {
      "metadata": {
        "ExecuteTime": {
          "end_time": "2019-08-01T01:10:45.054139Z",
          "start_time": "2019-08-01T01:10:45.047398Z"
        },
        "trusted": false
      },
      "cell_type": "code",
      "source": "2.0 * 3",
      "execution_count": 41,
      "outputs": [
        {
          "data": {
            "text/plain": "6.0"
          },
          "execution_count": 41,
          "metadata": {},
          "output_type": "execute_result"
        }
      ]
    },
    {
      "metadata": {
        "ExecuteTime": {
          "end_time": "2019-08-01T01:10:45.287139Z",
          "start_time": "2019-08-01T01:10:45.279105Z"
        },
        "trusted": false
      },
      "cell_type": "code",
      "source": "10 / 5",
      "execution_count": 42,
      "outputs": [
        {
          "data": {
            "text/plain": "2.0"
          },
          "execution_count": 42,
          "metadata": {},
          "output_type": "execute_result"
        }
      ]
    },
    {
      "metadata": {},
      "cell_type": "markdown",
      "source": "Podemos perceber acima que fazer soma, subtracao e multiplicacao com apenas um *float* retorna um *float*.\n\n**Todas** as operações de divisão retornam uma float."
    },
    {
      "metadata": {
        "ExecuteTime": {
          "end_time": "2019-08-01T01:10:45.870606Z",
          "start_time": "2019-08-01T01:10:45.861636Z"
        },
        "trusted": false
      },
      "cell_type": "code",
      "source": "# realizando uma operacao de potencia\n2 ** 3",
      "execution_count": 43,
      "outputs": [
        {
          "data": {
            "text/plain": "8"
          },
          "execution_count": 43,
          "metadata": {},
          "output_type": "execute_result"
        }
      ]
    },
    {
      "metadata": {},
      "cell_type": "markdown",
      "source": "Como mostrado acima, 2 asteriscos ```**``` representa a operacao de potencia."
    },
    {
      "metadata": {
        "ExecuteTime": {
          "end_time": "2019-08-01T01:10:46.35063Z",
          "start_time": "2019-08-01T01:10:46.344381Z"
        },
        "trusted": false
      },
      "cell_type": "code",
      "source": "2**0",
      "execution_count": 44,
      "outputs": [
        {
          "data": {
            "text/plain": "1"
          },
          "execution_count": 44,
          "metadata": {},
          "output_type": "execute_result"
        }
      ]
    },
    {
      "metadata": {
        "ExecuteTime": {
          "end_time": "2019-08-01T01:10:46.607121Z",
          "start_time": "2019-08-01T01:10:46.601197Z"
        },
        "trusted": false
      },
      "cell_type": "code",
      "source": "2**1",
      "execution_count": 45,
      "outputs": [
        {
          "data": {
            "text/plain": "2"
          },
          "execution_count": 45,
          "metadata": {},
          "output_type": "execute_result"
        }
      ]
    },
    {
      "metadata": {
        "ExecuteTime": {
          "end_time": "2019-08-01T01:10:46.852292Z",
          "start_time": "2019-08-01T01:10:46.845596Z"
        },
        "trusted": false
      },
      "cell_type": "code",
      "source": "2**2",
      "execution_count": 46,
      "outputs": [
        {
          "data": {
            "text/plain": "4"
          },
          "execution_count": 46,
          "metadata": {},
          "output_type": "execute_result"
        }
      ]
    },
    {
      "metadata": {
        "ExecuteTime": {
          "end_time": "2019-08-01T01:10:47.133586Z",
          "start_time": "2019-08-01T01:10:47.12246Z"
        },
        "trusted": false
      },
      "cell_type": "code",
      "source": "2**3",
      "execution_count": 47,
      "outputs": [
        {
          "data": {
            "text/plain": "8"
          },
          "execution_count": 47,
          "metadata": {},
          "output_type": "execute_result"
        }
      ]
    },
    {
      "metadata": {},
      "cell_type": "markdown",
      "source": "- Como voce forca o Python a ordenar as operacoes?"
    },
    {
      "metadata": {
        "ExecuteTime": {
          "end_time": "2019-08-01T01:10:47.809571Z",
          "start_time": "2019-08-01T01:10:47.799951Z"
        },
        "trusted": false
      },
      "cell_type": "code",
      "source": "(2 + 3) * 4",
      "execution_count": 48,
      "outputs": [
        {
          "data": {
            "text/plain": "20"
          },
          "execution_count": 48,
          "metadata": {},
          "output_type": "execute_result"
        }
      ]
    },
    {
      "metadata": {},
      "cell_type": "markdown",
      "source": "Use os parenteses para forcar as ordens das operacoes"
    },
    {
      "metadata": {},
      "cell_type": "markdown",
      "source": "# Trabalhando com dados numericos\n\n- Como vc pode arredondar um numero?\n\nA funcao ```round()``` arredonda um numero *float)* para o numero de casas decimais determinada."
    },
    {
      "metadata": {
        "ExecuteTime": {
          "end_time": "2019-08-01T01:10:48.625062Z",
          "start_time": "2019-08-01T01:10:48.619877Z"
        },
        "trusted": false
      },
      "cell_type": "code",
      "source": "round(3.14159, 2)",
      "execution_count": 49,
      "outputs": [
        {
          "data": {
            "text/plain": "3.14"
          },
          "execution_count": 49,
          "metadata": {},
          "output_type": "execute_result"
        }
      ]
    },
    {
      "metadata": {},
      "cell_type": "markdown",
      "source": "Passando valores negativos em ```round()``` resulta em multiplos de 10."
    },
    {
      "metadata": {
        "ExecuteTime": {
          "end_time": "2019-08-01T01:10:49.316027Z",
          "start_time": "2019-08-01T01:10:49.310544Z"
        },
        "trusted": false
      },
      "cell_type": "code",
      "source": "round(2019, -2)",
      "execution_count": 50,
      "outputs": [
        {
          "data": {
            "text/plain": "2000"
          },
          "execution_count": 50,
          "metadata": {},
          "output_type": "execute_result"
        }
      ]
    },
    {
      "metadata": {},
      "cell_type": "markdown",
      "source": "- Como voce consegue ter o valor absoluto de um numero?\n\nPara se conseguir o valor absoluto de um numero basta passar um numero dentro da funcao ```abs()```"
    },
    {
      "metadata": {
        "ExecuteTime": {
          "end_time": "2019-08-01T01:10:49.839327Z",
          "start_time": "2019-08-01T01:10:49.834683Z"
        },
        "trusted": false
      },
      "cell_type": "code",
      "source": "numero_negativo = -3000",
      "execution_count": 51,
      "outputs": []
    },
    {
      "metadata": {
        "ExecuteTime": {
          "end_time": "2019-08-01T01:10:50.119014Z",
          "start_time": "2019-08-01T01:10:50.114278Z"
        },
        "trusted": false
      },
      "cell_type": "code",
      "source": "abs(numero_negativo)",
      "execution_count": 52,
      "outputs": [
        {
          "data": {
            "text/plain": "3000"
          },
          "execution_count": 52,
          "metadata": {},
          "output_type": "execute_result"
        }
      ]
    },
    {
      "metadata": {},
      "cell_type": "markdown",
      "source": "- Como voce converte um numero de base 10 para um numero binario, octal ou hexadecimal?\n\nAs funcoes ```bin()```, ```oct()``` e ```hex()``` funcoes convertem um numero de base 10 em numeros de base 2, 8 e 16 respectivamente."
    },
    {
      "metadata": {
        "ExecuteTime": {
          "end_time": "2019-08-01T01:10:50.751802Z",
          "start_time": "2019-08-01T01:10:50.748228Z"
        },
        "trusted": false
      },
      "cell_type": "code",
      "source": "numero = 10",
      "execution_count": 53,
      "outputs": []
    },
    {
      "metadata": {
        "ExecuteTime": {
          "end_time": "2019-08-01T01:10:51.017709Z",
          "start_time": "2019-08-01T01:10:51.010778Z"
        },
        "trusted": false
      },
      "cell_type": "code",
      "source": "bin(numero)",
      "execution_count": 54,
      "outputs": [
        {
          "data": {
            "text/plain": "'0b1010'"
          },
          "execution_count": 54,
          "metadata": {},
          "output_type": "execute_result"
        }
      ]
    },
    {
      "metadata": {
        "ExecuteTime": {
          "end_time": "2019-08-01T01:10:51.326712Z",
          "start_time": "2019-08-01T01:10:51.321491Z"
        },
        "trusted": false
      },
      "cell_type": "code",
      "source": "oct(numero)",
      "execution_count": 55,
      "outputs": [
        {
          "data": {
            "text/plain": "'0o12'"
          },
          "execution_count": 55,
          "metadata": {},
          "output_type": "execute_result"
        }
      ]
    },
    {
      "metadata": {
        "ExecuteTime": {
          "end_time": "2019-08-01T01:10:51.530958Z",
          "start_time": "2019-08-01T01:10:51.524029Z"
        },
        "trusted": false
      },
      "cell_type": "code",
      "source": "hex(numero)",
      "execution_count": 56,
      "outputs": [
        {
          "data": {
            "text/plain": "'0xa'"
          },
          "execution_count": 56,
          "metadata": {},
          "output_type": "execute_result"
        }
      ]
    },
    {
      "metadata": {},
      "cell_type": "markdown",
      "source": "Os primeiros 2 caracteres da saida indicam o novo tipo de base."
    },
    {
      "metadata": {},
      "cell_type": "markdown",
      "source": "- Como voce representa um numero complexo?\n\n\nA funcao ```complex()``` eh usada para representar numeros. "
    },
    {
      "metadata": {
        "ExecuteTime": {
          "end_time": "2019-08-01T01:10:52.16009Z",
          "start_time": "2019-08-01T01:10:52.147061Z"
        },
        "trusted": false
      },
      "cell_type": "code",
      "source": "complex(2, 3)",
      "execution_count": 57,
      "outputs": [
        {
          "data": {
            "text/plain": "(2+3j)"
          },
          "execution_count": 57,
          "metadata": {},
          "output_type": "execute_result"
        }
      ]
    },
    {
      "metadata": {},
      "cell_type": "markdown",
      "source": "# Usando a biblioteca Math\n\n- Como vc faz a raiz quadrada de um numero?\n\n\n- Como vc pode usar constantes matematicas como o pi?\n\n\n- Como vc usa funcoes trigonometricas e logaritmicas?\n\nPara responder essas questões vamos importar a biblioteca math"
    },
    {
      "metadata": {
        "ExecuteTime": {
          "end_time": "2019-08-01T01:10:53.101864Z",
          "start_time": "2019-08-01T01:10:53.097351Z"
        },
        "trusted": false
      },
      "cell_type": "code",
      "source": "import math",
      "execution_count": 58,
      "outputs": []
    },
    {
      "metadata": {
        "ExecuteTime": {
          "end_time": "2019-08-01T01:10:53.314246Z",
          "start_time": "2019-08-01T01:10:53.308711Z"
        },
        "trusted": false
      },
      "cell_type": "code",
      "source": "# aqui usamos a funcao sqrt() para tirar a raiz quadrada\nmath.sqrt(9)",
      "execution_count": 59,
      "outputs": [
        {
          "data": {
            "text/plain": "3.0"
          },
          "execution_count": 59,
          "metadata": {},
          "output_type": "execute_result"
        }
      ]
    },
    {
      "metadata": {
        "ExecuteTime": {
          "end_time": "2019-08-01T01:10:53.543159Z",
          "start_time": "2019-08-01T01:10:53.533125Z"
        },
        "trusted": false
      },
      "cell_type": "code",
      "source": "# aqui acessamos a constante pi\npi = math.pi\nprint(f'o numero pi é: {pi}')",
      "execution_count": 60,
      "outputs": [
        {
          "name": "stdout",
          "output_type": "stream",
          "text": "o numero pi é: 3.141592653589793\n"
        }
      ]
    },
    {
      "metadata": {
        "ExecuteTime": {
          "end_time": "2019-08-01T01:10:54.147887Z",
          "start_time": "2019-08-01T01:10:54.129189Z"
        },
        "trusted": false
      },
      "cell_type": "code",
      "source": "# usando a funcao seno\nmath.sin(pi/2)",
      "execution_count": 61,
      "outputs": [
        {
          "data": {
            "text/plain": "1.0"
          },
          "execution_count": 61,
          "metadata": {},
          "output_type": "execute_result"
        }
      ]
    },
    {
      "metadata": {
        "ExecuteTime": {
          "end_time": "2019-08-01T01:10:54.593304Z",
          "start_time": "2019-08-01T01:10:54.584116Z"
        },
        "trusted": false
      },
      "cell_type": "code",
      "source": "# usando a funcao log\nmath.log(100, 10)",
      "execution_count": 62,
      "outputs": [
        {
          "data": {
            "text/plain": "2.0"
          },
          "execution_count": 62,
          "metadata": {},
          "output_type": "execute_result"
        }
      ]
    },
    {
      "metadata": {},
      "cell_type": "markdown",
      "source": "# Parte 2\n\n## Atribuindo valores as variaveis"
    },
    {
      "metadata": {
        "ExecuteTime": {
          "end_time": "2019-08-02T00:22:25.898014Z",
          "start_time": "2019-08-02T00:22:25.867332Z"
        },
        "trusted": false
      },
      "cell_type": "code",
      "source": "idade = 41\naltura = 1.72\nnome = 'Alan'",
      "execution_count": 1,
      "outputs": []
    },
    {
      "metadata": {},
      "cell_type": "markdown",
      "source": "- Como criamos multiplas atribuicoes?\n\nIniciando multiplas variaveis com o mesmo valor."
    },
    {
      "metadata": {
        "ExecuteTime": {
          "end_time": "2019-08-02T00:23:01.50929Z",
          "start_time": "2019-08-02T00:23:01.494481Z"
        },
        "trusted": false
      },
      "cell_type": "code",
      "source": "a = b = c = 1",
      "execution_count": 2,
      "outputs": []
    },
    {
      "metadata": {
        "ExecuteTime": {
          "end_time": "2019-08-02T00:23:03.925089Z",
          "start_time": "2019-08-02T00:23:03.873807Z"
        },
        "trusted": false
      },
      "cell_type": "code",
      "source": "a",
      "execution_count": 3,
      "outputs": [
        {
          "data": {
            "text/plain": "1"
          },
          "execution_count": 3,
          "metadata": {},
          "output_type": "execute_result"
        }
      ]
    },
    {
      "metadata": {
        "ExecuteTime": {
          "end_time": "2019-08-02T00:23:05.409431Z",
          "start_time": "2019-08-02T00:23:05.392707Z"
        },
        "trusted": false
      },
      "cell_type": "code",
      "source": "b",
      "execution_count": 4,
      "outputs": [
        {
          "data": {
            "text/plain": "1"
          },
          "execution_count": 4,
          "metadata": {},
          "output_type": "execute_result"
        }
      ]
    },
    {
      "metadata": {
        "ExecuteTime": {
          "end_time": "2019-08-02T00:23:07.329621Z",
          "start_time": "2019-08-02T00:23:07.290839Z"
        },
        "trusted": false
      },
      "cell_type": "code",
      "source": "c",
      "execution_count": 5,
      "outputs": [
        {
          "data": {
            "text/plain": "1"
          },
          "execution_count": 5,
          "metadata": {},
          "output_type": "execute_result"
        }
      ]
    },
    {
      "metadata": {
        "ExecuteTime": {
          "end_time": "2019-08-02T00:23:11.123471Z",
          "start_time": "2019-08-02T00:23:11.111475Z"
        },
        "trusted": false
      },
      "cell_type": "code",
      "source": "a = 2",
      "execution_count": 6,
      "outputs": []
    },
    {
      "metadata": {
        "ExecuteTime": {
          "end_time": "2019-08-02T00:23:13.008805Z",
          "start_time": "2019-08-02T00:23:12.993108Z"
        },
        "trusted": false
      },
      "cell_type": "code",
      "source": "b",
      "execution_count": 7,
      "outputs": [
        {
          "data": {
            "text/plain": "1"
          },
          "execution_count": 7,
          "metadata": {},
          "output_type": "execute_result"
        }
      ]
    },
    {
      "metadata": {},
      "cell_type": "markdown",
      "source": "Iniciando multiplas variaveis com valores diferentes."
    },
    {
      "metadata": {
        "ExecuteTime": {
          "end_time": "2019-08-02T00:24:21.863258Z",
          "start_time": "2019-08-02T00:24:21.85069Z"
        },
        "trusted": false
      },
      "cell_type": "code",
      "source": "a, b, c = 1, 2, 'oi'",
      "execution_count": 8,
      "outputs": []
    },
    {
      "metadata": {
        "ExecuteTime": {
          "end_time": "2019-08-02T00:24:24.686412Z",
          "start_time": "2019-08-02T00:24:24.649058Z"
        },
        "trusted": false
      },
      "cell_type": "code",
      "source": "a",
      "execution_count": 9,
      "outputs": [
        {
          "data": {
            "text/plain": "1"
          },
          "execution_count": 9,
          "metadata": {},
          "output_type": "execute_result"
        }
      ]
    },
    {
      "metadata": {
        "ExecuteTime": {
          "end_time": "2019-08-02T00:24:25.496974Z",
          "start_time": "2019-08-02T00:24:25.47522Z"
        },
        "trusted": false
      },
      "cell_type": "code",
      "source": "b",
      "execution_count": 10,
      "outputs": [
        {
          "data": {
            "text/plain": "2"
          },
          "execution_count": 10,
          "metadata": {},
          "output_type": "execute_result"
        }
      ]
    },
    {
      "metadata": {
        "ExecuteTime": {
          "end_time": "2019-08-02T00:24:27.128435Z",
          "start_time": "2019-08-02T00:24:27.11475Z"
        },
        "trusted": false
      },
      "cell_type": "code",
      "source": "c",
      "execution_count": 11,
      "outputs": [
        {
          "data": {
            "text/plain": "'oi'"
          },
          "execution_count": 11,
          "metadata": {},
          "output_type": "execute_result"
        }
      ]
    },
    {
      "metadata": {},
      "cell_type": "markdown",
      "source": "# Usando multiplas linhas em um codigo"
    },
    {
      "metadata": {
        "ExecuteTime": {
          "end_time": "2019-08-02T00:28:39.95612Z",
          "start_time": "2019-08-02T00:28:39.936926Z"
        },
        "trusted": false
      },
      "cell_type": "code",
      "source": "a = b = c = 1",
      "execution_count": 12,
      "outputs": []
    },
    {
      "metadata": {
        "ExecuteTime": {
          "end_time": "2019-08-02T00:28:59.826608Z",
          "start_time": "2019-08-02T00:28:59.814194Z"
        },
        "trusted": false
      },
      "cell_type": "code",
      "source": "total = a + \\\n        b + \\\n        c",
      "execution_count": 13,
      "outputs": []
    },
    {
      "metadata": {
        "ExecuteTime": {
          "end_time": "2019-08-02T00:29:02.823393Z",
          "start_time": "2019-08-02T00:29:02.800824Z"
        },
        "trusted": false
      },
      "cell_type": "code",
      "source": "total",
      "execution_count": 14,
      "outputs": [
        {
          "data": {
            "text/plain": "3"
          },
          "execution_count": 14,
          "metadata": {},
          "output_type": "execute_result"
        }
      ]
    },
    {
      "metadata": {},
      "cell_type": "markdown",
      "source": "- Como deletar varias variaveis em uma unica linha?"
    },
    {
      "metadata": {
        "ExecuteTime": {
          "end_time": "2019-08-02T00:34:07.409518Z",
          "start_time": "2019-08-02T00:34:07.395181Z"
        },
        "trusted": false
      },
      "cell_type": "code",
      "source": "del a, b, c",
      "execution_count": 19,
      "outputs": []
    },
    {
      "metadata": {
        "ExecuteTime": {
          "end_time": "2019-08-22T17:56:44.433169Z",
          "start_time": "2019-08-22T17:56:44.421335Z"
        },
        "trusted": false
      },
      "cell_type": "code",
      "source": "import datetime\n\nagora = datetime.datetime.now()\nprint(f'{agora:%Y-%m-%d %H:%M}')\nprint()\nprint(f'{agora:%H:%M %d/%m/%Y}')",
      "execution_count": 5,
      "outputs": [
        {
          "name": "stdout",
          "output_type": "stream",
          "text": "2019-08-22 17:56\n\n17:56 22/08/2019\n"
        }
      ]
    },
    {
      "metadata": {
        "ExecuteTime": {
          "end_time": "2019-08-22T17:56:49.013592Z",
          "start_time": "2019-08-22T17:56:49.005845Z"
        },
        "trusted": false
      },
      "cell_type": "code",
      "source": "import math\n\npi = math.pi\n\nprint(f'{pi:.2f}')\nprint()\nprint(f'{pi:.7f}')",
      "execution_count": 6,
      "outputs": [
        {
          "name": "stdout",
          "output_type": "stream",
          "text": "3.14\n\n3.1415927\n"
        }
      ]
    },
    {
      "metadata": {
        "ExecuteTime": {
          "end_time": "2019-08-22T17:56:51.922504Z",
          "start_time": "2019-08-22T17:56:51.916478Z"
        },
        "trusted": false
      },
      "cell_type": "code",
      "source": "for x in range(1, 11):\n    print(f'{x:02} {x*x:3} {x*x*x:4}')",
      "execution_count": 7,
      "outputs": [
        {
          "name": "stdout",
          "output_type": "stream",
          "text": "01   1    1\n02   4    8\n03   9   27\n04  16   64\n05  25  125\n06  36  216\n07  49  343\n08  64  512\n09  81  729\n10 100 1000\n"
        }
      ]
    },
    {
      "metadata": {},
      "cell_type": "markdown",
      "source": "Referencias:\n\nhttps://pyformat.info/\n\nhttps://www.w3schools.com/python/ref_string_format.asp\n\nhttps://www.w3schools.com/python/python_ref_string.asp\n\nhttps://www.programiz.com/python-programming/methods/string\n\nhttps://docs.python.org/3/library/stdtypes.html\n\nhttps://www.quackit.com/python/reference/python_3_string_methods.cfm\n\nhttps://www.tutorialspoint.com/python3/python_strings.htm\n\nhttps://www.geeksforgeeks.org/python-strings/"
    },
    {
      "metadata": {},
      "cell_type": "markdown",
      "source": "## Desafios\n\n- Bob do MIT\n\n- Atualizar valor na base FIFA"
    },
    {
      "metadata": {
        "trusted": false
      },
      "cell_type": "code",
      "source": "",
      "execution_count": null,
      "outputs": []
    }
  ],
  "metadata": {
    "kernelspec": {
      "name": "python3",
      "display_name": "Python 3",
      "language": "python"
    },
    "language_info": {
      "mimetype": "text/x-python",
      "nbconvert_exporter": "python",
      "name": "python",
      "pygments_lexer": "ipython3",
      "version": "3.5.4",
      "file_extension": ".py",
      "codemirror_mode": {
        "version": 3,
        "name": "ipython"
      }
    }
  },
  "nbformat": 4,
  "nbformat_minor": 1
}